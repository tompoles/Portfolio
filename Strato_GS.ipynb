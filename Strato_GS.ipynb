{
  "nbformat": 4,
  "nbformat_minor": 0,
  "metadata": {
    "colab": {
      "name": "Copy of Copy of Strato_GS.ipynb",
      "provenance": [],
      "collapsed_sections": [],
      "include_colab_link": true
    },
    "kernelspec": {
      "name": "python3",
      "display_name": "Python 3"
    }
  },
  "cells": [
    {
      "cell_type": "markdown",
      "metadata": {
        "id": "view-in-github",
        "colab_type": "text"
      },
      "source": [
        "<a href=\"https://colab.research.google.com/github/tompoles/Portfolio/blob/master/Strato_GS.ipynb\" target=\"_parent\"><img src=\"https://colab.research.google.com/assets/colab-badge.svg\" alt=\"Open In Colab\"/></a>"
      ]
    },
    {
      "cell_type": "code",
      "metadata": {
        "id": "VRTwxnB7eW1_"
      },
      "source": [
        "import numpy as np\n",
        "import pandas as pd\n",
        "import matplotlib.pyplot as plt\n",
        "import seaborn as sns\n",
        "from termcolor import colored as cl\n",
        "import openpyxl\n",
        "import xlrd "
      ],
      "execution_count": null,
      "outputs": []
    },
    {
      "cell_type": "code",
      "metadata": {
        "id": "J0SvqJDbeGiT"
      },
      "source": [
        "# Code to get data directly from google sheet - authorization is needed\n",
        "from google.colab import auth\n",
        "auth.authenticate_user()\n",
        "import gspread\n",
        "from oauth2client.client import GoogleCredentials\n",
        "# setup\n",
        "gc = gspread.authorize(GoogleCredentials.get_application_default())\n",
        "# read data and put it in a dataframe\n",
        "gsheets = gc.open_by_url('https://docs.google.com/spreadsheets/d/1GAdGLGTwJ5sRcGDXJHbu6mU7_jIljODpDMBTelfg9Fo/edit?ts=601173f2#gid=313717327')\n",
        "sheets = gsheets.worksheet('import').get_all_values()"
      ],
      "execution_count": null,
      "outputs": []
    },
    {
      "cell_type": "code",
      "metadata": {
        "id": "PIXPJDY4kGcr"
      },
      "source": [
        "# Transformation of sheet to dataframe\n",
        "df3 = pd.DataFrame.from_records(sheets)\n",
        "df3.columns=pd.MultiIndex.from_arrays(df3.iloc[0:5].values) # determination of headers from the sheet\n",
        "df3=df3.iloc[5:] # determination of headers from the sheet\n",
        "df3.columns = [' '.join(col).strip() for col in df3.columns.values]"
      ],
      "execution_count": null,
      "outputs": []
    },
    {
      "cell_type": "code",
      "metadata": {
        "id": "74jvHgW9-qXz"
      },
      "source": [
        "# Creating new datframe to fully-aplied pandas function\n",
        "df = df3.copy()\n",
        "df.to_csv('test.csv') # saving to csv\n",
        "df = pd.read_csv('test.csv', delimiter=',', header=[0], sep=',\\s+', encoding=\"utf-8\", skipinitialspace=True) # reopening for better manipulation\n",
        "df = df.fillna(0) # filling NA with 0\n",
        "df = df.drop(columns=['Unnamed: 0']) # dropping unwanted column\n",
        "df = df.rename(columns={ df.columns[0]: \"metric\" ,df.columns[1]: \"year\", df.columns[2]: \"quarter\", df.columns[3]: \"month\" }) "
      ],
      "execution_count": null,
      "outputs": []
    },
    {
      "cell_type": "code",
      "metadata": {
        "id": "D0Q2H4o7Vlur"
      },
      "source": [
        "# Modification of entry table for further possible operation\n",
        "# df1 = df[df.index > 872 ] # determination of max useful rows -> if there will be changing in core datasets accordingly to adding rows, there is need to do proportional change of df \n",
        "# df = df.drop(df1.index, axis=0) # dropping of unnecessarily rows from dataframe"
      ],
      "execution_count": null,
      "outputs": []
    },
    {
      "cell_type": "code",
      "metadata": {
        "id": "ESb8rHgbD3SX"
      },
      "source": [
        "df['month'] = df.month.replace({'-': 0}, regex=True) # replacing unwanted characters in month string to change the data type\n",
        "df['month'] = df['month'].astype(int) # Change data type from object to int\n",
        "df['year'] = df['year'].astype(str)"
      ],
      "execution_count": null,
      "outputs": []
    },
    {
      "cell_type": "code",
      "metadata": {
        "id": "fa18kaZw2b87",
        "colab": {
          "base_uri": "https://localhost:8080/"
        },
        "outputId": "a0614915-176f-404c-ee0c-3e090ae7f4d0"
      },
      "source": [
        "#cols = [0,1,2,3,4,6,8,10,12,14,15,16,17,18,19,20,21,22,23,24,25,26,27,28,29,30,31,32,35,37,39,41,43,45,47,48,49,50,51,52,53,54,55,56,57,58,59,60,61,62,63,65,67,69,73,75,77,79,81,83,85,87,89,90,91,92,93,94,95,96,97,98,99,100,101,102,103,104,105,107,111,112,113,114,115,116,117,118,119,120,121,122,124,125,126,127,128,129,130,131,132,133,134,135,137,140,141,142,143,144,145,146,147,148,149,150,151,152,153,154,155,156,157,158,161,162,163,164,166,167,177,182]\n",
        "cols = [0,1,2,3,4,6,8,10,12,14,15,16,17,18,19,20,21,22,23,24,25,26,27,28,29,30,31,32,33,36,38,40,42,44,46,48,49,50,51,52,53,54,55,56,57,58,59,60,61,62,63,64,66,68,70,74,76,78,80,82,84,86,88,90,91,92,93,94,95,96,97,98,99,100,101,102,103,104,105,106,108,112,113,114,115,116,117,118,119,120,121,122,123,125,126,127,128,129,130,131,132,133,134,135,136,138,141,142,143,144,145,146,147,148,149,150,151,152,153,154,155,156,157,158,159,162,163,164,165,167,168,183]\n",
        "df.info()\n",
        "cols = [df.columns[x] for x in cols]\n",
        "df = df[cols]\n",
        "df = df.rename(columns={ df.columns[0]: \"metric\" ,df.columns[1]: \"year\", df.columns[2]: \"quarter\", df.columns[3]: \"month\" })\n",
        "df = df[df[\"month\"].isin([1,2,3,4,5,6,7,8,9,10,11,12])]\n",
        "df = df.set_index([\"metric\",\"year\",\"quarter\",\"month\"])\n",
        "df = df.stack().reset_index()\n",
        "df = df.rename({\"level_4\":\"group\", 0:\"value\"}, axis=1)\n",
        "df = df.pivot_table(index=['group','year','month'], columns='metric', values=[\"value\"],aggfunc='sum').reset_index()"
      ],
      "execution_count": null,
      "outputs": [
        {
          "output_type": "stream",
          "text": [
            "<class 'pandas.core.frame.DataFrame'>\n",
            "RangeIndex: 1169 entries, 0 to 1168\n",
            "Columns: 192 entries, metric to Unnamed: 192\n",
            "dtypes: float64(9), int64(1), object(182)\n",
            "memory usage: 1.7+ MB\n"
          ],
          "name": "stdout"
        }
      ]
    },
    {
      "cell_type": "code",
      "metadata": {
        "id": "Xj0GCJ8A1eLF"
      },
      "source": [
        "df['year'] = df['year'].map(lambda x: x.rstrip('0').rstrip('.'))\n",
        "df['group'] = df['group'].str.replace('\\d+', '')"
      ],
      "execution_count": null,
      "outputs": []
    },
    {
      "cell_type": "code",
      "metadata": {
        "id": "ZWQE9qOTlR2H"
      },
      "source": [
        "df['group'] = df['group'].replace(' BB Total BB BB/Franchise','B2B')"
      ],
      "execution_count": null,
      "outputs": []
    },
    {
      "cell_type": "code",
      "metadata": {
        "id": "eKAwFxwO5mWw"
      },
      "source": [
        "# Creating 3 subcolumns to sort data accordint to channel, banner and country\n",
        "df['channel'] = np.where(df.group.str.contains('B&M'), 'B&M', 'None') \n",
        "df['banner'] = np.where(df.group.str.contains('FTB'), 'FTB', 'None')\n",
        "df['country'] = np.where(df.group.str.contains('CZ'), 'CZ', 'None')"
      ],
      "execution_count": null,
      "outputs": []
    },
    {
      "cell_type": "code",
      "metadata": {
        "id": "1hFFwX-C6LCO"
      },
      "source": [
        "# Selecting data to channel column according to channel in group string\n",
        "df['channel'] = np.where(df.group.str.contains('B&M'), 'B&M', df.channel) \n",
        "df['channel'] = np.where(df.group.str.contains('E-com'), 'E-com', df.channel) \n",
        "df['channel'] = np.where(df.group.str.contains('B2B'), 'B2B', df.channel)\n",
        "#df['channel'] = np.where(df.group.str.contains('Other'), 'Other', df.channel)\n",
        "df['channel'] = np.where(df.group.str.contains('Marketplace'), 'Marketplace', df.channel)\n",
        "df['channel'] = np.where(df.group.str.contains('Teamsales'), 'Teamsales', df.channel)\n",
        "df['channel'] = np.where(df.group.str.contains('Other.2'), 'Other', df.channel)\n",
        "# df['channel'] = np.where(df.group.str.contains('xy'), 'xy', df.channel) - possible of adding new acquisitions that have xy in channel"
      ],
      "execution_count": null,
      "outputs": []
    },
    {
      "cell_type": "code",
      "metadata": {
        "id": "MibbqJUwYku_"
      },
      "source": [
        "# Selecting data to banner column according to banner in group string\n",
        "df['banner'] = np.where(df.group.str.contains('FTB'), 'FTB', df.banner)\n",
        "df['banner'] = np.where(df.group.str.contains('RUN'), 'RUN', df.banner)\n",
        "df['banner'] = np.where(df.group.str.contains('B2B'), 'B2B', df.banner)\n",
        "df['banner'] = np.where(df.group.str.contains('FIT'), 'FIT', df.banner)\n",
        "df['banner'] = np.where(df.group.str.contains('Other'), 'Other', df.banner)\n",
        "df['banner'] = np.where(df.group.str.contains('SPORT'), 'SPORT', df.banner)\n",
        "df['banner'] = np.where(df.group.str.contains('STR'), 'STR', df.banner)\n",
        "df['banner'] = np.where(df.group.str.contains('Marketplace'), 'Marketplace', df.banner)\n",
        "df['banner'] = np.where(df.group.str.contains('Other.2'), 'Other', df.banner)\n",
        "# df['banner'] = np.where(df.group.str.contains('xy'), 'xy', df.banner) - possible of adding new acquisitions that have xy in banner "
      ],
      "execution_count": null,
      "outputs": []
    },
    {
      "cell_type": "code",
      "metadata": {
        "id": "QjrhjDlxYdkg"
      },
      "source": [
        "# Selecting data to country column according to country in group string\n",
        "df['country'] = np.where(df.group.str.contains('CZ'), 'cz', df.country)\n",
        "df['country'] = np.where(df.group.str.contains('cz'), 'cz', df.country)\n",
        "df['country'] = np.where(df.group.str.contains('sk'), 'sk', df.country)\n",
        "df['country'] = np.where(df.group.str.contains('SK'), 'sk', df.country)\n",
        "df['country'] = np.where(df.group.str.contains('de'), 'de', df.country)\n",
        "df['country'] = np.where(df.group.str.contains('Unnamed'), 'Unnamed', df.country)\n",
        "df['country'] = np.where(df.group.str.contains('at'), 'at', df.country)\n",
        "df['country'] = np.where(df.group.str.contains('be'), 'be', df.country)\n",
        "df['country'] = np.where(df.group.str.contains('de'), 'de', df.country)\n",
        "df['country'] = np.where(df.group.str.contains(' com'), 'com', df.country)\n",
        "df['country'] = np.where(df.group.str.contains('dk'), 'dk', df.country)\n",
        "df['country'] = np.where(df.group.str.contains(' es'), 'es', df.country)\n",
        "df['country'] = np.where(df.group.str.contains('fr'), 'fr', df.country)\n",
        "df['country'] = np.where(df.group.str.contains('hr'), 'hr', df.country)\n",
        "df['country'] = np.where(df.group.str.contains('hu'), 'hu', df.country)\n",
        "df['country'] = np.where(df.group.str.contains('it'), 'it', df.country)\n",
        "df['country'] = np.where(df.group.str.contains('nl'), 'nl', df.country)\n",
        "df['country'] = np.where(df.group.str.contains('pl'), 'pl', df.country)\n",
        "df['country'] = np.where(df.group.str.contains('ro'), 'ro', df.country)\n",
        "df['country'] = np.where(df.group.str.contains('de'), 'de', df.country)\n",
        "df['country'] = np.where(df.group.str.contains('se'), 'se', df.country)\n",
        "df['country'] = np.where(df.group.str.contains('uk'), 'uk', df.country)\n",
        "df['country'] = np.where(df.group.str.contains('11TS CEE'), '11TS CEE', df.country)\n",
        "df['country'] = np.where(df.group.str.contains('CEE'), 'CEE', df.country)\n",
        "#df['country'] = np.where(df.group.str.contains('STR'), 'CEE', df.country)\n",
        "df['country'] = np.where(df.group.str.contains('B2B'), 'B2B', df.country)\n",
        "df['country'] = np.where(df.group.str.contains('E-com  Other'), 'Other', df.country)\n",
        "df['country'] = np.where(df.group.str.contains('Other.2'), 'Other', df.country)\n",
        "df['country'] = np.where(df.group.str.contains('Marketplace'), 'Marketplace', df.country)\n",
        "df['country'] = np.where(df.group.str.contains('ie'), 'ie', df.country)\n",
        "df['country'] = np.where(df.group.str.contains('bg'), 'bg', df.country)\n",
        "df['country'] = np.where(df.group.str.contains('lv'), 'lv', df.country)\n",
        "df['country'] = np.where(df.group.str.contains('ee'), 'ee', df.country)\n",
        "df['country'] = np.where(df.group.str.contains('si'), 'si', df.country)\n",
        "df['country'] = np.where(df.group.str.contains('lt'), 'lt', df.country)\n",
        "df['country'] = np.where(df.group.str.contains('gr'), 'gr', df.country)\n",
        "df['country'] = np.where(df.group.str.contains('fi'), 'fi', df.country)\n",
        "df['country'] = np.where(df.group.str.contains('pt'), 'pt', df.country)\n",
        "# df['country'] = np.where(df.group.str.contains('xy'), 'xy', df.country) - possible of adding new acquisitions that have xy in country"
      ],
      "execution_count": null,
      "outputs": []
    },
    {
      "cell_type": "code",
      "metadata": {
        "id": "PSawJig6YqQa"
      },
      "source": [
        "# Modification of date columns\n",
        "df['monthdays'] = pd.to_datetime(df['year'].astype(str)  + \\\n",
        "                                   df['month'].astype(str), format='%Y%m').dt.daysinmonth # definition of number of days in selected month\n",
        "df['year'] = df['year'].astype(str) # change of data type\n",
        "df['month'] = df['month'].astype(str) # change of data type\n",
        "df['date'] = df['year'].astype(str)+'-'+df['month'] # change of data type and concating year and month\n",
        "df['date'] = pd.to_datetime(df['date'], format='%Y-%m') # change of data type to 'date' type for further modification"
      ],
      "execution_count": null,
      "outputs": []
    },
    {
      "cell_type": "code",
      "metadata": {
        "id": "FSEtdz6oYtcM"
      },
      "source": [
        "# dropping the index for subsequent manipulation \n",
        "df.columns = df.columns.map(''.join)"
      ],
      "execution_count": null,
      "outputs": []
    },
    {
      "cell_type": "code",
      "metadata": {
        "id": "qjIthODFZS_V"
      },
      "source": [
        "# renaming of the selected columns\n",
        "df = df.rename(columns={df.columns[0]: \"jointable\", df.columns[3]: \"DEL\" , df.columns[4]: \"Delivery%\", df.columns[5]: \"EBIT\", df.columns[6]: \"Fees\",\n",
        "                        df.columns[7]: \"Fees%\", df.columns[8]: \"GM\", df.columns[9]: \"GM%\", df.columns[10]: \"Kickbacks\",\n",
        "                        df.columns[11]: \"MIR\" , df.columns[12]: \"MIR%\", df.columns[13]: \"Mktg systems\", df.columns[14]: \"Net Contribution\",\n",
        "                        df.columns[15]: \"OPEX\" , df.columns[16]: \"Other OPEX\", df.columns[17]: \"Other Marketing\", df.columns[18]: \"Outsourcing\",\n",
        "                        df.columns[19]: \"Returns\" , df.columns[20]: \"Returns%\", df.columns[21]: \"Revenues\", df.columns[22]: \"Wages\",\n",
        "                        df.columns[23]: \"Warehousing\"})"
      ],
      "execution_count": null,
      "outputs": []
    },
    {
      "cell_type": "code",
      "metadata": {
        "id": "G4lo_GE4Yvp3"
      },
      "source": [
        "# Functions to rearrange a columns position in a table \n",
        "def movecol(df, cols_to_move=[], ref_col='', place='After'):\n",
        "    \n",
        "    cols = df.columns.tolist()\n",
        "    if place == 'After':\n",
        "        seg1 = cols[:list(cols).index(ref_col) + 1]\n",
        "        seg2 = cols_to_move\n",
        "    if place == 'Before':\n",
        "        seg1 = cols[:list(cols).index(ref_col)]\n",
        "        seg2 = cols_to_move + [ref_col]\n",
        "    \n",
        "    seg1 = [i for i in seg1 if i not in seg2]\n",
        "    seg3 = [i for i in cols if i not in seg1 + seg2]\n",
        "    \n",
        "    return(df[seg1 + seg2 + seg3])"
      ],
      "execution_count": null,
      "outputs": []
    },
    {
      "cell_type": "code",
      "metadata": {
        "id": "mkg68XTjYyWl"
      },
      "source": [
        "# perform the 'movecol' function \n",
        "df = movecol(df, \n",
        "             cols_to_move=['channel','banner', 'country', 'monthdays', 'date'], \n",
        "             ref_col='jointable',\n",
        "             place='After')"
      ],
      "execution_count": null,
      "outputs": []
    },
    {
      "cell_type": "code",
      "metadata": {
        "id": "jiFzRAqZY3ah"
      },
      "source": [
        "# creation of daily dates and daily date \n",
        "df = df.loc[df.index.repeat(df.monthdays)] # insert multiple rows as is the count of the monthdays\n",
        "df['day'] = df.groupby(level=0).cumcount() + 1 # sequential nums of days\n",
        "df['date'] = pd.to_datetime(df[[\"year\", \"month\", \"day\"]]) # defined of date from previous defined variables\n",
        "df['date'] = df['date'].dt.date # removing default time from date coloumn\n",
        "df = df.drop(columns=['day']) # drop day coloumn"
      ],
      "execution_count": null,
      "outputs": []
    },
    {
      "cell_type": "code",
      "metadata": {
        "id": "0LG1Vl9KEMpV"
      },
      "source": [
        "# removing the whitespace in df strings\n",
        "df['EBIT'].replace('\\s+', '',regex=True,inplace=True)\n",
        "df['DEL'].replace('\\s+', '',regex=True,inplace=True)\n",
        "df['Fees'].replace('\\s+', '',regex=True,inplace=True)\n",
        "df['GM'].replace('\\s+', '',regex=True,inplace=True)\n",
        "df['Kickbacks'].replace('\\s+', '',regex=True,inplace=True)\n",
        "df['MIR'].replace('\\s+', '',regex=True,inplace=True)\n",
        "df['Mktg systems'].replace('\\s+', '',regex=True,inplace=True)\n",
        "df['Net Contribution'].replace('\\s+', '',regex=True,inplace=True)\n",
        "df['OPEX'].replace('\\s+', '',regex=True,inplace=True)\n",
        "df['Other OPEX'].replace('\\s+', '',regex=True,inplace=True)\n",
        "df['Other Marketing'].replace('\\s+', '',regex=True,inplace=True)\n",
        "df['Outsourcing'].replace('\\s+', '',regex=True,inplace=True)\n",
        "df['Returns'].replace('\\s+', '',regex=True,inplace=True)\n",
        "df['Revenues'].replace('\\s+', '',regex=True,inplace=True)\n",
        "df['Wages'].replace('\\s+', '',regex=True,inplace=True)\n",
        "df['Warehousing'].replace('\\s+', '',regex=True,inplace=True)"
      ],
      "execution_count": null,
      "outputs": []
    },
    {
      "cell_type": "code",
      "metadata": {
        "id": "zFM5PiUQekzb"
      },
      "source": [
        "# Uprava formy promennych\n",
        "df['monthdays'] = df['monthdays'].astype(int) # change of data type to int\n",
        "# df1.replace('\\s+', '',regex=True,inplace=True) # removing the whitespace in df strings\n",
        "df['EBIT'] = df['EBIT'].str.strip('( )').str.strip('%').replace(',', '.', regex=True).astype(float) # getting rid of ( ) in EBIT var and change to float"
      ],
      "execution_count": null,
      "outputs": []
    },
    {
      "cell_type": "code",
      "metadata": {
        "id": "Mm-6YlHXrbGF"
      },
      "source": [
        "df['DEL'] = df['DEL'].replace(\"-\", np.nan)\n",
        "df['DEL'] = df['DEL'].replace({',': '.'}, regex=True)\n",
        "df['DEL'] = df['DEL'].str.rstrip('%').astype(float) / 100.0"
      ],
      "execution_count": null,
      "outputs": []
    },
    {
      "cell_type": "code",
      "metadata": {
        "id": "0DGn8DXvl8tP"
      },
      "source": [
        "# df['Delivery%'] = df['Delivery%'].replace(\"-\", np.nan)\n",
        "# df['Delivery%'] = df['Delivery%'].replace({',': '.'}, regex=True)\n",
        "# df['Delivery%'] = df['Delivery%'].str.rstrip('%').astype(float) / 100.0\n",
        "# df['Fees%'] = df['Fees%'].replace(\"-\", np.nan)\n",
        "# df['Fees%'] = df['Fees%'].replace({',': '.'}, regex=True)\n",
        "# df['Fees%'] = df['Fees%'].str.rstrip('%').astype(float) / 100.0\n",
        "# df['GM%'] = df['GM%'].replace(\"-\", np.nan)\n",
        "# df['GM%'] = df['GM%'].replace({',': '.'}, regex=True)\n",
        "# df['GM%'] = df['GM%'].str.rstrip('%').astype(float) / 100.0\n",
        "# df['MIR%'] = df['MIR%'].replace(\"-\", np.nan)\n",
        "# df['MIR%'] = df['MIR%'].replace({',': '.'}, regex=True)\n",
        "# df['MIR%'] = df['MIR%'].str.rstrip('%').astype(float) / 100.0\n",
        "# df['Returns%'] = df['Returns%'].replace(\"-\", np.nan)\n",
        "# df['Returns%'] = df['Returns%'].replace({',': '.'}, regex=True)\n",
        "# df['Returns%'] = df['Returns%'].str.rstrip('%').astype(float) / 100.0\n",
        "# df['MIR'] = df['MIR'].replace(\"+\", np.nan)\n",
        "# df['MIR'] = df['MIR'].replace({',': '.'}, regex=True)\n",
        "# df['MIR'] = df['MIR'].str.rstrip('%').astype(float) / 100.0\n",
        "# df['Fees'] = df['Fees'].replace(\"+\", np.nan)\n",
        "# df['Fees'] = df['Fees'].replace({',': '.'}, regex=True)\n",
        "# df['Fees'] = df['Fees'].str.rstrip('%').astype(float) / 100.0\n",
        "# df['GM'] = df['GM'].replace(\"+\", np.nan)\n",
        "# df['GM'] = df['GM'].replace({',': '.'}, regex=True)\n",
        "# df['GM'] = df['GM'].str.rstrip('%').astype(float) / 100.0\n",
        "# df['Returns'] = df['Returns'].replace(\"+\", np.nan)\n",
        "# df['Returns'] = df['Returns'].replace({',': '.'}, regex=True)\n",
        "# df['Returns'] = df['Returns'].str.rstrip('%').astype(float) / 100.0\n",
        "# df['Revenues'] = df['Returns'].replace(\"+\", np.nan)\n",
        "# df['Returns'] = df['Returns'].replace({',': '.'}, regex=True)\n",
        "# df['Returns'] = df['Returns'].str.rstrip('%').astype(float) / 100.0"
      ],
      "execution_count": null,
      "outputs": []
    },
    {
      "cell_type": "code",
      "metadata": {
        "id": "kfLZikXmXVPC"
      },
      "source": [
        "# Change of the data type of calculated variables from object to float\n",
        "df[['DEL', 'Fees', 'GM', 'Kickbacks', \n",
        "     'MIR', 'Mktg systems', 'Net Contribution', 'OPEX', 'Other OPEX', \n",
        "     'Other Marketing', 'Outsourcing', 'Returns', 'Revenues', 'Wages', \n",
        "     'Warehousing']] = df[['DEL',  'Fees', 'GM',\n",
        "                            'Kickbacks', 'MIR', 'Mktg systems', 'Net Contribution', 'OPEX', 'Other OPEX', 'Other Marketing', \n",
        "                            'Outsourcing', 'Returns', 'Revenues', 'Wages', 'Warehousing']].astype(float)"
      ],
      "execution_count": null,
      "outputs": []
    },
    {
      "cell_type": "code",
      "metadata": {
        "id": "lRbda3cdXf9y"
      },
      "source": [
        "# div calculated variables by monthdays count to get data by days\n",
        "df[['DEL', 'EBIT',  'Fees', 'GM', 'Kickbacks', \n",
        "    'MIR', 'Mktg systems', 'Net Contribution', \n",
        "    'OPEX', 'Other OPEX', 'Other Marketing', \n",
        "    'Outsourcing', 'Returns', 'Revenues', 'Wages', \n",
        "    'Warehousing']] = df[['DEL', 'EBIT', 'Fees', \n",
        "    'GM', 'Kickbacks', 'MIR', 'Mktg systems', \n",
        "    'Net Contribution', 'OPEX', 'Other OPEX', 'Other Marketing', \n",
        "    'Outsourcing', 'Returns', 'Revenues', 'Wages', 'Warehousing']].div(df['monthdays'].values,axis=0).round(4)"
      ],
      "execution_count": null,
      "outputs": []
    },
    {
      "cell_type": "code",
      "metadata": {
        "id": "WqbRlplBmdxj"
      },
      "source": [
        "df['Join short'] = df['channel'] + '-' + df['banner'] + '-' + df['country']"
      ],
      "execution_count": null,
      "outputs": []
    },
    {
      "cell_type": "code",
      "metadata": {
        "id": "bfagKOFWxTbC"
      },
      "source": [
        "# # Code to get data directly from google sheet - authorization is needed\n",
        "gc2 = gspread.authorize(GoogleCredentials.get_application_default())\n",
        "# read data and put it in a dataframe\n",
        "gsheets2 = gc2.open_by_url('https://docs.google.com/spreadsheets/d/1UsHDfi6_vECaUwzWwWUoBvWe7LsqaW_wQhcW6YpGfVk/edit?ts=603667d3#gid=1974251602')\n",
        "sheets2 = gsheets2.worksheet('AOV').get_all_values()\n",
        "sheets3 = gsheets2.worksheet('CR').get_all_values()\n",
        "sheets4 = gsheets2.worksheet('Delivery Ratio').get_all_values()"
      ],
      "execution_count": null,
      "outputs": []
    },
    {
      "cell_type": "code",
      "metadata": {
        "id": "WAiZ4U6h0cj4"
      },
      "source": [
        "df_aov = pd.DataFrame.from_records(sheets2)\n",
        "df_cr = pd.DataFrame.from_records(sheets3)\n",
        "df_cr.columns = df_cr.iloc[0]\n",
        "df_cr = df_cr.drop(df_cr.index[0])\n",
        "df_del_rat = pd.DataFrame.from_records(sheets4)\n",
        "df_del_rat.columns = df_del_rat.iloc[0]\n",
        "df_del_rat = df_del_rat.drop(df_del_rat.index[0])"
      ],
      "execution_count": null,
      "outputs": []
    },
    {
      "cell_type": "code",
      "metadata": {
        "id": "wQNb2uedODVs"
      },
      "source": [
        "df_aov.columns = ['banner', 'AOV']\n",
        "df_aov = df_aov.apply(lambda x: x.str.replace(',','.'))\n",
        "df_aov['AOV'] = df_aov['AOV'].astype(float)\n",
        "df_cr = df_cr.apply(lambda x: x.str.replace(',','.'))\n",
        "df_cr['CR'] = df_cr['CR'].astype(float)\n",
        "df_del_rat = df_del_rat.apply(lambda x: x.str.replace(',','.'))\n",
        "df_del_rat['Delivery ratio real'] = df_del_rat['Delivery ratio real'].str.rstrip('%').astype('float') / 100.0"
      ],
      "execution_count": null,
      "outputs": []
    },
    {
      "cell_type": "code",
      "metadata": {
        "id": "O3XBZ4k0pWb4"
      },
      "source": [
        "# Creating of the AOV column\n",
        "result = pd.merge(df, df_aov, how=\"left\", on=['banner'])"
      ],
      "execution_count": null,
      "outputs": []
    },
    {
      "cell_type": "code",
      "metadata": {
        "id": "b6a-a3yUxXWi"
      },
      "source": [
        "# Creating of the CR column\n",
        "# df_cr['Join'] = df_cr['Join'].replace('-', ' ',regex=True)\n",
        "df_cr.rename(columns={'Join':'Join short'}, inplace=True)\n",
        "# result['jointable'] = result['jointable'].replace('-', ' ',regex=True)"
      ],
      "execution_count": null,
      "outputs": []
    },
    {
      "cell_type": "code",
      "metadata": {
        "id": "QPFv9Yx7OcTn"
      },
      "source": [
        "result2 = pd.merge(result, df_cr, how='left', on=['Join short'])"
      ],
      "execution_count": null,
      "outputs": []
    },
    {
      "cell_type": "code",
      "metadata": {
        "id": "w7Omm6xG1y4E"
      },
      "source": [
        "# Creating of the Delivery ratio real column\n",
        "df_del_rat.rename(columns={'Join Plan 2021':'Join short'}, inplace=True)\n",
        "# df_del_rat['jointable'] = df_del_rat['jointable'].replace('-', ' ',regex=True)\n",
        "result3 = pd.merge(result2, df_del_rat, how=\"left\", on=['Join short'])"
      ],
      "execution_count": null,
      "outputs": []
    },
    {
      "cell_type": "code",
      "metadata": {
        "id": "Y1hq9YsG8RHQ"
      },
      "source": [
        "df = result3.copy()"
      ],
      "execution_count": null,
      "outputs": []
    },
    {
      "cell_type": "code",
      "metadata": {
        "id": "OmukQEwPLvJS"
      },
      "source": [
        "# assigning data only to a specified channel\n",
        "df['AOV'] = np.where(df.channel.str.contains('E-com'), df.AOV, 0)"
      ],
      "execution_count": null,
      "outputs": []
    },
    {
      "cell_type": "code",
      "metadata": {
        "id": "1Pd4BKu-7zqM"
      },
      "source": [
        "# Creating 4 subcolumns to calculate new variables\n",
        "df['Order value'] = df['Revenues']/df['Delivery ratio real']\n",
        "df['Conversions'] = df['Order value']/df['AOV']\n",
        "df['Visits'] = df['Conversions']/df['CR']\n",
        "df['CPV '] = df['MIR']/df['Visits']"
      ],
      "execution_count": null,
      "outputs": []
    },
    {
      "cell_type": "code",
      "metadata": {
        "id": "QXWKxXSMU49p"
      },
      "source": [
        "# adjust df from % to float\n",
        "df['Delivery%'] = df['Delivery%'].replace(\"-\", np.nan)\n",
        "df['Delivery%'] = df['Delivery%'].replace({',': '.'}, regex=True)\n",
        "df['Delivery%'] = df['Delivery%'].str.rstrip('%').astype(float) / 100.0\n",
        "df['Fees%'] = df['Fees%'].replace(\"-\", np.nan)\n",
        "df['Fees%'] = df['Fees%'].replace({',': '.'}, regex=True)\n",
        "df['Fees%'] = df['Fees%'].str.rstrip('%').astype(float) / 100.0\n",
        "df['GM%'] = df['GM%'].replace(\"-\", np.nan)\n",
        "df['GM%'] = df['GM%'].replace({',': '.'}, regex=True)\n",
        "df['GM%'] = df['GM%'].str.rstrip('%').astype(float) / 100.0\n",
        "df['MIR%'] = df['MIR%'].replace(\"-\", np.nan)\n",
        "df['MIR%'] = df['MIR%'].replace({',': '.'}, regex=True)\n",
        "df['MIR%'] = df['MIR%'].str.rstrip('%').astype(float) / 100.0\n",
        "df['Returns%'] = df['Returns%'].replace(\"-\", np.nan)\n",
        "df['Returns%'] = df['Returns%'].replace({',': '.'}, regex=True)\n",
        "df['Returns%'] = df['Returns%'].str.rstrip('%').astype(float) / 100.0"
      ],
      "execution_count": null,
      "outputs": []
    },
    {
      "cell_type": "code",
      "metadata": {
        "id": "OFUo9xlG75m3"
      },
      "source": [
        "# Final modifications\n",
        "df_mod = df.copy()\n",
        "df_mod = df_mod[df.year != 2019]\n",
        "df_mod.set_index('jointable', inplace=True)\n",
        "df_mod = df_mod.rename(columns={'Delivery ratio real':'Delivery ratio'})"
      ],
      "execution_count": null,
      "outputs": []
    },
    {
      "cell_type": "code",
      "metadata": {
        "id": "xEh-SFaTCeYT"
      },
      "source": [
        "df_mod = df_mod[~df_mod['year'].isin(['2019'])]"
      ],
      "execution_count": null,
      "outputs": []
    },
    {
      "cell_type": "code",
      "metadata": {
        "id": "P0alIoFTbsu4"
      },
      "source": [
        "#df_mod['channel'] = np.where(df_mod.jointable.str.contains('E com'), 'E-com', df.channel)"
      ],
      "execution_count": null,
      "outputs": []
    },
    {
      "cell_type": "code",
      "metadata": {
        "id": "tgge6hI3XlO4"
      },
      "source": [
        "# Data preparation for Azure import\n",
        "df_mod[['year','month', 'Conversions', 'Visits', 'EBIT', \n",
        "    'Fees', 'GM', 'Kickbacks', 'MIR', 'Mktg systems', 'Net Contribution',  \n",
        "    'DEL', 'Other Marketing',  'Returns', 'Revenues', 'Wages', 'OPEX', 'Other OPEX', 'Warehousing']] = df_mod[['year','month', 'Conversions', 'Visits', 'EBIT', \n",
        "    'Fees', 'GM', 'Kickbacks', 'MIR', 'Mktg systems', 'Net Contribution',  \n",
        "    'DEL', 'Other Marketing', 'Returns', 'Revenues', 'Wages', 'OPEX', 'Other OPEX','Warehousing']].fillna(0).astype(np.int64)"
      ],
      "execution_count": null,
      "outputs": []
    },
    {
      "cell_type": "code",
      "metadata": {
        "id": "bJBuIW9W9JBI"
      },
      "source": [
        "df_mod['Order value'] = df_mod['Order value'].round(2)"
      ],
      "execution_count": null,
      "outputs": []
    },
    {
      "cell_type": "code",
      "metadata": {
        "id": "C16LdHgC-M9p"
      },
      "source": [
        "df_mod.to_excel('test2.xlsx')"
      ],
      "execution_count": null,
      "outputs": []
    },
    {
      "cell_type": "code",
      "metadata": {
        "id": "t-tLowhWC8dK",
        "colab": {
          "base_uri": "https://localhost:8080/"
        },
        "outputId": "1c4d6e79-de60-4577-dcb2-0bd60c426b91"
      },
      "source": [
        "df_mod.info()"
      ],
      "execution_count": null,
      "outputs": [
        {
          "output_type": "stream",
          "text": [
            "<class 'pandas.core.frame.DataFrame'>\n",
            "Index: 140288 entries,  E-com  FIT pt to  E-com  FIT pl\n",
            "Data columns (total 36 columns):\n",
            " #   Column            Non-Null Count   Dtype  \n",
            "---  ------            --------------   -----  \n",
            " 0   channel           140288 non-null  object \n",
            " 1   banner            140288 non-null  object \n",
            " 2   country           140288 non-null  object \n",
            " 3   monthdays         140288 non-null  int64  \n",
            " 4   date              140288 non-null  object \n",
            " 5   year              140288 non-null  int64  \n",
            " 6   month             140288 non-null  int64  \n",
            " 7   DEL               140288 non-null  int64  \n",
            " 8   Delivery%         88710 non-null   float64\n",
            " 9   EBIT              140288 non-null  int64  \n",
            " 10  Fees              140288 non-null  int64  \n",
            " 11  Fees%             88808 non-null   float64\n",
            " 12  GM                140288 non-null  int64  \n",
            " 13  GM%               93580 non-null   float64\n",
            " 14  Kickbacks         140288 non-null  int64  \n",
            " 15  MIR               140288 non-null  int64  \n",
            " 16  MIR%              88654 non-null   float64\n",
            " 17  Mktg systems      140288 non-null  int64  \n",
            " 18  Net Contribution  140288 non-null  int64  \n",
            " 19  OPEX              140288 non-null  int64  \n",
            " 20  Other OPEX        140288 non-null  int64  \n",
            " 21  Other Marketing   140288 non-null  int64  \n",
            " 22  Outsourcing       140288 non-null  float64\n",
            " 23  Returns           140288 non-null  int64  \n",
            " 24  Returns%          89325 non-null   float64\n",
            " 25  Revenues          140288 non-null  int64  \n",
            " 26  Wages             140288 non-null  int64  \n",
            " 27  Warehousing       140288 non-null  int64  \n",
            " 28  Join short        140288 non-null  object \n",
            " 29  AOV               139192 non-null  float64\n",
            " 30  CR                65760 non-null   float64\n",
            " 31  Delivery ratio    66856 non-null   float64\n",
            " 32  Order value       66856 non-null   float64\n",
            " 33  Conversions       140288 non-null  int64  \n",
            " 34  Visits            140288 non-null  int64  \n",
            " 35  CPV               53383 non-null   float64\n",
            "dtypes: float64(11), int64(20), object(5)\n",
            "memory usage: 39.6+ MB\n"
          ],
          "name": "stdout"
        }
      ]
    }
  ]
}