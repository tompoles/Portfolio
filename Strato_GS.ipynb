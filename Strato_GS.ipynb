{
  "nbformat": 4,
  "nbformat_minor": 0,
  "metadata": {
    "colab": {
      "name": "Strato_GS.ipynb",
      "provenance": [],
      "collapsed_sections": [],
      "authorship_tag": "ABX9TyOGFJRKGNTUommtj8nGRm3c",
      "include_colab_link": true
    },
    "kernelspec": {
      "name": "python3",
      "display_name": "Python 3"
    }
  },
  "cells": [
    {
      "cell_type": "markdown",
      "metadata": {
        "id": "view-in-github",
        "colab_type": "text"
      },
      "source": [
        "<a href=\"https://colab.research.google.com/github/tompoles/Portfolio/blob/master/Strato_GS.ipynb\" target=\"_parent\"><img src=\"https://colab.research.google.com/assets/colab-badge.svg\" alt=\"Open In Colab\"/></a>"
      ]
    },
    {
      "cell_type": "code",
      "metadata": {
        "id": "VRTwxnB7eW1_"
      },
      "source": [
        "import numpy as np\n",
        "import pandas as pd\n",
        "import matplotlib.pyplot as plt\n",
        "import seaborn as sns\n",
        "from termcolor import colored as cl\n",
        "import openpyxl\n",
        "import xlrd "
      ],
      "execution_count": 411,
      "outputs": []
    },
    {
      "cell_type": "code",
      "metadata": {
        "id": "J0SvqJDbeGiT"
      },
      "source": [
        "# Code to get data directly from google sheet - authorization is needed\n",
        "from google.colab import auth\n",
        "auth.authenticate_user()\n",
        "import gspread\n",
        "from oauth2client.client import GoogleCredentials\n",
        "# setup\n",
        "gc = gspread.authorize(GoogleCredentials.get_application_default())\n",
        "# read data and put it in a dataframe\n",
        "gsheets = gc.open_by_url('https://docs.google.com/spreadsheets/d/1GAdGLGTwJ5sRcGDXJHbu6mU7_jIljODpDMBTelfg9Fo/edit?ts=601173f2#gid=313717327')\n",
        "sheets = gsheets.worksheet('Plan_Green').get_all_values()"
      ],
      "execution_count": 412,
      "outputs": []
    },
    {
      "cell_type": "code",
      "metadata": {
        "id": "PIXPJDY4kGcr"
      },
      "source": [
        "# Transformation of sheet to dataframe\n",
        "df3 = pd.DataFrame.from_records(sheets)\n",
        "df3.columns=pd.MultiIndex.from_arrays(df3.iloc[0:3].values) # determination of headers from the sheet\n",
        "df3=df3.iloc[3:] # determination of headers from the sheet\n",
        "df3.columns = [' '.join(col).strip() for col in df3.columns.values]"
      ],
      "execution_count": 413,
      "outputs": []
    },
    {
      "cell_type": "code",
      "metadata": {
        "id": "74jvHgW9-qXz"
      },
      "source": [
        "# Creating new datframe to fully-aplied pandas function\n",
        "df = df3.copy()\n",
        "df.to_csv('test.csv') # saving to csv\n",
        "df = pd.read_csv('test.csv', delimiter=',', header=[0], sep=',\\s+', encoding=\"utf-8\", skipinitialspace=True) # reopening for better manipulation\n",
        "df = df.fillna(0) # filling NA with 0\n",
        "df = df.drop(columns=['Unnamed: 0']) # dropping unwanted column\n",
        "df = df.rename(columns={ df.columns[0]: \"metric\" ,df.columns[1]: \"year\", df.columns[2]: \"quarter\", df.columns[3]: \"month\" }) "
      ],
      "execution_count": 414,
      "outputs": []
    },
    {
      "cell_type": "code",
      "metadata": {
        "id": "D0Q2H4o7Vlur"
      },
      "source": [
        "# Modification of entry table for further possible operation\n",
        "df1 = df[df.index > 872 ] # determination of max useful rows -> if there will be changing in core datasets accordingly to adding rows, there is need to do proportional change of df \n",
        "df = df.drop(df1.index, axis=0) # dropping of unnecessarily rows from dataframe"
      ],
      "execution_count": 415,
      "outputs": []
    },
    {
      "cell_type": "code",
      "metadata": {
        "id": "ESb8rHgbD3SX"
      },
      "source": [
        "df['month'] = df.month.replace({'-': 0}, regex=True) # replacing unwanted characters in month string to change the data type\n",
        "df['month'] = df['month'].astype(int) # Change data type from object to int"
      ],
      "execution_count": 416,
      "outputs": []
    },
    {
      "cell_type": "code",
      "metadata": {
        "id": "KbVFEWiJXpi6"
      },
      "source": [
        "# Reshaping of the import table from wide to long\n",
        "cols = [0,1,2,3,4,6,8,10,12,14,15,16,17,18,19,20,21,24,26,28,30,32,34,36,37,38,39,40,41,42,43,45,47,49,53,55,57,59,61,63,65,67,69,70,71,72,73,74,75,76,78,82,83,84,85,86,87,88,90,91,92,94,97,98,99,100,101,102,103,104,105,108,109,110,111,113,114,129]\n",
        "cols = [df.columns[x] for x in cols]\n",
        "df = df[cols]\n",
        "df = df.rename(columns={ df.columns[0]: \"metric\" ,df.columns[1]: \"year\", df.columns[2]: \"quarter\", df.columns[3]: \"month\" })\n",
        "df = df[df[\"month\"].isin([1,2,3,4,5,6,7,8,9,10,11,12])]\n",
        "df = df.set_index([\"metric\",\"year\",\"quarter\",\"month\"])\n",
        "df = df.stack().reset_index()\n",
        "df = df.rename({\"level_4\":\"group\", 0:\"value\"}, axis=1)\n",
        "df = df.pivot_table(index=['group','year','month'], columns='metric', values=[\"value\"],aggfunc='sum').reset_index()"
      ],
      "execution_count": 417,
      "outputs": []
    },
    {
      "cell_type": "code",
      "metadata": {
        "id": "eKAwFxwO5mWw"
      },
      "source": [
        "# Creating 3 subcolumns to sort data accordint to channel, banner and country\n",
        "df['channel'] = np.where(df.group.str.contains('B&M'), 'B&M', 'None') \n",
        "df['banner'] = np.where(df.group.str.contains('FTB'), 'FTB', 'None')\n",
        "df['country'] = np.where(df.group.str.contains('CZ'), 'CZ', 'None')"
      ],
      "execution_count": 418,
      "outputs": []
    },
    {
      "cell_type": "code",
      "metadata": {
        "id": "1hFFwX-C6LCO"
      },
      "source": [
        "# Selecting data to channel column according to channel in group string\n",
        "df['channel'] = np.where(df.group.str.contains('B&M'), 'B&M', df.channel) \n",
        "df['channel'] = np.where(df.group.str.contains('E-com'), 'E-com', df.channel) \n",
        "df['channel'] = np.where(df.group.str.contains('B2B'), 'B2B', df.channel)\n",
        "df['channel'] = np.where(df.group.str.contains('Other'), 'Other', df.channel)\n",
        "df['channel'] = np.where(df.group.str.contains('Marketplace'), 'Marketplace', df.channel)\n",
        "df['channel'] = np.where(df.group.str.contains('Teamsales'), 'Teamsales', df.channel)\n",
        "# df['channel'] = np.where(df.group.str.contains('xy'), 'xy', df.channel) - possible of adding new acquisitions that have xy in channel"
      ],
      "execution_count": 419,
      "outputs": []
    },
    {
      "cell_type": "code",
      "metadata": {
        "id": "MibbqJUwYku_"
      },
      "source": [
        "# Selecting data to banner column according to banner in group string\n",
        "df['banner'] = np.where(df.group.str.contains('FTB'), 'FTB', df.banner)\n",
        "df['banner'] = np.where(df.group.str.contains('RUN'), 'RUN', df.banner)\n",
        "df['banner'] = np.where(df.group.str.contains('B2B'), 'B2B', df.banner)\n",
        "df['banner'] = np.where(df.group.str.contains('FIT'), 'FIT', df.banner)\n",
        "df['banner'] = np.where(df.group.str.contains('Other'), 'Other', df.banner)\n",
        "df['banner'] = np.where(df.group.str.contains('SPORT'), 'SPORT', df.banner)\n",
        "df['banner'] = np.where(df.group.str.contains('STR'), 'STR', df.banner)\n",
        "df['banner'] = np.where(df.group.str.contains('Marketplace'), 'Marketplace', df.banner)\n",
        "# df['banner'] = np.where(df.group.str.contains('xy'), 'xy', df.banner) - possible of adding new acquisitions that have xy in banner "
      ],
      "execution_count": 420,
      "outputs": []
    },
    {
      "cell_type": "code",
      "metadata": {
        "id": "QjrhjDlxYdkg"
      },
      "source": [
        "# Selecting data to country column according to country in group string\n",
        "df['country'] = np.where(df.group.str.contains('CZ'), 'cz', df.country)\n",
        "df['country'] = np.where(df.group.str.contains('cz'), 'cz', df.country)\n",
        "df['country'] = np.where(df.group.str.contains('sk'), 'sk', df.country)\n",
        "df['country'] = np.where(df.group.str.contains('SK'), 'sk', df.country)\n",
        "df['country'] = np.where(df.group.str.contains('de'), 'de', df.country)\n",
        "df['country'] = np.where(df.group.str.contains('Unnamed'), 'Unnamed', df.country)\n",
        "df['country'] = np.where(df.group.str.contains('at'), 'at', df.country)\n",
        "df['country'] = np.where(df.group.str.contains('be'), 'be', df.country)\n",
        "df['country'] = np.where(df.group.str.contains('de'), 'de', df.country)\n",
        "df['country'] = np.where(df.group.str.contains(' com'), 'com', df.country)\n",
        "df['country'] = np.where(df.group.str.contains('dk'), 'dk', df.country)\n",
        "df['country'] = np.where(df.group.str.contains(' es'), 'es', df.country)\n",
        "df['country'] = np.where(df.group.str.contains('fr'), 'fr', df.country)\n",
        "df['country'] = np.where(df.group.str.contains('hr'), 'hr', df.country)\n",
        "df['country'] = np.where(df.group.str.contains('hu'), 'hu', df.country)\n",
        "df['country'] = np.where(df.group.str.contains('it'), 'it', df.country)\n",
        "df['country'] = np.where(df.group.str.contains('nl'), 'nl', df.country)\n",
        "df['country'] = np.where(df.group.str.contains('pl'), 'pl', df.country)\n",
        "df['country'] = np.where(df.group.str.contains('ro'), 'ro', df.country)\n",
        "df['country'] = np.where(df.group.str.contains('de'), 'de', df.country)\n",
        "df['country'] = np.where(df.group.str.contains('se'), 'se', df.country)\n",
        "df['country'] = np.where(df.group.str.contains('uk'), 'uk', df.country)\n",
        "df['country'] = np.where(df.group.str.contains('11TS CEE'), '11TS CEE', df.country)\n",
        "df['country'] = np.where(df.group.str.contains('11TS CEE'), '11TS CEE', df.country)\n",
        "# df['country'] = np.where(df.group.str.contains('xy'), 'xy', df.country) - possible of adding new acquisitions that have xy in country"
      ],
      "execution_count": 421,
      "outputs": []
    },
    {
      "cell_type": "code",
      "metadata": {
        "id": "PSawJig6YqQa"
      },
      "source": [
        "# Modification of date columns\n",
        "df['monthdays'] = pd.to_datetime(df['year'].astype(str)  + \\\n",
        "                                   df['month'].astype(str), format='%Y%m').dt.daysinmonth # definition of number of days in selected month\n",
        "df['year'] = df['year'].astype(str) # change of data type\n",
        "df['month'] = df['month'].astype(str) # change of data type\n",
        "df['date']=df['year'].astype(str)+'-'+df['month'] # change of data type and concating year and month\n",
        "df['date'] = pd.to_datetime(df['date'], format='%Y-%m') # change of data type to 'date' type for further modification"
      ],
      "execution_count": 422,
      "outputs": []
    },
    {
      "cell_type": "code",
      "metadata": {
        "id": "FSEtdz6oYtcM"
      },
      "source": [
        "# dropping the index for subsequent manipulation \n",
        "df.columns = df.columns.map(''.join)"
      ],
      "execution_count": 423,
      "outputs": []
    },
    {
      "cell_type": "code",
      "metadata": {
        "id": "qjIthODFZS_V"
      },
      "source": [
        "# renaming of the selected columns\n",
        "df = df.rename(columns={df.columns[0]: \"jointable\", df.columns[3]: \"DEL\" , df.columns[4]: \"Delivery%\", df.columns[5]: \"EBIT\", df.columns[6]: \"Fees\",\n",
        "                        df.columns[7]: \"Fees%\", df.columns[8]: \"GM\", df.columns[9]: \"GM%\", df.columns[10]: \"Kickbacks\",\n",
        "                        df.columns[11]: \"MIR\" , df.columns[12]: \"MIR%\", df.columns[13]: \"Mktg systems\", df.columns[14]: \"Net Contribution\",\n",
        "                        df.columns[15]: \"OPEX\" , df.columns[16]: \"Other OPEX\", df.columns[17]: \"Other Marketing\", df.columns[18]: \"Outsourcing\",\n",
        "                        df.columns[19]: \"Returns\" , df.columns[20]: \"Returns%\", df.columns[21]: \"Revenues\", df.columns[22]: \"Wages\",\n",
        "                        df.columns[23]: \"Warehousing\"})"
      ],
      "execution_count": 424,
      "outputs": []
    },
    {
      "cell_type": "code",
      "metadata": {
        "id": "G4lo_GE4Yvp3"
      },
      "source": [
        "# Functions to rearrange a columns position in a table \n",
        "def movecol(df, cols_to_move=[], ref_col='', place='After'):\n",
        "    \n",
        "    cols = df.columns.tolist()\n",
        "    if place == 'After':\n",
        "        seg1 = cols[:list(cols).index(ref_col) + 1]\n",
        "        seg2 = cols_to_move\n",
        "    if place == 'Before':\n",
        "        seg1 = cols[:list(cols).index(ref_col)]\n",
        "        seg2 = cols_to_move + [ref_col]\n",
        "    \n",
        "    seg1 = [i for i in seg1 if i not in seg2]\n",
        "    seg3 = [i for i in cols if i not in seg1 + seg2]\n",
        "    \n",
        "    return(df[seg1 + seg2 + seg3])"
      ],
      "execution_count": 425,
      "outputs": []
    },
    {
      "cell_type": "code",
      "metadata": {
        "id": "mkg68XTjYyWl"
      },
      "source": [
        "# perform the 'movecol' function \n",
        "df = movecol(df, \n",
        "             cols_to_move=['channel','banner', 'country', 'monthdays', 'date'], \n",
        "             ref_col='jointable',\n",
        "             place='After')"
      ],
      "execution_count": 426,
      "outputs": []
    },
    {
      "cell_type": "code",
      "metadata": {
        "id": "jiFzRAqZY3ah"
      },
      "source": [
        "# creation of daily dates and daily date \n",
        "df = df.loc[df.index.repeat(df.monthdays)] # insert multiple rows as is the count of the monthdays\n",
        "df['day'] = df.groupby(level=0).cumcount() + 1 # sequential nums of days\n",
        "df['date'] = pd.to_datetime(df[[\"year\", \"month\", \"day\"]]) # defined of date from previous defined variables\n",
        "df['date'] = df['date'].dt.date # removing default time from date coloumn\n",
        "df = df.drop(columns=['day']) # drop day coloumn"
      ],
      "execution_count": 427,
      "outputs": []
    },
    {
      "cell_type": "code",
      "metadata": {
        "id": "0LG1Vl9KEMpV"
      },
      "source": [
        "# removing the whitespace in df strings\n",
        "df['EBIT'].replace('\\s+', '',regex=True,inplace=True)\n",
        "df['DEL'].replace('\\s+', '',regex=True,inplace=True)\n",
        "df['Fees'].replace('\\s+', '',regex=True,inplace=True)\n",
        "df['GM'].replace('\\s+', '',regex=True,inplace=True)\n",
        "df['Kickbacks'].replace('\\s+', '',regex=True,inplace=True)\n",
        "df['MIR'].replace('\\s+', '',regex=True,inplace=True)\n",
        "df['Mktg systems'].replace('\\s+', '',regex=True,inplace=True)\n",
        "df['Net Contribution'].replace('\\s+', '',regex=True,inplace=True)\n",
        "df['OPEX'].replace('\\s+', '',regex=True,inplace=True)\n",
        "df['Other OPEX'].replace('\\s+', '',regex=True,inplace=True)\n",
        "df['Other Marketing'].replace('\\s+', '',regex=True,inplace=True)\n",
        "df['Outsourcing'].replace('\\s+', '',regex=True,inplace=True)\n",
        "df['Returns'].replace('\\s+', '',regex=True,inplace=True)\n",
        "df['Revenues'].replace('\\s+', '',regex=True,inplace=True)\n",
        "df['Wages'].replace('\\s+', '',regex=True,inplace=True)\n",
        "df['Warehousing'].replace('\\s+', '',regex=True,inplace=True)"
      ],
      "execution_count": 428,
      "outputs": []
    },
    {
      "cell_type": "code",
      "metadata": {
        "id": "zFM5PiUQekzb"
      },
      "source": [
        "# Uprava formy promennych\n",
        "df['monthdays'] = df['monthdays'].astype(int) # change of data type to int\n",
        "# df1.replace('\\s+', '',regex=True,inplace=True) # removing the whitespace in df strings\n",
        "df['EBIT'] = df['EBIT'].str.strip('( )').astype(float) # getting rid of ( ) in EBIT var and change to float"
      ],
      "execution_count": 429,
      "outputs": []
    },
    {
      "cell_type": "code",
      "metadata": {
        "id": "kfLZikXmXVPC"
      },
      "source": [
        "# Change of the data type of calculated variables from object to float\n",
        "df[['DEL', 'Fees', 'GM', 'Kickbacks', \n",
        "     'MIR', 'Mktg systems', 'Net Contribution', 'OPEX', 'Other OPEX', \n",
        "     'Other Marketing', 'Outsourcing', 'Returns', 'Revenues', 'Wages', \n",
        "     'Warehousing']] = df[['DEL',  'Fees', 'GM',\n",
        "                            'Kickbacks', 'MIR', 'Mktg systems', 'Net Contribution', 'OPEX', 'Other OPEX', 'Other Marketing', \n",
        "                            'Outsourcing', 'Returns', 'Revenues', 'Wages', 'Warehousing']].astype(float)"
      ],
      "execution_count": 430,
      "outputs": []
    },
    {
      "cell_type": "code",
      "metadata": {
        "id": "lRbda3cdXf9y"
      },
      "source": [
        "# div calculated variables by monthdays count to get data by days\n",
        "df[['DEL', 'EBIT',  'Fees', 'GM', 'Kickbacks', \n",
        "    'MIR', 'Mktg systems', 'Net Contribution', \n",
        "    'OPEX', 'Other OPEX', 'Other Marketing', \n",
        "    'Outsourcing', 'Returns', 'Revenues', 'Wages', \n",
        "    'Warehousing']] = df[['DEL', 'EBIT', 'Fees', \n",
        "    'GM', 'Kickbacks', 'MIR', 'Mktg systems', \n",
        "    'Net Contribution', 'OPEX', 'Other OPEX', 'Other Marketing', \n",
        "    'Outsourcing', 'Returns', 'Revenues', 'Wages', 'Warehousing']].div(df['monthdays'].values,axis=0).round(0)"
      ],
      "execution_count": 431,
      "outputs": []
    },
    {
      "cell_type": "code",
      "metadata": {
        "id": "bfagKOFWxTbC"
      },
      "source": [
        "# # Code to get data directly from google sheet - authorization is needed\n",
        "gc2 = gspread.authorize(GoogleCredentials.get_application_default())\n",
        "# read data and put it in a dataframe\n",
        "gsheets2 = gc2.open_by_url('https://docs.google.com/spreadsheets/d/1UsHDfi6_vECaUwzWwWUoBvWe7LsqaW_wQhcW6YpGfVk/edit?ts=603667d3#gid=1974251602')\n",
        "sheets2 = gsheets2.worksheet('AOV').get_all_values()\n",
        "sheets3 = gsheets2.worksheet('CR').get_all_values()\n",
        "sheets4 = gsheets2.worksheet('Delivery Ratio').get_all_values()"
      ],
      "execution_count": 432,
      "outputs": []
    },
    {
      "cell_type": "code",
      "metadata": {
        "id": "WAiZ4U6h0cj4"
      },
      "source": [
        "df_aov = pd.DataFrame.from_records(sheets2)\n",
        "df_cr = pd.DataFrame.from_records(sheets3)\n",
        "df_cr.columns = df_cr.iloc[0]\n",
        "df_cr = df_cr.drop(df_cr.index[0])\n",
        "df_del_rat = pd.DataFrame.from_records(sheets4)\n",
        "df_del_rat.columns = df_del_rat.iloc[0]\n",
        "df_del_rat = df_del_rat.drop(df_del_rat.index[0])"
      ],
      "execution_count": 433,
      "outputs": []
    },
    {
      "cell_type": "code",
      "metadata": {
        "id": "wQNb2uedODVs"
      },
      "source": [
        "df_aov.columns = ['banner', 'AOV']\n",
        "df_aov = df_aov.apply(lambda x: x.str.replace(',','.'))\n",
        "df_aov['AOV'] = df_aov['AOV'].astype(float)\n",
        "df_cr = df_cr.apply(lambda x: x.str.replace(',','.'))\n",
        "df_cr['CR'] = df_cr['CR'].astype(float)\n",
        "df_del_rat = df_del_rat.apply(lambda x: x.str.replace(',','.'))\n",
        "df_del_rat['Delivery ratio real'] = df_del_rat['Delivery ratio real'].str.rstrip('%').astype('float') / 100.0"
      ],
      "execution_count": 434,
      "outputs": []
    },
    {
      "cell_type": "code",
      "metadata": {
        "id": "O3XBZ4k0pWb4"
      },
      "source": [
        "# Creating of the AOV column\n",
        "result = pd.merge(df, df_aov, how=\"left\", on=['banner'])"
      ],
      "execution_count": 435,
      "outputs": []
    },
    {
      "cell_type": "code",
      "metadata": {
        "id": "b6a-a3yUxXWi"
      },
      "source": [
        "# Creating of the CR column\n",
        "df_cr['Join'] = df_cr['Join'].replace('-', ' ',regex=True)\n",
        "df_cr.rename(columns={'Join':'jointable'}, inplace=True)\n",
        "result['jointable'] = result['jointable'].replace('-', ' ',regex=True)\n",
        "result2 = pd.merge(result, df_cr, how=\"left\", on=['jointable'])"
      ],
      "execution_count": 436,
      "outputs": []
    },
    {
      "cell_type": "code",
      "metadata": {
        "id": "w7Omm6xG1y4E"
      },
      "source": [
        "# Creating of the Delivery ratio real column\n",
        "df_del_rat.rename(columns={'Join Plan 2021':'jointable'}, inplace=True)\n",
        "df_del_rat['jointable'] = df_del_rat['jointable'].replace('-', ' ',regex=True)\n",
        "result3 = pd.merge(result2, df_del_rat, how=\"left\", on=['jointable'])"
      ],
      "execution_count": 437,
      "outputs": []
    },
    {
      "cell_type": "code",
      "metadata": {
        "id": "Y1hq9YsG8RHQ"
      },
      "source": [
        "df = result3.copy()"
      ],
      "execution_count": 438,
      "outputs": []
    },
    {
      "cell_type": "code",
      "metadata": {
        "id": "OmukQEwPLvJS"
      },
      "source": [
        "# assigning data only to a specified channel\n",
        "df['AOV'] = np.where(df.channel.str.contains('E-com'), df.AOV, 0)"
      ],
      "execution_count": 439,
      "outputs": []
    },
    {
      "cell_type": "code",
      "metadata": {
        "id": "1Pd4BKu-7zqM"
      },
      "source": [
        "# Creating 4 subcolumns to calculate new variables\n",
        "df['Order value'] = df['Revenues']/df['Delivery ratio real']\n",
        "df['Conversions'] = df['Order value']/df['Delivery ratio real']\n",
        "df['Visits'] = df['Conversions']/df['CR']\n",
        "df['CPV '] = df['MIR']/df['Visits'].round(5)"
      ],
      "execution_count": 440,
      "outputs": []
    },
    {
      "cell_type": "code",
      "metadata": {
        "id": "QXWKxXSMU49p"
      },
      "source": [
        "# adjust df from % to float\n",
        "df['Delivery%'] = df['Delivery%'].replace(\"-\", np.nan)\n",
        "df['Delivery%'] = df['Delivery%'].replace({',': '.'}, regex=True)\n",
        "df['Delivery%'] = df['Delivery%'].str.rstrip('%').astype(float) / 100.0\n",
        "df['Fees%'] = df['Fees%'].replace(\"-\", np.nan)\n",
        "df['Fees%'] = df['Fees%'].replace({',': '.'}, regex=True)\n",
        "df['Fees%'] = df['Fees%'].str.rstrip('%').astype(float) / 100.0\n",
        "df['GM%'] = df['GM%'].replace(\"-\", np.nan)\n",
        "df['GM%'] = df['GM%'].replace({',': '.'}, regex=True)\n",
        "df['GM%'] = df['GM%'].str.rstrip('%').astype(float) / 100.0\n",
        "df['MIR%'] = df['MIR%'].replace(\"-\", np.nan)\n",
        "df['MIR%'] = df['MIR%'].replace({',': '.'}, regex=True)\n",
        "df['MIR%'] = df['MIR%'].str.rstrip('%').astype(float) / 100.0\n",
        "df['Returns%'] = df['Returns%'].replace(\"-\", np.nan)\n",
        "df['Returns%'] = df['Returns%'].replace({',': '.'}, regex=True)\n",
        "df['Returns%'] = df['Returns%'].str.rstrip('%').astype(float) / 100.0"
      ],
      "execution_count": 441,
      "outputs": []
    },
    {
      "cell_type": "code",
      "metadata": {
        "id": "tgge6hI3XlO4"
      },
      "source": [
        "# Data preparation for Azure import\n",
        "df[['year','month', 'Order value', 'Conversions', 'Visits', 'EBIT', \n",
        "    'Fees', 'GM', 'Kickbacks', 'MIR', 'Mktg systems', 'Net Contribution',  \n",
        "    'DEL', 'Other Marketing',  'Returns', 'Revenues', 'Wages', 'OPEX', 'Other OPEX', 'Warehousing']] = df[['year','month', 'Order value', 'Conversions', 'Visits', 'EBIT', \n",
        "    'Fees', 'GM', 'Kickbacks', 'MIR', 'Mktg systems', 'Net Contribution',  \n",
        "    'DEL', 'Other Marketing', 'Returns', 'Revenues', 'Wages', 'OPEX', 'Other OPEX','Warehousing']].fillna(0).astype(np.int64)"
      ],
      "execution_count": 442,
      "outputs": []
    },
    {
      "cell_type": "code",
      "metadata": {
        "id": "iaH7gARfVZV0"
      },
      "source": [
        "df.info()"
      ],
      "execution_count": null,
      "outputs": []
    },
    {
      "cell_type": "code",
      "metadata": {
        "colab": {
          "base_uri": "https://localhost:8080/",
          "height": 629
        },
        "id": "BMeY74HFO0Tp",
        "outputId": "a4a4aeaf-9a00-40c3-fdc8-8fbd52a30396"
      },
      "source": [
        "df"
      ],
      "execution_count": 444,
      "outputs": [
        {
          "output_type": "execute_result",
          "data": {
            "text/html": [
              "<div>\n",
              "<style scoped>\n",
              "    .dataframe tbody tr th:only-of-type {\n",
              "        vertical-align: middle;\n",
              "    }\n",
              "\n",
              "    .dataframe tbody tr th {\n",
              "        vertical-align: top;\n",
              "    }\n",
              "\n",
              "    .dataframe thead th {\n",
              "        text-align: right;\n",
              "    }\n",
              "</style>\n",
              "<table border=\"1\" class=\"dataframe\">\n",
              "  <thead>\n",
              "    <tr style=\"text-align: right;\">\n",
              "      <th></th>\n",
              "      <th>jointable</th>\n",
              "      <th>channel</th>\n",
              "      <th>banner</th>\n",
              "      <th>country</th>\n",
              "      <th>monthdays</th>\n",
              "      <th>date</th>\n",
              "      <th>year</th>\n",
              "      <th>month</th>\n",
              "      <th>DEL</th>\n",
              "      <th>Delivery%</th>\n",
              "      <th>EBIT</th>\n",
              "      <th>Fees</th>\n",
              "      <th>Fees%</th>\n",
              "      <th>GM</th>\n",
              "      <th>GM%</th>\n",
              "      <th>Kickbacks</th>\n",
              "      <th>MIR</th>\n",
              "      <th>MIR%</th>\n",
              "      <th>Mktg systems</th>\n",
              "      <th>Net Contribution</th>\n",
              "      <th>OPEX</th>\n",
              "      <th>Other OPEX</th>\n",
              "      <th>Other Marketing</th>\n",
              "      <th>Outsourcing</th>\n",
              "      <th>Returns</th>\n",
              "      <th>Returns%</th>\n",
              "      <th>Revenues</th>\n",
              "      <th>Wages</th>\n",
              "      <th>Warehousing</th>\n",
              "      <th>AOV</th>\n",
              "      <th>CR</th>\n",
              "      <th>Delivery ratio real</th>\n",
              "      <th>Order value</th>\n",
              "      <th>Conversions</th>\n",
              "      <th>Visits</th>\n",
              "      <th>CPV</th>\n",
              "    </tr>\n",
              "  </thead>\n",
              "  <tbody>\n",
              "    <tr>\n",
              "      <th>0</th>\n",
              "      <td>B&amp;M FTB CZ</td>\n",
              "      <td>B&amp;M</td>\n",
              "      <td>FTB</td>\n",
              "      <td>cz</td>\n",
              "      <td>31</td>\n",
              "      <td>2019-01-01</td>\n",
              "      <td>2019</td>\n",
              "      <td>1</td>\n",
              "      <td>0</td>\n",
              "      <td>NaN</td>\n",
              "      <td>-61</td>\n",
              "      <td>0</td>\n",
              "      <td>0.0</td>\n",
              "      <td>392</td>\n",
              "      <td>0.315</td>\n",
              "      <td>0</td>\n",
              "      <td>0</td>\n",
              "      <td>0.0</td>\n",
              "      <td>0</td>\n",
              "      <td>392</td>\n",
              "      <td>-453</td>\n",
              "      <td>-171</td>\n",
              "      <td>0</td>\n",
              "      <td>0.0</td>\n",
              "      <td>0</td>\n",
              "      <td>NaN</td>\n",
              "      <td>1246</td>\n",
              "      <td>-283</td>\n",
              "      <td>0</td>\n",
              "      <td>0.0</td>\n",
              "      <td>NaN</td>\n",
              "      <td>NaN</td>\n",
              "      <td>0</td>\n",
              "      <td>0</td>\n",
              "      <td>0</td>\n",
              "      <td>NaN</td>\n",
              "    </tr>\n",
              "    <tr>\n",
              "      <th>1</th>\n",
              "      <td>B&amp;M FTB CZ</td>\n",
              "      <td>B&amp;M</td>\n",
              "      <td>FTB</td>\n",
              "      <td>cz</td>\n",
              "      <td>31</td>\n",
              "      <td>2019-01-02</td>\n",
              "      <td>2019</td>\n",
              "      <td>1</td>\n",
              "      <td>0</td>\n",
              "      <td>NaN</td>\n",
              "      <td>-61</td>\n",
              "      <td>0</td>\n",
              "      <td>0.0</td>\n",
              "      <td>392</td>\n",
              "      <td>0.315</td>\n",
              "      <td>0</td>\n",
              "      <td>0</td>\n",
              "      <td>0.0</td>\n",
              "      <td>0</td>\n",
              "      <td>392</td>\n",
              "      <td>-453</td>\n",
              "      <td>-171</td>\n",
              "      <td>0</td>\n",
              "      <td>0.0</td>\n",
              "      <td>0</td>\n",
              "      <td>NaN</td>\n",
              "      <td>1246</td>\n",
              "      <td>-283</td>\n",
              "      <td>0</td>\n",
              "      <td>0.0</td>\n",
              "      <td>NaN</td>\n",
              "      <td>NaN</td>\n",
              "      <td>0</td>\n",
              "      <td>0</td>\n",
              "      <td>0</td>\n",
              "      <td>NaN</td>\n",
              "    </tr>\n",
              "    <tr>\n",
              "      <th>2</th>\n",
              "      <td>B&amp;M FTB CZ</td>\n",
              "      <td>B&amp;M</td>\n",
              "      <td>FTB</td>\n",
              "      <td>cz</td>\n",
              "      <td>31</td>\n",
              "      <td>2019-01-03</td>\n",
              "      <td>2019</td>\n",
              "      <td>1</td>\n",
              "      <td>0</td>\n",
              "      <td>NaN</td>\n",
              "      <td>-61</td>\n",
              "      <td>0</td>\n",
              "      <td>0.0</td>\n",
              "      <td>392</td>\n",
              "      <td>0.315</td>\n",
              "      <td>0</td>\n",
              "      <td>0</td>\n",
              "      <td>0.0</td>\n",
              "      <td>0</td>\n",
              "      <td>392</td>\n",
              "      <td>-453</td>\n",
              "      <td>-171</td>\n",
              "      <td>0</td>\n",
              "      <td>0.0</td>\n",
              "      <td>0</td>\n",
              "      <td>NaN</td>\n",
              "      <td>1246</td>\n",
              "      <td>-283</td>\n",
              "      <td>0</td>\n",
              "      <td>0.0</td>\n",
              "      <td>NaN</td>\n",
              "      <td>NaN</td>\n",
              "      <td>0</td>\n",
              "      <td>0</td>\n",
              "      <td>0</td>\n",
              "      <td>NaN</td>\n",
              "    </tr>\n",
              "    <tr>\n",
              "      <th>3</th>\n",
              "      <td>B&amp;M FTB CZ</td>\n",
              "      <td>B&amp;M</td>\n",
              "      <td>FTB</td>\n",
              "      <td>cz</td>\n",
              "      <td>31</td>\n",
              "      <td>2019-01-04</td>\n",
              "      <td>2019</td>\n",
              "      <td>1</td>\n",
              "      <td>0</td>\n",
              "      <td>NaN</td>\n",
              "      <td>-61</td>\n",
              "      <td>0</td>\n",
              "      <td>0.0</td>\n",
              "      <td>392</td>\n",
              "      <td>0.315</td>\n",
              "      <td>0</td>\n",
              "      <td>0</td>\n",
              "      <td>0.0</td>\n",
              "      <td>0</td>\n",
              "      <td>392</td>\n",
              "      <td>-453</td>\n",
              "      <td>-171</td>\n",
              "      <td>0</td>\n",
              "      <td>0.0</td>\n",
              "      <td>0</td>\n",
              "      <td>NaN</td>\n",
              "      <td>1246</td>\n",
              "      <td>-283</td>\n",
              "      <td>0</td>\n",
              "      <td>0.0</td>\n",
              "      <td>NaN</td>\n",
              "      <td>NaN</td>\n",
              "      <td>0</td>\n",
              "      <td>0</td>\n",
              "      <td>0</td>\n",
              "      <td>NaN</td>\n",
              "    </tr>\n",
              "    <tr>\n",
              "      <th>4</th>\n",
              "      <td>B&amp;M FTB CZ</td>\n",
              "      <td>B&amp;M</td>\n",
              "      <td>FTB</td>\n",
              "      <td>cz</td>\n",
              "      <td>31</td>\n",
              "      <td>2019-01-05</td>\n",
              "      <td>2019</td>\n",
              "      <td>1</td>\n",
              "      <td>0</td>\n",
              "      <td>NaN</td>\n",
              "      <td>-61</td>\n",
              "      <td>0</td>\n",
              "      <td>0.0</td>\n",
              "      <td>392</td>\n",
              "      <td>0.315</td>\n",
              "      <td>0</td>\n",
              "      <td>0</td>\n",
              "      <td>0.0</td>\n",
              "      <td>0</td>\n",
              "      <td>392</td>\n",
              "      <td>-453</td>\n",
              "      <td>-171</td>\n",
              "      <td>0</td>\n",
              "      <td>0.0</td>\n",
              "      <td>0</td>\n",
              "      <td>NaN</td>\n",
              "      <td>1246</td>\n",
              "      <td>-283</td>\n",
              "      <td>0</td>\n",
              "      <td>0.0</td>\n",
              "      <td>NaN</td>\n",
              "      <td>NaN</td>\n",
              "      <td>0</td>\n",
              "      <td>0</td>\n",
              "      <td>0</td>\n",
              "      <td>NaN</td>\n",
              "    </tr>\n",
              "    <tr>\n",
              "      <th>...</th>\n",
              "      <td>...</td>\n",
              "      <td>...</td>\n",
              "      <td>...</td>\n",
              "      <td>...</td>\n",
              "      <td>...</td>\n",
              "      <td>...</td>\n",
              "      <td>...</td>\n",
              "      <td>...</td>\n",
              "      <td>...</td>\n",
              "      <td>...</td>\n",
              "      <td>...</td>\n",
              "      <td>...</td>\n",
              "      <td>...</td>\n",
              "      <td>...</td>\n",
              "      <td>...</td>\n",
              "      <td>...</td>\n",
              "      <td>...</td>\n",
              "      <td>...</td>\n",
              "      <td>...</td>\n",
              "      <td>...</td>\n",
              "      <td>...</td>\n",
              "      <td>...</td>\n",
              "      <td>...</td>\n",
              "      <td>...</td>\n",
              "      <td>...</td>\n",
              "      <td>...</td>\n",
              "      <td>...</td>\n",
              "      <td>...</td>\n",
              "      <td>...</td>\n",
              "      <td>...</td>\n",
              "      <td>...</td>\n",
              "      <td>...</td>\n",
              "      <td>...</td>\n",
              "      <td>...</td>\n",
              "      <td>...</td>\n",
              "      <td>...</td>\n",
              "    </tr>\n",
              "    <tr>\n",
              "      <th>81099</th>\n",
              "      <td>Teamsales Other sk</td>\n",
              "      <td>Teamsales</td>\n",
              "      <td>Other</td>\n",
              "      <td>sk</td>\n",
              "      <td>31</td>\n",
              "      <td>2021-12-27</td>\n",
              "      <td>2021</td>\n",
              "      <td>12</td>\n",
              "      <td>-287</td>\n",
              "      <td>-0.027</td>\n",
              "      <td>1284</td>\n",
              "      <td>0</td>\n",
              "      <td>NaN</td>\n",
              "      <td>1910</td>\n",
              "      <td>0.180</td>\n",
              "      <td>-159</td>\n",
              "      <td>0</td>\n",
              "      <td>NaN</td>\n",
              "      <td>0</td>\n",
              "      <td>1284</td>\n",
              "      <td>0</td>\n",
              "      <td>0</td>\n",
              "      <td>0</td>\n",
              "      <td>-180.0</td>\n",
              "      <td>0</td>\n",
              "      <td>NaN</td>\n",
              "      <td>10612</td>\n",
              "      <td>0</td>\n",
              "      <td>0</td>\n",
              "      <td>0.0</td>\n",
              "      <td>NaN</td>\n",
              "      <td>NaN</td>\n",
              "      <td>0</td>\n",
              "      <td>0</td>\n",
              "      <td>0</td>\n",
              "      <td>NaN</td>\n",
              "    </tr>\n",
              "    <tr>\n",
              "      <th>81100</th>\n",
              "      <td>Teamsales Other sk</td>\n",
              "      <td>Teamsales</td>\n",
              "      <td>Other</td>\n",
              "      <td>sk</td>\n",
              "      <td>31</td>\n",
              "      <td>2021-12-28</td>\n",
              "      <td>2021</td>\n",
              "      <td>12</td>\n",
              "      <td>-287</td>\n",
              "      <td>-0.027</td>\n",
              "      <td>1284</td>\n",
              "      <td>0</td>\n",
              "      <td>NaN</td>\n",
              "      <td>1910</td>\n",
              "      <td>0.180</td>\n",
              "      <td>-159</td>\n",
              "      <td>0</td>\n",
              "      <td>NaN</td>\n",
              "      <td>0</td>\n",
              "      <td>1284</td>\n",
              "      <td>0</td>\n",
              "      <td>0</td>\n",
              "      <td>0</td>\n",
              "      <td>-180.0</td>\n",
              "      <td>0</td>\n",
              "      <td>NaN</td>\n",
              "      <td>10612</td>\n",
              "      <td>0</td>\n",
              "      <td>0</td>\n",
              "      <td>0.0</td>\n",
              "      <td>NaN</td>\n",
              "      <td>NaN</td>\n",
              "      <td>0</td>\n",
              "      <td>0</td>\n",
              "      <td>0</td>\n",
              "      <td>NaN</td>\n",
              "    </tr>\n",
              "    <tr>\n",
              "      <th>81101</th>\n",
              "      <td>Teamsales Other sk</td>\n",
              "      <td>Teamsales</td>\n",
              "      <td>Other</td>\n",
              "      <td>sk</td>\n",
              "      <td>31</td>\n",
              "      <td>2021-12-29</td>\n",
              "      <td>2021</td>\n",
              "      <td>12</td>\n",
              "      <td>-287</td>\n",
              "      <td>-0.027</td>\n",
              "      <td>1284</td>\n",
              "      <td>0</td>\n",
              "      <td>NaN</td>\n",
              "      <td>1910</td>\n",
              "      <td>0.180</td>\n",
              "      <td>-159</td>\n",
              "      <td>0</td>\n",
              "      <td>NaN</td>\n",
              "      <td>0</td>\n",
              "      <td>1284</td>\n",
              "      <td>0</td>\n",
              "      <td>0</td>\n",
              "      <td>0</td>\n",
              "      <td>-180.0</td>\n",
              "      <td>0</td>\n",
              "      <td>NaN</td>\n",
              "      <td>10612</td>\n",
              "      <td>0</td>\n",
              "      <td>0</td>\n",
              "      <td>0.0</td>\n",
              "      <td>NaN</td>\n",
              "      <td>NaN</td>\n",
              "      <td>0</td>\n",
              "      <td>0</td>\n",
              "      <td>0</td>\n",
              "      <td>NaN</td>\n",
              "    </tr>\n",
              "    <tr>\n",
              "      <th>81102</th>\n",
              "      <td>Teamsales Other sk</td>\n",
              "      <td>Teamsales</td>\n",
              "      <td>Other</td>\n",
              "      <td>sk</td>\n",
              "      <td>31</td>\n",
              "      <td>2021-12-30</td>\n",
              "      <td>2021</td>\n",
              "      <td>12</td>\n",
              "      <td>-287</td>\n",
              "      <td>-0.027</td>\n",
              "      <td>1284</td>\n",
              "      <td>0</td>\n",
              "      <td>NaN</td>\n",
              "      <td>1910</td>\n",
              "      <td>0.180</td>\n",
              "      <td>-159</td>\n",
              "      <td>0</td>\n",
              "      <td>NaN</td>\n",
              "      <td>0</td>\n",
              "      <td>1284</td>\n",
              "      <td>0</td>\n",
              "      <td>0</td>\n",
              "      <td>0</td>\n",
              "      <td>-180.0</td>\n",
              "      <td>0</td>\n",
              "      <td>NaN</td>\n",
              "      <td>10612</td>\n",
              "      <td>0</td>\n",
              "      <td>0</td>\n",
              "      <td>0.0</td>\n",
              "      <td>NaN</td>\n",
              "      <td>NaN</td>\n",
              "      <td>0</td>\n",
              "      <td>0</td>\n",
              "      <td>0</td>\n",
              "      <td>NaN</td>\n",
              "    </tr>\n",
              "    <tr>\n",
              "      <th>81103</th>\n",
              "      <td>Teamsales Other sk</td>\n",
              "      <td>Teamsales</td>\n",
              "      <td>Other</td>\n",
              "      <td>sk</td>\n",
              "      <td>31</td>\n",
              "      <td>2021-12-31</td>\n",
              "      <td>2021</td>\n",
              "      <td>12</td>\n",
              "      <td>-287</td>\n",
              "      <td>-0.027</td>\n",
              "      <td>1284</td>\n",
              "      <td>0</td>\n",
              "      <td>NaN</td>\n",
              "      <td>1910</td>\n",
              "      <td>0.180</td>\n",
              "      <td>-159</td>\n",
              "      <td>0</td>\n",
              "      <td>NaN</td>\n",
              "      <td>0</td>\n",
              "      <td>1284</td>\n",
              "      <td>0</td>\n",
              "      <td>0</td>\n",
              "      <td>0</td>\n",
              "      <td>-180.0</td>\n",
              "      <td>0</td>\n",
              "      <td>NaN</td>\n",
              "      <td>10612</td>\n",
              "      <td>0</td>\n",
              "      <td>0</td>\n",
              "      <td>0.0</td>\n",
              "      <td>NaN</td>\n",
              "      <td>NaN</td>\n",
              "      <td>0</td>\n",
              "      <td>0</td>\n",
              "      <td>0</td>\n",
              "      <td>NaN</td>\n",
              "    </tr>\n",
              "  </tbody>\n",
              "</table>\n",
              "<p>81104 rows × 36 columns</p>\n",
              "</div>"
            ],
            "text/plain": [
              "                jointable    channel banner  ... Conversions  Visits CPV \n",
              "0              B&M FTB CZ        B&M    FTB  ...           0       0  NaN\n",
              "1              B&M FTB CZ        B&M    FTB  ...           0       0  NaN\n",
              "2              B&M FTB CZ        B&M    FTB  ...           0       0  NaN\n",
              "3              B&M FTB CZ        B&M    FTB  ...           0       0  NaN\n",
              "4              B&M FTB CZ        B&M    FTB  ...           0       0  NaN\n",
              "...                   ...        ...    ...  ...         ...     ...  ...\n",
              "81099  Teamsales Other sk  Teamsales  Other  ...           0       0  NaN\n",
              "81100  Teamsales Other sk  Teamsales  Other  ...           0       0  NaN\n",
              "81101  Teamsales Other sk  Teamsales  Other  ...           0       0  NaN\n",
              "81102  Teamsales Other sk  Teamsales  Other  ...           0       0  NaN\n",
              "81103  Teamsales Other sk  Teamsales  Other  ...           0       0  NaN\n",
              "\n",
              "[81104 rows x 36 columns]"
            ]
          },
          "metadata": {
            "tags": []
          },
          "execution_count": 444
        }
      ]
    },
    {
      "cell_type": "code",
      "metadata": {
        "id": "UiVUoA5NY_-U"
      },
      "source": [
        "#  df.to_excel(\"test1_api.xlsx\")"
      ],
      "execution_count": 445,
      "outputs": []
    }
  ]
}