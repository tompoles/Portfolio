{
  "nbformat": 4,
  "nbformat_minor": 0,
  "metadata": {
    "colab": {
      "name": "Edinbourgh_bikes_engeto_project.ipynb",
      "provenance": [],
      "collapsed_sections": [],
      "authorship_tag": "ABX9TyOVGLoT9XXQGFX/P/nYC9OD",
      "include_colab_link": true
    },
    "kernelspec": {
      "name": "python3",
      "display_name": "Python 3"
    }
  },
  "cells": [
    {
      "cell_type": "markdown",
      "metadata": {
        "id": "view-in-github",
        "colab_type": "text"
      },
      "source": [
        "<a href=\"https://colab.research.google.com/github/tompoles/Portfolio/blob/project_3/Edinbourgh_bikes_engeto_project.ipynb\" target=\"_parent\"><img src=\"https://colab.research.google.com/assets/colab-badge.svg\" alt=\"Open In Colab\"/></a>"
      ]
    },
    {
      "cell_type": "code",
      "metadata": {
        "colab": {
          "base_uri": "https://localhost:8080/"
        },
        "id": "cLLwyb0142o8",
        "outputId": "a8ef4beb-23bf-4c68-da9b-338800823961"
      },
      "source": [
        "import numpy as np\n",
        "import pandas as pd\n",
        "import matplotlib.pyplot as plt\n",
        "import sqlalchemy\n",
        "!pip install pymysql\n",
        "conn_string = \"mysql+pymysql://student:p7@vw7MCatmnKjy7@data.engeto.com/data\"\n",
        "alchemy_conn = sqlalchemy.create_engine(conn_string)\n",
        "query = \"\"\"select * from edinburgh_bikes\"\"\"\n",
        "edinburgh_bikes_df = pd.read_sql(query, alchemy_conn)"
      ],
      "execution_count": 2,
      "outputs": [
        {
          "output_type": "stream",
          "text": [
            "Collecting pymysql\n",
            "\u001b[?25l  Downloading https://files.pythonhosted.org/packages/1a/ea/dd9c81e2d85efd03cfbf808736dd055bd9ea1a78aea9968888b1055c3263/PyMySQL-0.10.1-py2.py3-none-any.whl (47kB)\n",
            "\r\u001b[K     |██████▉                         | 10kB 16.1MB/s eta 0:00:01\r\u001b[K     |█████████████▊                  | 20kB 10.7MB/s eta 0:00:01\r\u001b[K     |████████████████████▌           | 30kB 7.9MB/s eta 0:00:01\r\u001b[K     |███████████████████████████▍    | 40kB 7.0MB/s eta 0:00:01\r\u001b[K     |████████████████████████████████| 51kB 2.7MB/s \n",
            "\u001b[?25hInstalling collected packages: pymysql\n",
            "Successfully installed pymysql-0.10.1\n"
          ],
          "name": "stdout"
        }
      ]
    },
    {
      "cell_type": "markdown",
      "metadata": {
        "id": "wL3Tu9Vpxjmv"
      },
      "source": [
        "*   Identifikujte aktivní a neaktivní stanice\n",
        "\n",
        "\n",
        "\n",
        "\n",
        "\n",
        "\n",
        "\n",
        "\n",
        "\n"
      ]
    },
    {
      "cell_type": "code",
      "metadata": {
        "id": "AJ00JmgJPofp"
      },
      "source": [
        "edinburgh_bikes_df.info()"
      ],
      "execution_count": null,
      "outputs": []
    },
    {
      "cell_type": "code",
      "metadata": {
        "id": "Kdpy0k_f4w02"
      },
      "source": [
        "# pocet pouziti kazde jedne stanice\n",
        "df1 = edinburgh_bikes_df.groupby('start_station_name', as_index=False).agg({'index':['count']})\n",
        "df2 = edinburgh_bikes_df.groupby('end_station_name', as_index=False).agg({'index':'count'})"
      ],
      "execution_count": 4,
      "outputs": []
    },
    {
      "cell_type": "code",
      "metadata": {
        "id": "JhO6Eo3X55Pu"
      },
      "source": [
        "# udelat deskriptivni statistiku co bude pod 25 je nevyuzite, na 75 hodne vyuzite\n",
        "df1.describe(), df2.describe()"
      ],
      "execution_count": null,
      "outputs": []
    },
    {
      "cell_type": "code",
      "metadata": {
        "id": "WfVFklWbIbQT"
      },
      "source": [
        "# vyfiltrovani vyuzitych a nevyuzitych stanic\n",
        "  # filtr startovacich stanic na zaklade 25%+ vyuzitelnosti\n",
        "df1['usability'] = np.where(df1['index'] > df1['index'].quantile(.25), 'usefull','expendable')\n",
        "  # filtr konecnych stanic na zaklade 25%+ vyuzitelnosti\n",
        "df2['usability'] = np.where(df2['index'] > df2['index'].quantile(.25), 'usefull','expendable')\n",
        "# vysledny seznam stanic\n",
        "df1[df1['usability'] == 'usefull']"
      ],
      "execution_count": null,
      "outputs": []
    },
    {
      "cell_type": "code",
      "metadata": {
        "id": "AuYF_At9ObUd",
        "colab": {
          "base_uri": "https://localhost:8080/"
        },
        "outputId": "b9d621ad-1094-42b6-9bd7-a70c583fdbf5"
      },
      "source": [
        "# # Determinovani nejmene frekventovanych stanic na zaklade 25% kvantilu.\n",
        "Usa_df1 = df1[df1['usability'] == 'expendable'].iloc[:, :-1].sort_values([('index','count')], ascending=False).rename(columns=({'start_station_name':'Station name'}))\n",
        "Usa_df1\n",
        "Usa_df2 = df2[df2['usability'] == 'expendable'].iloc[:, :-1].rename(columns=({'end_station_name':'Station name'}))\n",
        "Usa_df = Usa_df1.merge(Usa_df2, on='Station name').drop(columns=[('Station name','')]).rename(columns={'index':'End station usage', \n",
        "                                                                                                      ('index','count'):'Start station usage',\n",
        "                                                                                                      \"('Station name','')\":\"Station\"})"
      ],
      "execution_count": 7,
      "outputs": [
        {
          "output_type": "stream",
          "text": [
            "/usr/local/lib/python3.6/dist-packages/pandas/core/reshape/merge.py:643: UserWarning: merging between different levels can give an unintended result (2 levels on the left,1 on the right)\n",
            "  warnings.warn(msg, UserWarning)\n"
          ],
          "name": "stderr"
        }
      ]
    },
    {
      "cell_type": "code",
      "metadata": {
        "id": "3lpa8YDeou3w"
      },
      "source": [
        "# # Determinovani frekventovanych stanic na zaklade 25% kvantilu. - uzitecne stanice\n",
        "Usa_df12 = df1[df1['usability'] == 'usefull'].iloc[:, :-1].sort_values([('index','count')], ascending=False).rename(columns=({'start_station_name':'Station name'}))\n",
        "Usa_df12\n",
        "Usa_df22 = df2[df2['usability'] == 'usefull'].iloc[:, :-1].rename(columns=({'end_station_name':'Station name'}))\n",
        "Usa_df2 = Usa_df12.merge(Usa_df22, on='Station name').drop(columns=[('Station name','')]).rename(columns={'index':'End station usage', \n",
        "                                                                                                      ('index','count'):'Start station usage',\n",
        "                                                                                                      \"('Station name','')\":\"Station\"})"
      ],
      "execution_count": null,
      "outputs": []
    },
    {
      "cell_type": "markdown",
      "metadata": {
        "id": "YYY_AlCPSS8y"
      },
      "source": [
        "\n",
        "*   identifikujte nejfrekventovanější stanice\n",
        "\n",
        "\n",
        "\n",
        "\n"
      ]
    },
    {
      "cell_type": "code",
      "metadata": {
        "id": "hNV99JfHy4ts"
      },
      "source": [
        "# Determinovani frekventovanych stanic na zaklade 75% kvantilu.\n",
        "df1['frq'] = np.where(df1['index'] > df1['index'].quantile(.75), '+', 0)\n",
        "df2['frq'] = np.where(df2['index'] > df2['index'].quantile(.75), '+', 0)"
      ],
      "execution_count": 9,
      "outputs": []
    },
    {
      "cell_type": "code",
      "metadata": {
        "id": "bm6uEaKw8x5g"
      },
      "source": [
        "# uprava vysledne tabulky nejfrektovanejsich stanic\n",
        "frq_df1 = df1.iloc[:, :-2][df1['frq'] == '+'].rename(columns={'start_station_name':'Station name'}).sort_values([('index','count')], ascending=False)\n",
        "frq_df2 = df2.iloc[:, :-2][df2['frq'] == '+'].rename(columns={'end_station_name':'Station name'})\n",
        "frq_df = frq_df1.merge(frq_df2, on='Station name').drop(columns=[('Station name','')]).rename(columns={'index':'End station usage', \n",
        "                                                                                                      ('index','count'):'Start station usage',\n",
        "                                                                                                      \"('Station name','')\":\"Station\"})"
      ],
      "execution_count": null,
      "outputs": []
    },
    {
      "cell_type": "markdown",
      "metadata": {
        "id": "G-zIEto4YSAa"
      },
      "source": [
        "\n",
        "\n",
        "*   identifikujte stanice, na kterých se kola hromadí a stanice, kde potenciálně chybí\n",
        "\n",
        "\n"
      ]
    },
    {
      "cell_type": "code",
      "metadata": {
        "id": "e8IaIbOvYbcf"
      },
      "source": [
        "# Station diff, kde chybi/prebyvaji kola\n",
        "Usa_df2['Station diff'] = Usa_df2['End station usage'] - Usa_df2['Start station usage']\n",
        "Usa_df2.sort_values(by=['Station diff'])"
      ],
      "execution_count": null,
      "outputs": []
    },
    {
      "cell_type": "markdown",
      "metadata": {
        "id": "Ekb7Nvq-sjyd"
      },
      "source": [
        "*   Spočítejte vzdálenosti mezi jednotlivými stanicemi\n",
        "\n",
        "\n"
      ]
    },
    {
      "cell_type": "code",
      "metadata": {
        "id": "hH_vtbjj2Cnq"
      },
      "source": [
        "Dist_df = edinburgh_bikes_df[['start_station_name',\t'start_station_latitude', 'start_station_longitude', 'end_station_name', 'end_station_latitude','end_station_longitude', 'duration']]\n",
        "Dist_df.rename(columns={'start_station_name':'Start station',\t'start_station_latitude':'SLat', 'start_station_longitude':'Slong', 'end_station_name':'End station', 'end_station_latitude':'Elat','end_station_longitude':'Elong'}, inplace=True)"
      ],
      "execution_count": null,
      "outputs": []
    },
    {
      "cell_type": "code",
      "metadata": {
        "id": "NLuJ2XmUsUem"
      },
      "source": [
        "# Vyuziti funkce haversine na spocitani vzdalenosti na zaklade sirek a delek\n",
        "import numpy as np\n",
        "\n",
        "def haversine_np(lon1, lat1, lon2, lat2):\n",
        "    lon1, lat1, lon2, lat2 = map(np.radians, [lon1, lat1, lon2, lat2])\n",
        "    dlon = lon2 - lon1\n",
        "    dlat = lat2 - lat1\n",
        "    a = np.sin(dlat/2.0)**2 + np.cos(lat1) * np.cos(lat2) * np.sin(dlon/2.0)**2\n",
        "    c = 2 * np.arcsin(np.sqrt(a))\n",
        "    km = 6367 * c\n",
        "    return km"
      ],
      "execution_count": 13,
      "outputs": []
    },
    {
      "cell_type": "code",
      "metadata": {
        "id": "xYZUOQtE9zSS"
      },
      "source": [
        "# Uprava vysledneho DF\n",
        "Dist_df['distance[km]'] = haversine_np(Dist_df['SLat'],Dist_df['Slong'],Dist_df['Elat'],Dist_df['Elong']).round(2)\n",
        "Dist_df.drop(columns=['SLat','Slong',\t'Elat',\t'Elong'], inplace=True)\n",
        "Dist_df['Duration[min]'] = (Dist_df['duration']/60).round(2)"
      ],
      "execution_count": null,
      "outputs": []
    },
    {
      "cell_type": "code",
      "metadata": {
        "id": "8h7Xs-yA_t_L"
      },
      "source": [
        "Dist_df.drop(columns='duration', inplace=True)"
      ],
      "execution_count": null,
      "outputs": []
    },
    {
      "cell_type": "markdown",
      "metadata": {
        "id": "XfNPcFoCQJGO"
      },
      "source": [
        "*  Jak dlouho trvá jedna výpůjčka? Najděte odlehlé hodnoty\n",
        "\n"
      ]
    },
    {
      "cell_type": "code",
      "metadata": {
        "id": "sV8xTrGq2DXK"
      },
      "source": [
        "df1 = Dist_df[(Dist_df['distance[km]'] < 280)]"
      ],
      "execution_count": 16,
      "outputs": []
    },
    {
      "cell_type": "code",
      "metadata": {
        "id": "Dj-A2EDPQbt6"
      },
      "source": [
        "# df[(df['safety'] <= 0.97) & ((df['rent'] > 900) & (df['rent'] < 1100))]\n",
        "DF = Dist_df[(((Dist_df['distance[km]'] > 0) & (Dist_df['distance[km]'] < 280))) & (((Dist_df['Duration[min]'] > 1.02) & (Dist_df['Duration[min]'] < 500.05)))] \n",
        "DF"
      ],
      "execution_count": null,
      "outputs": []
    },
    {
      "cell_type": "markdown",
      "metadata": {
        "id": "RvJ8wtVaQtXA"
      },
      "source": [
        "*    Zobrazte histogram\n",
        "\n"
      ]
    },
    {
      "cell_type": "code",
      "metadata": {
        "colab": {
          "base_uri": "https://localhost:8080/",
          "height": 294
        },
        "id": "efVQ-EpFXd1n",
        "outputId": "76d8fa2d-b47c-41b3-ac02-4d89a059f373"
      },
      "source": [
        "plt.hist(DF['Duration[min]'], bins=1000)\n",
        "plt.xlim(0, 125,0.1)\n",
        "plt.xlabel('[min]')\n",
        "plt.ylabel('Rides')\n",
        "plt.title('Duration[min]')\n",
        "plt.grid(True)\n",
        "plt.show()"
      ],
      "execution_count": 18,
      "outputs": [
        {
          "output_type": "display_data",
          "data": {
            "image/png": "[encoded data removed]",
            "text/plain": [
              "<Figure size 432x288 with 1 Axes>"
            ]
          },
          "metadata": {
            "tags": [],
            "needs_background": "light"
          }
        }
      ]
    },
    {
      "cell_type": "code",
      "metadata": {
        "id": "od7Ew42lGr6q"
      },
      "source": [
        "import seaborn as sns\n",
        "sns.pairplot(DF,\n",
        "             plot_kws={'facecolor': 'red',\n",
        "                       'alpha': 0.3}, \n",
        "             height=4)\n",
        "plt.show()"
      ],
      "execution_count": null,
      "outputs": []
    },
    {
      "cell_type": "markdown",
      "metadata": {
        "id": "n-H9BB83ICU4"
      },
      "source": [
        "*   Zobrazte vývoj poptávky po půjčování kol v čase\n",
        "\n"
      ]
    },
    {
      "cell_type": "code",
      "metadata": {
        "id": "R68TOROlp1Ef"
      },
      "source": [
        "# Nacteni dat\n",
        "query = \"\"\"select * from edinburgh_weather\"\"\"\n",
        "edinburgh_weather_df = pd.read_sql(query, alchemy_conn)"
      ],
      "execution_count": 20,
      "outputs": []
    },
    {
      "cell_type": "code",
      "metadata": {
        "id": "LHFZ0Vk_sZjX"
      },
      "source": [
        "edinburgh_weather_df"
      ],
      "execution_count": null,
      "outputs": []
    },
    {
      "cell_type": "code",
      "metadata": {
        "id": "OutPjfYEqB2e"
      },
      "source": [
        "# vybrani a upraveni dat\n",
        "ew_df1 = edinburgh_weather_df[['date', 'feels','rain']]\n",
        "ew_df2 = ew_df1.replace('\\u00b0','', regex=True)\n",
        "ew_df2 = ew_df2.replace('mm','', regex=True)"
      ],
      "execution_count": null,
      "outputs": []
    },
    {
      "cell_type": "code",
      "metadata": {
        "id": "t6TaLwxOJPha"
      },
      "source": [
        "EW_DF = ew_df2.replace('c', '', regex=True)\n",
        "EW_DF['feels'] = pd.to_numeric(EW_DF['feels'])\n",
        "EW_DF['rain'] = pd.to_numeric(EW_DF['rain'])"
      ],
      "execution_count": null,
      "outputs": []
    },
    {
      "cell_type": "code",
      "metadata": {
        "id": "wBgpXlDMSFfb"
      },
      "source": [
        "EW_DF = EW_DF[(EW_DF['date'] >= '2018-09-15')]\n",
        "EW_DF = EW_DF.groupby('date', as_index=False).agg({'feels':'mean', 'rain':'mean'}).round(0)\n",
        "EW_DF['date'] = EW_DF['date'].astype('datetime64')"
      ],
      "execution_count": null,
      "outputs": []
    },
    {
      "cell_type": "code",
      "metadata": {
        "id": "3aQMtagdvtRj"
      },
      "source": [
        "# Rozdeleni sloupce Start_at na \"date\" - datum a \"time\" - cas\n",
        "from operator import attrgetter\n",
        "fields = ['date', 'time']\n",
        "df = edinburgh_bikes_df.join(pd.concat(attrgetter(*fields)(edinburgh_bikes_df['started_at'].dt), axis=1, keys=fields))\n",
        "df.drop(columns=['started_at'], inplace=True)\n",
        "DF_dem =df[['date', 'time','start_station_name', 'end_station_name', 'duration']]\n",
        "df_dem = DF_dem .groupby('date', as_index=False).agg({'start_station_name':'count'}).rename(columns={'start_station_name':'Rent count'})"
      ],
      "execution_count": 155,
      "outputs": []
    },
    {
      "cell_type": "markdown",
      "metadata": {
        "id": "ufSQ-psm5vQg"
      },
      "source": [
        "Predelat date na timestamp, spojit dva grafy, urcit vikendy"
      ]
    },
    {
      "cell_type": "code",
      "metadata": {
        "id": "-CxqbaKhgUUG"
      },
      "source": [
        "#  zmena datoveho typu\n",
        "df_dem['date'] = df_dem['date'].astype('datetime64')"
      ],
      "execution_count": 118,
      "outputs": []
    },
    {
      "cell_type": "code",
      "metadata": {
        "id": "a0HbeuDqj5gU"
      },
      "source": [
        "df_dem.info()"
      ],
      "execution_count": null,
      "outputs": []
    },
    {
      "cell_type": "code",
      "metadata": {
        "id": "7hMFXImpA6uO"
      },
      "source": [
        "# graf vyuziti kol v case\n",
        "plt.plot(df_dem['Rent count'], label='Bike demand', color='red')\n",
        "# plt.plot(ew_df1, label='Bike demand', color='blue')\n",
        "plt.title('Bike demand in time (Diff)', x=1, loc='right', fontstyle='italic')\n",
        "plt.xlabel('$Date$', fontsize=14)\n",
        "plt.ylabel('Rents', fontsize=14)\n",
        "plt.xticks(rotation=-30, ha='left')\n",
        "plt.legend(fontsize=14, ncol=2)\n",
        "plt.grid()\n",
        "plt.show()"
      ],
      "execution_count": null,
      "outputs": []
    },
    {
      "cell_type": "code",
      "metadata": {
        "id": "idKwxDKXHYNG"
      },
      "source": [
        "# graf teplot v case\n",
        "plt.plot(EW_DF['feels'], label='Bike demand', color='red')\n",
        "plt.title('Bike demand in time (Diff)', x=1, loc='right', fontstyle='italic')\n",
        "plt.xlabel('$Date$', fontsize=14)\n",
        "plt.ylabel('Rents', fontsize=14)\n",
        "plt.xticks(rotation=-30, ha='left')\n",
        "plt.legend(fontsize=14, ncol=2)\n",
        "plt.grid()\n",
        "plt.show()"
      ],
      "execution_count": null,
      "outputs": []
    },
    {
      "cell_type": "markdown",
      "metadata": {
        "id": "6i3gVrVNmNYD"
      },
      "source": [
        "\n",
        "*  identifikujte příčiny výkyvů poptávky\n",
        "\n"
      ]
    },
    {
      "cell_type": "code",
      "metadata": {
        "id": "JKi_6orfPO_R"
      },
      "source": [
        "# Mozna zavislost vypujcovani kol na pocitove teplote\n",
        "from matplotlib.pyplot import figure\n",
        "fig, ax1 = plt.subplots(figsize=(15,8))\n",
        "\n",
        "color = 'tab:red'\n",
        "ax1.set_xlabel('Date', fontsize=15)\n",
        "ax1.set_ylabel('Rents', color=color, fontsize=15)\n",
        "ax1.plot(df_dem['Rent count'], color=color)\n",
        "ax1.tick_params(axis='y', labelcolor=color)\n",
        "\n",
        "ax2 = ax1.twinx() \n",
        "\n",
        "color = 'tab:blue'\n",
        "ax2.set_ylabel('Temperatute', color=color, fontsize=15) \n",
        "ax2.plot(EW_DF['feels'], color=color, alpha=0.3)\n",
        "ax2.tick_params(axis='y', labelcolor=color) \n",
        "fig.tight_layout() \n",
        "plt.show()"
      ],
      "execution_count": null,
      "outputs": []
    },
    {
      "cell_type": "code",
      "metadata": {
        "id": "TiUzpYUBln5m"
      },
      "source": [
        "# Mozna zavislost vypujcovani kol na zprumerovane mm srazek\n",
        "from matplotlib.pyplot import figure\n",
        "fig, ax1 = plt.subplots(figsize=(15,8))\n",
        "\n",
        "color = 'tab:red'\n",
        "ax1.set_xlabel('Date', fontsize=15)\n",
        "ax1.set_ylabel('Rents', color=color, fontsize=15)\n",
        "ax1.plot(df_dem['Rent count'], color=color)\n",
        "ax1.tick_params(axis='y', labelcolor=color)\n",
        "\n",
        "ax2 = ax1.twinx()  \n",
        "\n",
        "color = 'tab:blue'\n",
        "ax2.set_ylabel('Rain[mm]', color=color, fontsize=15)  \n",
        "ax2.plot(EW_DF['rain'], color=color, alpha=0.3)\n",
        "ax2.tick_params(axis='y', labelcolor=color) \n",
        "fig.tight_layout() \n",
        "plt.show()"
      ],
      "execution_count": null,
      "outputs": []
    },
    {
      "cell_type": "markdown",
      "metadata": {
        "id": "q_KyanHkDsJS"
      },
      "source": [
        "*   Půjčují si lidé kola více o víkendu než během pracovního týdne?\n",
        "\n",
        "\n"
      ]
    },
    {
      "cell_type": "code",
      "metadata": {
        "id": "pXjKa0eTC38q"
      },
      "source": [
        "df_dem.describe()"
      ],
      "execution_count": null,
      "outputs": []
    },
    {
      "cell_type": "code",
      "metadata": {
        "colab": {
          "base_uri": "https://localhost:8080/",
          "height": 140
        },
        "id": "6BKFGnNR7dtC",
        "outputId": "973a35c4-81d8-40e6-a3fd-471452e184a3"
      },
      "source": [
        "# urceni vikendu\n",
        "df_dem['wkn'] = ((pd.DatetimeIndex(df_dem.date).dayofweek) // 5 == 1).astype(int)\n",
        "# Urceni pujcovani kol weekdays/weekends\n",
        "df_dem.groupby('wkn').mean().round(0)"
      ],
      "execution_count": 157,
      "outputs": [
        {
          "output_type": "execute_result",
          "data": {
            "text/html": [
              "<div>\n",
              "<style scoped>\n",
              "    .dataframe tbody tr th:only-of-type {\n",
              "        vertical-align: middle;\n",
              "    }\n",
              "\n",
              "    .dataframe tbody tr th {\n",
              "        vertical-align: top;\n",
              "    }\n",
              "\n",
              "    .dataframe thead th {\n",
              "        text-align: right;\n",
              "    }\n",
              "</style>\n",
              "<table border=\"1\" class=\"dataframe\">\n",
              "  <thead>\n",
              "    <tr style=\"text-align: right;\">\n",
              "      <th></th>\n",
              "      <th>Rent count</th>\n",
              "    </tr>\n",
              "    <tr>\n",
              "      <th>wkn</th>\n",
              "      <th></th>\n",
              "    </tr>\n",
              "  </thead>\n",
              "  <tbody>\n",
              "    <tr>\n",
              "      <th>0</th>\n",
              "      <td>437.0</td>\n",
              "    </tr>\n",
              "    <tr>\n",
              "      <th>1</th>\n",
              "      <td>488.0</td>\n",
              "    </tr>\n",
              "  </tbody>\n",
              "</table>\n",
              "</div>"
            ],
            "text/plain": [
              "     Rent count\n",
              "wkn            \n",
              "0         437.0\n",
              "1         488.0"
            ]
          },
          "metadata": {
            "tags": []
          },
          "execution_count": 157
        }
      ]
    }
  ]
}