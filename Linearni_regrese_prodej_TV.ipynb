{
  "nbformat": 4,
  "nbformat_minor": 0,
  "metadata": {
    "colab": {
      "name": "Linearni regrese_prodej TV.ipynb",
      "provenance": [],
      "collapsed_sections": [],
      "authorship_tag": "ABX9TyM3p5uIXnQZ3Gj5yL/1uUyz",
      "include_colab_link": true
    },
    "kernelspec": {
      "name": "python3",
      "display_name": "Python 3"
    }
  },
  "cells": [
    {
      "cell_type": "markdown",
      "metadata": {
        "id": "view-in-github",
        "colab_type": "text"
      },
      "source": [
        "<a href=\"https://colab.research.google.com/github/tompoles/Portfolio/blob/project_3/Linearni_regrese_prodej_TV.ipynb\" target=\"_parent\"><img src=\"https://colab.research.google.com/assets/colab-badge.svg\" alt=\"Open In Colab\"/></a>"
      ]
    },
    {
      "cell_type": "code",
      "metadata": {
        "colab": {
          "base_uri": "https://localhost:8080/"
        },
        "id": "fWrm9WaMhuhB",
        "outputId": "bc7f6d86-f4e8-4ed0-9d60-5d65f9c907cc"
      },
      "source": [
        "import numpy as np\n",
        "import pandas as pd\n",
        "import matplotlib.pyplot as plt\n",
        "import seaborn as sns\n",
        "from termcolor import colored as cl\n",
        "from google.colab import drive\n",
        "from sklearn.model_selection import train_test_split\n",
        "drive.mount('/gdrive')\n",
        "%cd /gdrive/MyDrive/Colab_Notebooks"
      ],
      "execution_count": 13,
      "outputs": [
        {
          "output_type": "stream",
          "text": [
            "Drive already mounted at /gdrive; to attempt to forcibly remount, call drive.mount(\"/gdrive\", force_remount=True).\n",
            "/gdrive/MyDrive/Colab_Notebooks\n"
          ],
          "name": "stdout"
        }
      ]
    },
    {
      "cell_type": "code",
      "metadata": {
        "id": "BZLccQd6hgDn"
      },
      "source": [
        "df = pd.read_csv('/gdrive/MyDrive/Colab Notebooks/Datasets/Company_data.csv')"
      ],
      "execution_count": 2,
      "outputs": []
    },
    {
      "cell_type": "code",
      "metadata": {
        "colab": {
          "base_uri": "https://localhost:8080/",
          "height": 291
        },
        "id": "7sOwFX9ajaAr",
        "outputId": "8f714287-ae1d-402f-bdb9-c4afeb72c425"
      },
      "source": [
        "df.describe()"
      ],
      "execution_count": 5,
      "outputs": [
        {
          "output_type": "execute_result",
          "data": {
            "text/html": [
              "<div>\n",
              "<style scoped>\n",
              "    .dataframe tbody tr th:only-of-type {\n",
              "        vertical-align: middle;\n",
              "    }\n",
              "\n",
              "    .dataframe tbody tr th {\n",
              "        vertical-align: top;\n",
              "    }\n",
              "\n",
              "    .dataframe thead th {\n",
              "        text-align: right;\n",
              "    }\n",
              "</style>\n",
              "<table border=\"1\" class=\"dataframe\">\n",
              "  <thead>\n",
              "    <tr style=\"text-align: right;\">\n",
              "      <th></th>\n",
              "      <th>TV</th>\n",
              "      <th>Radio</th>\n",
              "      <th>Newspaper</th>\n",
              "      <th>Sales</th>\n",
              "    </tr>\n",
              "  </thead>\n",
              "  <tbody>\n",
              "    <tr>\n",
              "      <th>count</th>\n",
              "      <td>200.000000</td>\n",
              "      <td>200.000000</td>\n",
              "      <td>200.000000</td>\n",
              "      <td>200.000000</td>\n",
              "    </tr>\n",
              "    <tr>\n",
              "      <th>mean</th>\n",
              "      <td>147.042500</td>\n",
              "      <td>23.264000</td>\n",
              "      <td>30.554000</td>\n",
              "      <td>15.130500</td>\n",
              "    </tr>\n",
              "    <tr>\n",
              "      <th>std</th>\n",
              "      <td>85.854236</td>\n",
              "      <td>14.846809</td>\n",
              "      <td>21.778621</td>\n",
              "      <td>5.283892</td>\n",
              "    </tr>\n",
              "    <tr>\n",
              "      <th>min</th>\n",
              "      <td>0.700000</td>\n",
              "      <td>0.000000</td>\n",
              "      <td>0.300000</td>\n",
              "      <td>1.600000</td>\n",
              "    </tr>\n",
              "    <tr>\n",
              "      <th>25%</th>\n",
              "      <td>74.375000</td>\n",
              "      <td>9.975000</td>\n",
              "      <td>12.750000</td>\n",
              "      <td>11.000000</td>\n",
              "    </tr>\n",
              "    <tr>\n",
              "      <th>50%</th>\n",
              "      <td>149.750000</td>\n",
              "      <td>22.900000</td>\n",
              "      <td>25.750000</td>\n",
              "      <td>16.000000</td>\n",
              "    </tr>\n",
              "    <tr>\n",
              "      <th>75%</th>\n",
              "      <td>218.825000</td>\n",
              "      <td>36.525000</td>\n",
              "      <td>45.100000</td>\n",
              "      <td>19.050000</td>\n",
              "    </tr>\n",
              "    <tr>\n",
              "      <th>max</th>\n",
              "      <td>296.400000</td>\n",
              "      <td>49.600000</td>\n",
              "      <td>114.000000</td>\n",
              "      <td>27.000000</td>\n",
              "    </tr>\n",
              "  </tbody>\n",
              "</table>\n",
              "</div>"
            ],
            "text/plain": [
              "               TV       Radio   Newspaper       Sales\n",
              "count  200.000000  200.000000  200.000000  200.000000\n",
              "mean   147.042500   23.264000   30.554000   15.130500\n",
              "std     85.854236   14.846809   21.778621    5.283892\n",
              "min      0.700000    0.000000    0.300000    1.600000\n",
              "25%     74.375000    9.975000   12.750000   11.000000\n",
              "50%    149.750000   22.900000   25.750000   16.000000\n",
              "75%    218.825000   36.525000   45.100000   19.050000\n",
              "max    296.400000   49.600000  114.000000   27.000000"
            ]
          },
          "metadata": {
            "tags": []
          },
          "execution_count": 5
        }
      ]
    },
    {
      "cell_type": "code",
      "metadata": {
        "colab": {
          "base_uri": "https://localhost:8080/",
          "height": 335
        },
        "id": "3UZzbRBxlOKF",
        "outputId": "436a4456-ce10-4d65-c0ec-1037158c22ed"
      },
      "source": [
        "import matplotlib.pyplot as plt \n",
        "import seaborn as sns\n",
        "\n",
        "# Using pairplot we'll visualize the data for correlation\n",
        "sns.pairplot(df, x_vars=['TV', 'Radio','Newspaper'], \n",
        "             y_vars='Sales', size=4, aspect=1, kind='scatter')\n",
        "plt.show()"
      ],
      "execution_count": 8,
      "outputs": [
        {
          "output_type": "stream",
          "text": [
            "/usr/local/lib/python3.6/dist-packages/seaborn/axisgrid.py:1969: UserWarning: The `size` parameter has been renamed to `height`; please update your code.\n",
            "  warnings.warn(msg, UserWarning)\n"
          ],
          "name": "stderr"
        },
        {
          "output_type": "display_data",
          "data": {
            "image/png": "[encoded data removed]",
            "text/plain": [
              "<Figure size 864x288 with 3 Axes>"
            ]
          },
          "metadata": {
            "tags": [],
            "needs_background": "light"
          }
        }
      ]
    },
    {
      "cell_type": "code",
      "metadata": {
        "colab": {
          "base_uri": "https://localhost:8080/",
          "height": 268
        },
        "id": "-636yDTUltN_",
        "outputId": "92c79d0d-d543-4557-c3d2-40775042bd42"
      },
      "source": [
        "# Visualizing the data using heatmap\n",
        "sns.heatmap(df.corr(), cmap=\"YlGnBu\", annot = True)\n",
        "plt.show()"
      ],
      "execution_count": 10,
      "outputs": [
        {
          "output_type": "display_data",
          "data": {
            "image/png": "[encoded data removed]",
            "text/plain": [
              "<Figure size 432x288 with 2 Axes>"
            ]
          },
          "metadata": {
            "tags": [],
            "needs_background": "light"
          }
        }
      ]
    },
    {
      "cell_type": "markdown",
      "metadata": {
        "id": "fFWqDHR4pMvj"
      },
      "source": [
        "Vytvoreni regreseni analyzy\n",
        "\n",
        "- Create X and y\n",
        "- Create Train and Test set\n",
        "- Train your model\n",
        "- Evaluate the model"
      ]
    },
    {
      "cell_type": "code",
      "metadata": {
        "id": "p9-C7GkApMHy"
      },
      "source": [
        "X = df['TV']\n",
        "y = df['Sales']"
      ],
      "execution_count": 11,
      "outputs": []
    },
    {
      "cell_type": "code",
      "metadata": {
        "id": "ICxd12VaqckJ"
      },
      "source": [
        "# Vytvoreni train setu a test setu v pomeru 70:30\n",
        "X_train, X_test, y_train, y_test = train_test_split(X, y, train_size = 0.7, \n",
        "                                                    test_size = 0.3, random_state = 100)"
      ],
      "execution_count": 14,
      "outputs": []
    },
    {
      "cell_type": "code",
      "metadata": {
        "id": "tb3X1jVx3Juv"
      },
      "source": [
        "print(X_train)\n",
        "print(X_test)"
      ],
      "execution_count": null,
      "outputs": []
    },
    {
      "cell_type": "code",
      "metadata": {
        "colab": {
          "base_uri": "https://localhost:8080/"
        },
        "id": "F32gBOjcrD4s",
        "outputId": "3e4b3c3c-0b94-4acf-dbc1-3845d48ba2be"
      },
      "source": [
        "import statsmodels.api as sm"
      ],
      "execution_count": 17,
      "outputs": [
        {
          "output_type": "stream",
          "text": [
            "/usr/local/lib/python3.6/dist-packages/statsmodels/tools/_testing.py:19: FutureWarning: pandas.util.testing is deprecated. Use the functions in the public API at pandas.testing instead.\n",
            "  import pandas.util.testing as tm\n"
          ],
          "name": "stderr"
        }
      ]
    },
    {
      "cell_type": "code",
      "metadata": {
        "id": "EPmAmy1vrVBS"
      },
      "source": [
        "X_train_sm = sm.add_constant(X_train)"
      ],
      "execution_count": 18,
      "outputs": []
    },
    {
      "cell_type": "code",
      "metadata": {
        "colab": {
          "base_uri": "https://localhost:8080/",
          "height": 411
        },
        "id": "aGlVdvM1rwiO",
        "outputId": "982a46b0-f137-40c0-cc5a-c73240ec1f37"
      },
      "source": [
        "X_train_sm"
      ],
      "execution_count": 19,
      "outputs": [
        {
          "output_type": "execute_result",
          "data": {
            "text/html": [
              "<div>\n",
              "<style scoped>\n",
              "    .dataframe tbody tr th:only-of-type {\n",
              "        vertical-align: middle;\n",
              "    }\n",
              "\n",
              "    .dataframe tbody tr th {\n",
              "        vertical-align: top;\n",
              "    }\n",
              "\n",
              "    .dataframe thead th {\n",
              "        text-align: right;\n",
              "    }\n",
              "</style>\n",
              "<table border=\"1\" class=\"dataframe\">\n",
              "  <thead>\n",
              "    <tr style=\"text-align: right;\">\n",
              "      <th></th>\n",
              "      <th>const</th>\n",
              "      <th>TV</th>\n",
              "    </tr>\n",
              "  </thead>\n",
              "  <tbody>\n",
              "    <tr>\n",
              "      <th>74</th>\n",
              "      <td>1.0</td>\n",
              "      <td>213.4</td>\n",
              "    </tr>\n",
              "    <tr>\n",
              "      <th>3</th>\n",
              "      <td>1.0</td>\n",
              "      <td>151.5</td>\n",
              "    </tr>\n",
              "    <tr>\n",
              "      <th>185</th>\n",
              "      <td>1.0</td>\n",
              "      <td>205.0</td>\n",
              "    </tr>\n",
              "    <tr>\n",
              "      <th>26</th>\n",
              "      <td>1.0</td>\n",
              "      <td>142.9</td>\n",
              "    </tr>\n",
              "    <tr>\n",
              "      <th>90</th>\n",
              "      <td>1.0</td>\n",
              "      <td>134.3</td>\n",
              "    </tr>\n",
              "    <tr>\n",
              "      <th>...</th>\n",
              "      <td>...</td>\n",
              "      <td>...</td>\n",
              "    </tr>\n",
              "    <tr>\n",
              "      <th>87</th>\n",
              "      <td>1.0</td>\n",
              "      <td>110.7</td>\n",
              "    </tr>\n",
              "    <tr>\n",
              "      <th>103</th>\n",
              "      <td>1.0</td>\n",
              "      <td>187.9</td>\n",
              "    </tr>\n",
              "    <tr>\n",
              "      <th>67</th>\n",
              "      <td>1.0</td>\n",
              "      <td>139.3</td>\n",
              "    </tr>\n",
              "    <tr>\n",
              "      <th>24</th>\n",
              "      <td>1.0</td>\n",
              "      <td>62.3</td>\n",
              "    </tr>\n",
              "    <tr>\n",
              "      <th>8</th>\n",
              "      <td>1.0</td>\n",
              "      <td>8.6</td>\n",
              "    </tr>\n",
              "  </tbody>\n",
              "</table>\n",
              "<p>140 rows × 2 columns</p>\n",
              "</div>"
            ],
            "text/plain": [
              "     const     TV\n",
              "74     1.0  213.4\n",
              "3      1.0  151.5\n",
              "185    1.0  205.0\n",
              "26     1.0  142.9\n",
              "90     1.0  134.3\n",
              "..     ...    ...\n",
              "87     1.0  110.7\n",
              "103    1.0  187.9\n",
              "67     1.0  139.3\n",
              "24     1.0   62.3\n",
              "8      1.0    8.6\n",
              "\n",
              "[140 rows x 2 columns]"
            ]
          },
          "metadata": {
            "tags": []
          },
          "execution_count": 19
        }
      ]
    },
    {
      "cell_type": "code",
      "metadata": {
        "id": "0yHbRiN-sAR1"
      },
      "source": [
        "lr = sm.OLS(y_train, X_train_sm).fit()"
      ],
      "execution_count": 20,
      "outputs": []
    },
    {
      "cell_type": "code",
      "metadata": {
        "colab": {
          "base_uri": "https://localhost:8080/"
        },
        "id": "AJh8IjHXsGvk",
        "outputId": "f64809f2-a4cf-4933-c4b5-37a1c66db4b4"
      },
      "source": [
        "lr.params"
      ],
      "execution_count": 22,
      "outputs": [
        {
          "output_type": "execute_result",
          "data": {
            "text/plain": [
              "const    6.948683\n",
              "TV       0.054546\n",
              "dtype: float64"
            ]
          },
          "metadata": {
            "tags": []
          },
          "execution_count": 22
        }
      ]
    },
    {
      "cell_type": "code",
      "metadata": {
        "colab": {
          "base_uri": "https://localhost:8080/",
          "height": 432
        },
        "id": "M8ZnugaBsadD",
        "outputId": "9026ebe2-07f0-45d6-dbd1-7616be410b98"
      },
      "source": [
        "lr.summary()"
      ],
      "execution_count": 24,
      "outputs": [
        {
          "output_type": "execute_result",
          "data": {
            "text/html": [
              "<table class=\"simpletable\">\n",
              "<caption>OLS Regression Results</caption>\n",
              "<tr>\n",
              "  <th>Dep. Variable:</th>          <td>Sales</td>      <th>  R-squared:         </th> <td>   0.816</td>\n",
              "</tr>\n",
              "<tr>\n",
              "  <th>Model:</th>                   <td>OLS</td>       <th>  Adj. R-squared:    </th> <td>   0.814</td>\n",
              "</tr>\n",
              "<tr>\n",
              "  <th>Method:</th>             <td>Least Squares</td>  <th>  F-statistic:       </th> <td>   611.2</td>\n",
              "</tr>\n",
              "<tr>\n",
              "  <th>Date:</th>             <td>Tue, 12 Jan 2021</td> <th>  Prob (F-statistic):</th> <td>1.52e-52</td>\n",
              "</tr>\n",
              "<tr>\n",
              "  <th>Time:</th>                 <td>13:04:18</td>     <th>  Log-Likelihood:    </th> <td> -321.12</td>\n",
              "</tr>\n",
              "<tr>\n",
              "  <th>No. Observations:</th>      <td>   140</td>      <th>  AIC:               </th> <td>   646.2</td>\n",
              "</tr>\n",
              "<tr>\n",
              "  <th>Df Residuals:</th>          <td>   138</td>      <th>  BIC:               </th> <td>   652.1</td>\n",
              "</tr>\n",
              "<tr>\n",
              "  <th>Df Model:</th>              <td>     1</td>      <th>                     </th>     <td> </td>   \n",
              "</tr>\n",
              "<tr>\n",
              "  <th>Covariance Type:</th>      <td>nonrobust</td>    <th>                     </th>     <td> </td>   \n",
              "</tr>\n",
              "</table>\n",
              "<table class=\"simpletable\">\n",
              "<tr>\n",
              "    <td></td>       <th>coef</th>     <th>std err</th>      <th>t</th>      <th>P>|t|</th>  <th>[0.025</th>    <th>0.975]</th>  \n",
              "</tr>\n",
              "<tr>\n",
              "  <th>const</th> <td>    6.9487</td> <td>    0.385</td> <td>   18.068</td> <td> 0.000</td> <td>    6.188</td> <td>    7.709</td>\n",
              "</tr>\n",
              "<tr>\n",
              "  <th>TV</th>    <td>    0.0545</td> <td>    0.002</td> <td>   24.722</td> <td> 0.000</td> <td>    0.050</td> <td>    0.059</td>\n",
              "</tr>\n",
              "</table>\n",
              "<table class=\"simpletable\">\n",
              "<tr>\n",
              "  <th>Omnibus:</th>       <td> 0.027</td> <th>  Durbin-Watson:     </th> <td>   2.196</td>\n",
              "</tr>\n",
              "<tr>\n",
              "  <th>Prob(Omnibus):</th> <td> 0.987</td> <th>  Jarque-Bera (JB):  </th> <td>   0.150</td>\n",
              "</tr>\n",
              "<tr>\n",
              "  <th>Skew:</th>          <td>-0.006</td> <th>  Prob(JB):          </th> <td>   0.928</td>\n",
              "</tr>\n",
              "<tr>\n",
              "  <th>Kurtosis:</th>      <td> 2.840</td> <th>  Cond. No.          </th> <td>    328.</td>\n",
              "</tr>\n",
              "</table><br/><br/>Warnings:<br/>[1] Standard Errors assume that the covariance matrix of the errors is correctly specified."
            ],
            "text/plain": [
              "<class 'statsmodels.iolib.summary.Summary'>\n",
              "\"\"\"\n",
              "                            OLS Regression Results                            \n",
              "==============================================================================\n",
              "Dep. Variable:                  Sales   R-squared:                       0.816\n",
              "Model:                            OLS   Adj. R-squared:                  0.814\n",
              "Method:                 Least Squares   F-statistic:                     611.2\n",
              "Date:                Tue, 12 Jan 2021   Prob (F-statistic):           1.52e-52\n",
              "Time:                        13:04:18   Log-Likelihood:                -321.12\n",
              "No. Observations:                 140   AIC:                             646.2\n",
              "Df Residuals:                     138   BIC:                             652.1\n",
              "Df Model:                           1                                         \n",
              "Covariance Type:            nonrobust                                         \n",
              "==============================================================================\n",
              "                 coef    std err          t      P>|t|      [0.025      0.975]\n",
              "------------------------------------------------------------------------------\n",
              "const          6.9487      0.385     18.068      0.000       6.188       7.709\n",
              "TV             0.0545      0.002     24.722      0.000       0.050       0.059\n",
              "==============================================================================\n",
              "Omnibus:                        0.027   Durbin-Watson:                   2.196\n",
              "Prob(Omnibus):                  0.987   Jarque-Bera (JB):                0.150\n",
              "Skew:                          -0.006   Prob(JB):                        0.928\n",
              "Kurtosis:                       2.840   Cond. No.                         328.\n",
              "==============================================================================\n",
              "\n",
              "Warnings:\n",
              "[1] Standard Errors assume that the covariance matrix of the errors is correctly specified.\n",
              "\"\"\""
            ]
          },
          "metadata": {
            "tags": []
          },
          "execution_count": 24
        }
      ]
    },
    {
      "cell_type": "markdown",
      "metadata": {
        "id": "oznIn1LD0MRe"
      },
      "source": [
        "1. Koeficient pro TV je 0,054 a jeho odpovídající hodnota p je velmi nízká, téměř 0. To znamená, že koeficient je statisticky významný.\n",
        "Musíme zajistit, aby p-hodnota byla vždy menší, aby byl koeficient významný\n",
        "2. Hodnota R-kvadrát je 0,816, což znamená, že 81,6% rozptylu prodeje lze vysvětlit pomocí sloupce TV pomocí tohoto řádku.\n",
        "3. F-statistika Prob má velmi nízkou hodnotu p, prakticky nulovou, což nám dává statisticky významnou shodu modelu."
      ]
    },
    {
      "cell_type": "code",
      "metadata": {
        "colab": {
          "base_uri": "https://localhost:8080/",
          "height": 263
        },
        "id": "9puvmHkau3RD",
        "outputId": "fd06905c-0b4b-41c5-9a06-69b6ab3f8ac7"
      },
      "source": [
        "plt.scatter(X_train, y_train)\n",
        "plt.plot(X_train, 6.948 + 0.054*X_train, 'r')\n",
        "plt.show()"
      ],
      "execution_count": 25,
      "outputs": [
        {
          "output_type": "display_data",
          "data": {
            "image/png": "[encoded data removed]",
            "text/plain": [
              "<Figure size 432x288 with 1 Axes>"
            ]
          },
          "metadata": {
            "tags": [],
            "needs_background": "light"
          }
        }
      ]
    },
    {
      "cell_type": "code",
      "metadata": {
        "colab": {
          "base_uri": "https://localhost:8080/"
        },
        "id": "g_qfVqyKvY69",
        "outputId": "d8595d92-370e-4ff3-a1a4-2380f2e94d99"
      },
      "source": [
        "y_train_pred = lr.predict(X_train_sm)\n",
        "y_train_pred"
      ],
      "execution_count": 27,
      "outputs": [
        {
          "output_type": "execute_result",
          "data": {
            "text/plain": [
              "74     18.588747\n",
              "3      15.212365\n",
              "185    18.130563\n",
              "26     14.743271\n",
              "90     14.274178\n",
              "         ...    \n",
              "87     12.986898\n",
              "103    17.197830\n",
              "67     14.546907\n",
              "24     10.346884\n",
              "8       7.417777\n",
              "Length: 140, dtype: float64"
            ]
          },
          "metadata": {
            "tags": []
          },
          "execution_count": 27
        }
      ]
    },
    {
      "cell_type": "code",
      "metadata": {
        "id": "a9Ko1gdJ04fl"
      },
      "source": [
        "res = (y_train - y_train_pred)"
      ],
      "execution_count": 29,
      "outputs": []
    },
    {
      "cell_type": "code",
      "metadata": {
        "colab": {
          "base_uri": "https://localhost:8080/",
          "height": 355
        },
        "id": "bimmb4IX0p3o",
        "outputId": "015aedc2-dbde-49c7-d89c-a20e976441ca"
      },
      "source": [
        "fig = plt.figure()\n",
        "sns.distplot(res, bins = 15)\n",
        "plt.title('Error Terms', fontsize = 15)\n",
        "plt.xlabel('y_train - y_train_pred', fontsize = 15)\n",
        "plt.show()"
      ],
      "execution_count": 30,
      "outputs": [
        {
          "output_type": "stream",
          "text": [
            "/usr/local/lib/python3.6/dist-packages/seaborn/distributions.py:2557: FutureWarning: `distplot` is a deprecated function and will be removed in a future version. Please adapt your code to use either `displot` (a figure-level function with similar flexibility) or `histplot` (an axes-level function for histograms).\n",
            "  warnings.warn(msg, FutureWarning)\n"
          ],
          "name": "stderr"
        },
        {
          "output_type": "display_data",
          "data": {
            "image/png": "[encoded data removed]",
            "text/plain": [
              "<Figure size 432x288 with 1 Axes>"
            ]
          },
          "metadata": {
            "tags": [],
            "needs_background": "light"
          }
        }
      ]
    },
    {
      "cell_type": "code",
      "metadata": {
        "colab": {
          "base_uri": "https://localhost:8080/",
          "height": 263
        },
        "id": "jkyl9Xn_1Iat",
        "outputId": "4225480f-f9c7-4f0c-faca-3aed4e4b0154"
      },
      "source": [
        "# Looking for any patterns in the residuals\n",
        "plt.scatter(X_train,res)\n",
        "plt.show()"
      ],
      "execution_count": 31,
      "outputs": [
        {
          "output_type": "display_data",
          "data": {
            "image/png": "[encoded data removed]",
            "text/plain": [
              "<Figure size 432x288 with 1 Axes>"
            ]
          },
          "metadata": {
            "tags": [],
            "needs_background": "light"
          }
        }
      ]
    },
    {
      "cell_type": "code",
      "metadata": {
        "id": "fxf0PS9YxVoK"
      },
      "source": [
        "# Adding a constant to X_test\n",
        "X_test_sm = sm.add_constant(X_test)\n",
        "\n",
        "# Predicting the y values corresponding to X_test_sm\n",
        "y_test_pred = lr.predict(X_test_sm)\n",
        "\n",
        "# Printing the first 15 predicted values\n",
        "y_test_pred"
      ],
      "execution_count": null,
      "outputs": []
    },
    {
      "cell_type": "code",
      "metadata": {
        "colab": {
          "base_uri": "https://localhost:8080/"
        },
        "id": "6Gg1pb3w1UoG",
        "outputId": "dd27eebb-4764-4dba-abff-a463ecead959"
      },
      "source": [
        "# Importing r2_square\n",
        "from sklearn.metrics import r2_score\n",
        "\n",
        "# Checking the R-squared value\n",
        "r_squared = r2_score(y_test, y_test_pred)\n",
        "r_squared"
      ],
      "execution_count": 32,
      "outputs": [
        {
          "output_type": "execute_result",
          "data": {
            "text/plain": [
              "0.792103160124566"
            ]
          },
          "metadata": {
            "tags": []
          },
          "execution_count": 32
        }
      ]
    },
    {
      "cell_type": "markdown",
      "metadata": {
        "id": "UoB_lLuX1eNB"
      },
      "source": [
        "Hodnota R² pomocí výše uvedeného kódu = 0,792\n",
        "Pokud si pamatujeme z tréninkových dat, hodnota R² = 0,815\n",
        "Vzhledem k tomu, že hodnota R² na testovacích datech je do 5% hodnoty R² na tréninkových datech, můžeme dojít k závěru, že model je docela stabilní. Což znamená, že to, co se model naučil na tréninkové sadě, může zobecnit na neviditelné testovací sadě.\n",
        "Pojďme si představit čáru na testovacích datech."
      ]
    },
    {
      "cell_type": "code",
      "metadata": {
        "colab": {
          "base_uri": "https://localhost:8080/",
          "height": 263
        },
        "id": "uEhue8Fi1fkK",
        "outputId": "bb80dbdf-238a-4429-9f8d-541d04d2cca8"
      },
      "source": [
        "plt.scatter(X_test, y_test)\n",
        "plt.plot(X_test, y_test_pred, 'r')\n",
        "plt.show()"
      ],
      "execution_count": 33,
      "outputs": [
        {
          "output_type": "display_data",
          "data": {
            "image/png": "[encoded data removed]",
            "text/plain": [
              "<Figure size 432x288 with 1 Axes>"
            ]
          },
          "metadata": {
            "tags": [],
            "needs_background": "light"
          }
        }
      ]
    },
    {
      "cell_type": "code",
      "metadata": {
        "id": "VYqkjeEu3A-5"
      },
      "source": [
        "from sklearn.model_selection import train_test_split\n",
        "X_train_lm, X_test_lm, y_train_lm, y_test_lm = train_test_split(X, y, train_size = 0.7, \n",
        "                                                                test_size = 0.3, random_state = 100)"
      ],
      "execution_count": 34,
      "outputs": []
    },
    {
      "cell_type": "code",
      "metadata": {
        "colab": {
          "base_uri": "https://localhost:8080/"
        },
        "id": "2tslS_j03FUC",
        "outputId": "eeb94bc5-bfbc-414a-d498-5023f12a7c51"
      },
      "source": [
        "# Shape of the train set without adding column\n",
        "X_train_lm.shape\n",
        "\n",
        "# Adding additional column to the train and test data\n",
        "X_train_lm = X_train_lm.values.reshape(-1,1)\n",
        "X_test_lm = X_test_lm.values.reshape(-1,1)\n",
        "\n",
        "print(X_train_lm.shape)\n",
        "print(X_test_lm.shape)"
      ],
      "execution_count": 35,
      "outputs": [
        {
          "output_type": "stream",
          "text": [
            "(140, 1)\n",
            "(60, 1)\n"
          ],
          "name": "stdout"
        }
      ]
    },
    {
      "cell_type": "code",
      "metadata": {
        "colab": {
          "base_uri": "https://localhost:8080/"
        },
        "id": "-rukcI0Z4ARL",
        "outputId": "bbc53b53-ab9f-4b25-fc89-d271e608260c"
      },
      "source": [
        "from sklearn.linear_model import LinearRegression\n",
        "\n",
        "# Creating an object of Linear Regression\n",
        "lm = LinearRegression()\n",
        "\n",
        "# Fit the model using .fit() method\n",
        "lm.fit(X_train_lm, y_train_lm)"
      ],
      "execution_count": 37,
      "outputs": [
        {
          "output_type": "execute_result",
          "data": {
            "text/plain": [
              "LinearRegression(copy_X=True, fit_intercept=True, n_jobs=None, normalize=False)"
            ]
          },
          "metadata": {
            "tags": []
          },
          "execution_count": 37
        }
      ]
    },
    {
      "cell_type": "code",
      "metadata": {
        "colab": {
          "base_uri": "https://localhost:8080/"
        },
        "id": "UzTd04oj4PhR",
        "outputId": "fe676808-66ee-4557-8d27-62d9e9ca6452"
      },
      "source": [
        "print(\"Intercept :\",lm.intercept_)\n",
        "\n",
        "# Slope value\n",
        "print('Slope :',lm.coef_)"
      ],
      "execution_count": 38,
      "outputs": [
        {
          "output_type": "stream",
          "text": [
            "Intercept : 6.948683200001357\n",
            "Slope : [0.05454575]\n"
          ],
          "name": "stdout"
        }
      ]
    },
    {
      "cell_type": "code",
      "metadata": {
        "colab": {
          "base_uri": "https://localhost:8080/"
        },
        "id": "lG2bHrAA4daM",
        "outputId": "fc512c7b-a40f-4987-ac18-6d87017a5134"
      },
      "source": [
        "# Making Predictions of y_value\n",
        "y_train_pred = lm.predict(X_train_lm)\n",
        "y_test_pred = lm.predict(X_test_lm)\n",
        "\n",
        "# Comparing the r2 value of both train and test data\n",
        "print(r2_score(y_train,y_train_pred))\n",
        "print(r2_score(y_test,y_test_pred))"
      ],
      "execution_count": 39,
      "outputs": [
        {
          "output_type": "stream",
          "text": [
            "0.8157933136480389\n",
            "0.7921031601245662\n"
          ],
          "name": "stdout"
        }
      ]
    }
  ]
}