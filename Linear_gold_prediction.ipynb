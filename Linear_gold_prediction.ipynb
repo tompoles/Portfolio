{
  "nbformat": 4,
  "nbformat_minor": 0,
  "metadata": {
    "colab": {
      "name": "Linear gold prediction.ipynb",
      "provenance": [],
      "collapsed_sections": [],
      "authorship_tag": "ABX9TyM2UCCIMTOq6twXqaacIW90",
      "include_colab_link": true
    },
    "kernelspec": {
      "name": "python3",
      "display_name": "Python 3"
    }
  },
  "cells": [
    {
      "cell_type": "markdown",
      "metadata": {
        "id": "view-in-github",
        "colab_type": "text"
      },
      "source": [
        "<a href=\"https://colab.research.google.com/github/tompoles/Portfolio/blob/project_3/Linear_gold_prediction.ipynb\" target=\"_parent\"><img src=\"https://colab.research.google.com/assets/colab-badge.svg\" alt=\"Open In Colab\"/></a>"
      ]
    },
    {
      "cell_type": "code",
      "metadata": {
        "id": "aNbHcULCMTvf",
        "colab": {
          "base_uri": "https://localhost:8080/"
        },
        "outputId": "dec4658e-0655-4708-80c1-a0bca401b54b"
      },
      "source": [
        "import numpy as np\n",
        "import pandas as pd\n",
        "import matplotlib.pyplot as plt\n",
        "import seaborn as sns\n",
        "from termcolor import colored as cl\n",
        "import pandas_datareader as pdr\n",
        "from matplotlib.pylab import rcParams\n",
        "rcParams['figure.figsize']=20,10\n",
        "from keras.models import Sequential\n",
        "from keras.layers import LSTM,Dropout,Dense\n",
        "from sklearn.preprocessing import MinMaxScaler\n",
        "from sklearn.linear_model import LinearRegression\n",
        "!pip install yfinance\n",
        "import yfinance as yf\n",
        "import datetime as dt"
      ],
      "execution_count": 89,
      "outputs": [
        {
          "output_type": "stream",
          "text": [
            "Collecting yfinance\n",
            "  Downloading https://files.pythonhosted.org/packages/7a/e8/b9d7104d3a4bf39924799067592d9e59119fcfc900a425a12e80a3123ec8/yfinance-0.1.55.tar.gz\n",
            "Requirement already satisfied: pandas>=0.24 in /usr/local/lib/python3.6/dist-packages (from yfinance) (1.1.5)\n",
            "Requirement already satisfied: numpy>=1.15 in /usr/local/lib/python3.6/dist-packages (from yfinance) (1.19.4)\n",
            "Requirement already satisfied: requests>=2.20 in /usr/local/lib/python3.6/dist-packages (from yfinance) (2.23.0)\n",
            "Requirement already satisfied: multitasking>=0.0.7 in /usr/local/lib/python3.6/dist-packages (from yfinance) (0.0.9)\n",
            "Collecting lxml>=4.5.1\n",
            "\u001b[?25l  Downloading https://files.pythonhosted.org/packages/bd/78/56a7c88a57d0d14945472535d0df9fb4bbad7d34ede658ec7961635c790e/lxml-4.6.2-cp36-cp36m-manylinux1_x86_64.whl (5.5MB)\n",
            "\u001b[K     |████████████████████████████████| 5.5MB 6.6MB/s \n",
            "\u001b[?25hRequirement already satisfied: python-dateutil>=2.7.3 in /usr/local/lib/python3.6/dist-packages (from pandas>=0.24->yfinance) (2.8.1)\n",
            "Requirement already satisfied: pytz>=2017.2 in /usr/local/lib/python3.6/dist-packages (from pandas>=0.24->yfinance) (2018.9)\n",
            "Requirement already satisfied: chardet<4,>=3.0.2 in /usr/local/lib/python3.6/dist-packages (from requests>=2.20->yfinance) (3.0.4)\n",
            "Requirement already satisfied: idna<3,>=2.5 in /usr/local/lib/python3.6/dist-packages (from requests>=2.20->yfinance) (2.10)\n",
            "Requirement already satisfied: urllib3!=1.25.0,!=1.25.1,<1.26,>=1.21.1 in /usr/local/lib/python3.6/dist-packages (from requests>=2.20->yfinance) (1.24.3)\n",
            "Requirement already satisfied: certifi>=2017.4.17 in /usr/local/lib/python3.6/dist-packages (from requests>=2.20->yfinance) (2020.12.5)\n",
            "Requirement already satisfied: six>=1.5 in /usr/local/lib/python3.6/dist-packages (from python-dateutil>=2.7.3->pandas>=0.24->yfinance) (1.15.0)\n",
            "Building wheels for collected packages: yfinance\n",
            "  Building wheel for yfinance (setup.py) ... \u001b[?25l\u001b[?25hdone\n",
            "  Created wheel for yfinance: filename=yfinance-0.1.55-py2.py3-none-any.whl size=22616 sha256=1a3810c0931fb6d5ba9390193a84be27b111666c7c604574febf92f266a55f18\n",
            "  Stored in directory: /root/.cache/pip/wheels/04/98/cc/2702a4242d60bdc14f48b4557c427ded1fe92aedf257d4565c\n",
            "Successfully built yfinance\n",
            "Installing collected packages: lxml, yfinance\n",
            "  Found existing installation: lxml 4.2.6\n",
            "    Uninstalling lxml-4.2.6:\n",
            "      Successfully uninstalled lxml-4.2.6\n",
            "Successfully installed lxml-4.6.2 yfinance-0.1.55\n"
          ],
          "name": "stdout"
        }
      ]
    },
    {
      "cell_type": "code",
      "metadata": {
        "id": "i3KZH0y6eY-9"
      },
      "source": [
        "# aapl = pdr.DataReader(\"GC=F\", \n",
        "#                        start='2015-1-1', \n",
        "#                        end='2015-12-31', \n",
        "#                        data_source='yahoo')['Adj Close']"
      ],
      "execution_count": 4,
      "outputs": []
    },
    {
      "cell_type": "code",
      "metadata": {
        "id": "Rl3qsxfnSp8V"
      },
      "source": [
        "# Ziskani dat pomoci pdr a Yahoo finance\n",
        "futures = {'GC=F':'Gold'}\n",
        "start = dt.datetime(2000, 8, 1)\n",
        "end = dt.datetime(2021, 1, 10)"
      ],
      "execution_count": 61,
      "outputs": []
    },
    {
      "cell_type": "code",
      "metadata": {
        "colab": {
          "base_uri": "https://localhost:8080/",
          "height": 458
        },
        "id": "iey4kt1Qdx0h",
        "outputId": "d732e13b-177b-4ab0-f748-7f5eb4774304"
      },
      "source": [
        "fut_df = pd.DataFrame()\n",
        "\n",
        "for key, value in futures.items():\n",
        "    print('downloading ', value)\n",
        "    df = pdr.DataReader(key, 'yahoo', start)\n",
        "    df['Futures'] = value\n",
        "    fut_df = fut_df.append(df)\n",
        "\n",
        "fut_df.to_pickle('futures_df.pickle')\n",
        "fut_df"
      ],
      "execution_count": 62,
      "outputs": [
        {
          "output_type": "stream",
          "text": [
            "downloading  Gold\n"
          ],
          "name": "stdout"
        },
        {
          "output_type": "execute_result",
          "data": {
            "text/html": [
              "<div>\n",
              "<style scoped>\n",
              "    .dataframe tbody tr th:only-of-type {\n",
              "        vertical-align: middle;\n",
              "    }\n",
              "\n",
              "    .dataframe tbody tr th {\n",
              "        vertical-align: top;\n",
              "    }\n",
              "\n",
              "    .dataframe thead th {\n",
              "        text-align: right;\n",
              "    }\n",
              "</style>\n",
              "<table border=\"1\" class=\"dataframe\">\n",
              "  <thead>\n",
              "    <tr style=\"text-align: right;\">\n",
              "      <th></th>\n",
              "      <th>High</th>\n",
              "      <th>Low</th>\n",
              "      <th>Open</th>\n",
              "      <th>Close</th>\n",
              "      <th>Volume</th>\n",
              "      <th>Adj Close</th>\n",
              "      <th>Futures</th>\n",
              "    </tr>\n",
              "    <tr>\n",
              "      <th>Date</th>\n",
              "      <th></th>\n",
              "      <th></th>\n",
              "      <th></th>\n",
              "      <th></th>\n",
              "      <th></th>\n",
              "      <th></th>\n",
              "      <th></th>\n",
              "    </tr>\n",
              "  </thead>\n",
              "  <tbody>\n",
              "    <tr>\n",
              "      <th>2000-08-30</th>\n",
              "      <td>273.899994</td>\n",
              "      <td>273.899994</td>\n",
              "      <td>273.899994</td>\n",
              "      <td>273.899994</td>\n",
              "      <td>0.0</td>\n",
              "      <td>273.899994</td>\n",
              "      <td>Gold</td>\n",
              "    </tr>\n",
              "    <tr>\n",
              "      <th>2000-08-31</th>\n",
              "      <td>278.299988</td>\n",
              "      <td>274.799988</td>\n",
              "      <td>274.799988</td>\n",
              "      <td>278.299988</td>\n",
              "      <td>0.0</td>\n",
              "      <td>278.299988</td>\n",
              "      <td>Gold</td>\n",
              "    </tr>\n",
              "    <tr>\n",
              "      <th>2000-09-01</th>\n",
              "      <td>277.000000</td>\n",
              "      <td>277.000000</td>\n",
              "      <td>277.000000</td>\n",
              "      <td>277.000000</td>\n",
              "      <td>0.0</td>\n",
              "      <td>277.000000</td>\n",
              "      <td>Gold</td>\n",
              "    </tr>\n",
              "    <tr>\n",
              "      <th>2000-09-05</th>\n",
              "      <td>275.799988</td>\n",
              "      <td>275.799988</td>\n",
              "      <td>275.799988</td>\n",
              "      <td>275.799988</td>\n",
              "      <td>2.0</td>\n",
              "      <td>275.799988</td>\n",
              "      <td>Gold</td>\n",
              "    </tr>\n",
              "    <tr>\n",
              "      <th>2000-09-06</th>\n",
              "      <td>274.200012</td>\n",
              "      <td>274.200012</td>\n",
              "      <td>274.200012</td>\n",
              "      <td>274.200012</td>\n",
              "      <td>0.0</td>\n",
              "      <td>274.200012</td>\n",
              "      <td>Gold</td>\n",
              "    </tr>\n",
              "    <tr>\n",
              "      <th>...</th>\n",
              "      <td>...</td>\n",
              "      <td>...</td>\n",
              "      <td>...</td>\n",
              "      <td>...</td>\n",
              "      <td>...</td>\n",
              "      <td>...</td>\n",
              "      <td>...</td>\n",
              "    </tr>\n",
              "    <tr>\n",
              "      <th>2021-01-04</th>\n",
              "      <td>1945.099976</td>\n",
              "      <td>1912.199951</td>\n",
              "      <td>1912.199951</td>\n",
              "      <td>1944.699951</td>\n",
              "      <td>154.0</td>\n",
              "      <td>1944.699951</td>\n",
              "      <td>Gold</td>\n",
              "    </tr>\n",
              "    <tr>\n",
              "      <th>2021-01-05</th>\n",
              "      <td>1952.699951</td>\n",
              "      <td>1941.300049</td>\n",
              "      <td>1941.699951</td>\n",
              "      <td>1952.699951</td>\n",
              "      <td>113.0</td>\n",
              "      <td>1952.699951</td>\n",
              "      <td>Gold</td>\n",
              "    </tr>\n",
              "    <tr>\n",
              "      <th>2021-01-06</th>\n",
              "      <td>1959.900024</td>\n",
              "      <td>1901.500000</td>\n",
              "      <td>1952.000000</td>\n",
              "      <td>1906.900024</td>\n",
              "      <td>331.0</td>\n",
              "      <td>1906.900024</td>\n",
              "      <td>Gold</td>\n",
              "    </tr>\n",
              "    <tr>\n",
              "      <th>2021-01-07</th>\n",
              "      <td>1926.699951</td>\n",
              "      <td>1912.000000</td>\n",
              "      <td>1922.599976</td>\n",
              "      <td>1912.300049</td>\n",
              "      <td>122.0</td>\n",
              "      <td>1912.300049</td>\n",
              "      <td>Gold</td>\n",
              "    </tr>\n",
              "    <tr>\n",
              "      <th>2021-01-08</th>\n",
              "      <td>1908.000000</td>\n",
              "      <td>1834.099976</td>\n",
              "      <td>1908.000000</td>\n",
              "      <td>1834.099976</td>\n",
              "      <td>122.0</td>\n",
              "      <td>1834.099976</td>\n",
              "      <td>Gold</td>\n",
              "    </tr>\n",
              "  </tbody>\n",
              "</table>\n",
              "<p>5075 rows × 7 columns</p>\n",
              "</div>"
            ],
            "text/plain": [
              "                   High          Low         Open  ...  Volume    Adj Close  Futures\n",
              "Date                                               ...                              \n",
              "2000-08-30   273.899994   273.899994   273.899994  ...     0.0   273.899994     Gold\n",
              "2000-08-31   278.299988   274.799988   274.799988  ...     0.0   278.299988     Gold\n",
              "2000-09-01   277.000000   277.000000   277.000000  ...     0.0   277.000000     Gold\n",
              "2000-09-05   275.799988   275.799988   275.799988  ...     2.0   275.799988     Gold\n",
              "2000-09-06   274.200012   274.200012   274.200012  ...     0.0   274.200012     Gold\n",
              "...                 ...          ...          ...  ...     ...          ...      ...\n",
              "2021-01-04  1945.099976  1912.199951  1912.199951  ...   154.0  1944.699951     Gold\n",
              "2021-01-05  1952.699951  1941.300049  1941.699951  ...   113.0  1952.699951     Gold\n",
              "2021-01-06  1959.900024  1901.500000  1952.000000  ...   331.0  1906.900024     Gold\n",
              "2021-01-07  1926.699951  1912.000000  1922.599976  ...   122.0  1912.300049     Gold\n",
              "2021-01-08  1908.000000  1834.099976  1908.000000  ...   122.0  1834.099976     Gold\n",
              "\n",
              "[5075 rows x 7 columns]"
            ]
          },
          "metadata": {
            "tags": []
          },
          "execution_count": 62
        }
      ]
    },
    {
      "cell_type": "code",
      "metadata": {
        "colab": {
          "base_uri": "https://localhost:8080/",
          "height": 411
        },
        "id": "O1r0D0yGgyxS",
        "outputId": "d30c1480-938c-4afb-9b9c-33c31f0fd818"
      },
      "source": [
        "Gold_df = fut_df[['Futures', 'Open', 'Adj Close']]\n",
        "Gold_df.reset_index(level=0, inplace=True)\n",
        "Gold_df"
      ],
      "execution_count": 63,
      "outputs": [
        {
          "output_type": "execute_result",
          "data": {
            "text/html": [
              "<div>\n",
              "<style scoped>\n",
              "    .dataframe tbody tr th:only-of-type {\n",
              "        vertical-align: middle;\n",
              "    }\n",
              "\n",
              "    .dataframe tbody tr th {\n",
              "        vertical-align: top;\n",
              "    }\n",
              "\n",
              "    .dataframe thead th {\n",
              "        text-align: right;\n",
              "    }\n",
              "</style>\n",
              "<table border=\"1\" class=\"dataframe\">\n",
              "  <thead>\n",
              "    <tr style=\"text-align: right;\">\n",
              "      <th></th>\n",
              "      <th>Date</th>\n",
              "      <th>Futures</th>\n",
              "      <th>Open</th>\n",
              "      <th>Adj Close</th>\n",
              "    </tr>\n",
              "  </thead>\n",
              "  <tbody>\n",
              "    <tr>\n",
              "      <th>0</th>\n",
              "      <td>2000-08-30</td>\n",
              "      <td>Gold</td>\n",
              "      <td>273.899994</td>\n",
              "      <td>273.899994</td>\n",
              "    </tr>\n",
              "    <tr>\n",
              "      <th>1</th>\n",
              "      <td>2000-08-31</td>\n",
              "      <td>Gold</td>\n",
              "      <td>274.799988</td>\n",
              "      <td>278.299988</td>\n",
              "    </tr>\n",
              "    <tr>\n",
              "      <th>2</th>\n",
              "      <td>2000-09-01</td>\n",
              "      <td>Gold</td>\n",
              "      <td>277.000000</td>\n",
              "      <td>277.000000</td>\n",
              "    </tr>\n",
              "    <tr>\n",
              "      <th>3</th>\n",
              "      <td>2000-09-05</td>\n",
              "      <td>Gold</td>\n",
              "      <td>275.799988</td>\n",
              "      <td>275.799988</td>\n",
              "    </tr>\n",
              "    <tr>\n",
              "      <th>4</th>\n",
              "      <td>2000-09-06</td>\n",
              "      <td>Gold</td>\n",
              "      <td>274.200012</td>\n",
              "      <td>274.200012</td>\n",
              "    </tr>\n",
              "    <tr>\n",
              "      <th>...</th>\n",
              "      <td>...</td>\n",
              "      <td>...</td>\n",
              "      <td>...</td>\n",
              "      <td>...</td>\n",
              "    </tr>\n",
              "    <tr>\n",
              "      <th>5070</th>\n",
              "      <td>2021-01-04</td>\n",
              "      <td>Gold</td>\n",
              "      <td>1912.199951</td>\n",
              "      <td>1944.699951</td>\n",
              "    </tr>\n",
              "    <tr>\n",
              "      <th>5071</th>\n",
              "      <td>2021-01-05</td>\n",
              "      <td>Gold</td>\n",
              "      <td>1941.699951</td>\n",
              "      <td>1952.699951</td>\n",
              "    </tr>\n",
              "    <tr>\n",
              "      <th>5072</th>\n",
              "      <td>2021-01-06</td>\n",
              "      <td>Gold</td>\n",
              "      <td>1952.000000</td>\n",
              "      <td>1906.900024</td>\n",
              "    </tr>\n",
              "    <tr>\n",
              "      <th>5073</th>\n",
              "      <td>2021-01-07</td>\n",
              "      <td>Gold</td>\n",
              "      <td>1922.599976</td>\n",
              "      <td>1912.300049</td>\n",
              "    </tr>\n",
              "    <tr>\n",
              "      <th>5074</th>\n",
              "      <td>2021-01-08</td>\n",
              "      <td>Gold</td>\n",
              "      <td>1908.000000</td>\n",
              "      <td>1834.099976</td>\n",
              "    </tr>\n",
              "  </tbody>\n",
              "</table>\n",
              "<p>5075 rows × 4 columns</p>\n",
              "</div>"
            ],
            "text/plain": [
              "           Date Futures         Open    Adj Close\n",
              "0    2000-08-30    Gold   273.899994   273.899994\n",
              "1    2000-08-31    Gold   274.799988   278.299988\n",
              "2    2000-09-01    Gold   277.000000   277.000000\n",
              "3    2000-09-05    Gold   275.799988   275.799988\n",
              "4    2000-09-06    Gold   274.200012   274.200012\n",
              "...         ...     ...          ...          ...\n",
              "5070 2021-01-04    Gold  1912.199951  1944.699951\n",
              "5071 2021-01-05    Gold  1941.699951  1952.699951\n",
              "5072 2021-01-06    Gold  1952.000000  1906.900024\n",
              "5073 2021-01-07    Gold  1922.599976  1912.300049\n",
              "5074 2021-01-08    Gold  1908.000000  1834.099976\n",
              "\n",
              "[5075 rows x 4 columns]"
            ]
          },
          "metadata": {
            "tags": []
          },
          "execution_count": 63
        }
      ]
    },
    {
      "cell_type": "code",
      "metadata": {
        "id": "DCQA-ypCs1Do",
        "colab": {
          "base_uri": "https://localhost:8080/"
        },
        "outputId": "895a7ac6-598f-464c-d070-1e04b9376c00"
      },
      "source": [
        "Gold_df['S_3'] = Gold_df['Adj Close'].rolling(window=3).mean()\n",
        "Gold_df['S_9'] = Gold_df['Adj Close'].rolling(window=9).mean()\n",
        "Gold_df['next_day_price'] = Gold_df['Adj Close'].shift(-1)"
      ],
      "execution_count": 64,
      "outputs": [
        {
          "output_type": "stream",
          "text": [
            "/usr/local/lib/python3.6/dist-packages/ipykernel_launcher.py:1: SettingWithCopyWarning: \n",
            "A value is trying to be set on a copy of a slice from a DataFrame.\n",
            "Try using .loc[row_indexer,col_indexer] = value instead\n",
            "\n",
            "See the caveats in the documentation: https://pandas.pydata.org/pandas-docs/stable/user_guide/indexing.html#returning-a-view-versus-a-copy\n",
            "  \"\"\"Entry point for launching an IPython kernel.\n",
            "/usr/local/lib/python3.6/dist-packages/ipykernel_launcher.py:2: SettingWithCopyWarning: \n",
            "A value is trying to be set on a copy of a slice from a DataFrame.\n",
            "Try using .loc[row_indexer,col_indexer] = value instead\n",
            "\n",
            "See the caveats in the documentation: https://pandas.pydata.org/pandas-docs/stable/user_guide/indexing.html#returning-a-view-versus-a-copy\n",
            "  \n"
          ],
          "name": "stderr"
        }
      ]
    },
    {
      "cell_type": "code",
      "metadata": {
        "colab": {
          "base_uri": "https://localhost:8080/",
          "height": 583
        },
        "id": "KswIyFZ90rHQ",
        "outputId": "deec486a-3c29-4147-9f1a-67ef96e919b3"
      },
      "source": [
        "fig, ax1 = plt.subplots(figsize=(15,8))\n",
        "x1 = Gold_df['Date']\n",
        "x2 = Gold_df['Date']\n",
        "y1 = Gold_df['Adj Close']\n",
        "y2 = Gold_df['next_day_price']\n",
        "\n",
        "plt.title('Dependence of bicycle rental on the perceived temperature', x=1, loc='right', fontstyle='italic', fontsize=18)\n",
        "color = 'tab:red'\n",
        "ax1.set_xlabel('Date', fontsize=15)\n",
        "ax1.set_ylabel('Rents', color=color, fontsize=15)\n",
        "ax1.plot(x2, y2, color=color)\n",
        "ax1.tick_params(axis='y', labelcolor=color)\n",
        "\n",
        "ax2 = ax1.twinx() \n",
        "\n",
        "color = 'tab:blue'\n",
        "ax2.set_ylabel('Temperature[\\u00b0 C]', color=color, fontsize=15) \n",
        "ax2.plot(x1, y1, color=color, alpha=0.3)\n",
        "ax2.tick_params(axis='y', labelcolor=color) \n",
        "fig.tight_layout() \n",
        "plt.show()"
      ],
      "execution_count": 34,
      "outputs": [
        {
          "output_type": "display_data",
          "data": {
            "image/png": "[encoded data removed]",
            "text/plain": [
              "<Figure size 1080x576 with 2 Axes>"
            ]
          },
          "metadata": {
            "tags": [],
            "needs_background": "light"
          }
        }
      ]
    },
    {
      "cell_type": "code",
      "metadata": {
        "colab": {
          "base_uri": "https://localhost:8080/",
          "height": 411
        },
        "id": "fw7--PLM18sH",
        "outputId": "18c787e0-aa0d-498d-89b7-8379fe31e3f9"
      },
      "source": [
        "Gold_df=Gold_df.dropna()\n",
        "Gold_df"
      ],
      "execution_count": 66,
      "outputs": [
        {
          "output_type": "execute_result",
          "data": {
            "text/html": [
              "<div>\n",
              "<style scoped>\n",
              "    .dataframe tbody tr th:only-of-type {\n",
              "        vertical-align: middle;\n",
              "    }\n",
              "\n",
              "    .dataframe tbody tr th {\n",
              "        vertical-align: top;\n",
              "    }\n",
              "\n",
              "    .dataframe thead th {\n",
              "        text-align: right;\n",
              "    }\n",
              "</style>\n",
              "<table border=\"1\" class=\"dataframe\">\n",
              "  <thead>\n",
              "    <tr style=\"text-align: right;\">\n",
              "      <th></th>\n",
              "      <th>Date</th>\n",
              "      <th>Futures</th>\n",
              "      <th>Open</th>\n",
              "      <th>Adj Close</th>\n",
              "      <th>S_3</th>\n",
              "      <th>S_9</th>\n",
              "      <th>next_day_price</th>\n",
              "    </tr>\n",
              "  </thead>\n",
              "  <tbody>\n",
              "    <tr>\n",
              "      <th>8</th>\n",
              "      <td>2000-09-12</td>\n",
              "      <td>Gold</td>\n",
              "      <td>272.899994</td>\n",
              "      <td>272.899994</td>\n",
              "      <td>273.099996</td>\n",
              "      <td>274.722219</td>\n",
              "      <td>272.799988</td>\n",
              "    </tr>\n",
              "    <tr>\n",
              "      <th>9</th>\n",
              "      <td>2000-09-13</td>\n",
              "      <td>Gold</td>\n",
              "      <td>272.799988</td>\n",
              "      <td>272.799988</td>\n",
              "      <td>272.933329</td>\n",
              "      <td>274.599996</td>\n",
              "      <td>272.399994</td>\n",
              "    </tr>\n",
              "    <tr>\n",
              "      <th>10</th>\n",
              "      <td>2000-09-14</td>\n",
              "      <td>Gold</td>\n",
              "      <td>272.399994</td>\n",
              "      <td>272.399994</td>\n",
              "      <td>272.699992</td>\n",
              "      <td>273.944441</td>\n",
              "      <td>272.299988</td>\n",
              "    </tr>\n",
              "    <tr>\n",
              "      <th>11</th>\n",
              "      <td>2000-09-15</td>\n",
              "      <td>Gold</td>\n",
              "      <td>272.299988</td>\n",
              "      <td>272.299988</td>\n",
              "      <td>272.499990</td>\n",
              "      <td>273.422217</td>\n",
              "      <td>271.399994</td>\n",
              "    </tr>\n",
              "    <tr>\n",
              "      <th>12</th>\n",
              "      <td>2000-09-18</td>\n",
              "      <td>Gold</td>\n",
              "      <td>271.399994</td>\n",
              "      <td>271.399994</td>\n",
              "      <td>272.033325</td>\n",
              "      <td>272.933329</td>\n",
              "      <td>271.899994</td>\n",
              "    </tr>\n",
              "    <tr>\n",
              "      <th>...</th>\n",
              "      <td>...</td>\n",
              "      <td>...</td>\n",
              "      <td>...</td>\n",
              "      <td>...</td>\n",
              "      <td>...</td>\n",
              "      <td>...</td>\n",
              "      <td>...</td>\n",
              "    </tr>\n",
              "    <tr>\n",
              "      <th>5069</th>\n",
              "      <td>2020-12-31</td>\n",
              "      <td>Gold</td>\n",
              "      <td>1897.000000</td>\n",
              "      <td>1893.099976</td>\n",
              "      <td>1887.933309</td>\n",
              "      <td>1881.599962</td>\n",
              "      <td>1944.699951</td>\n",
              "    </tr>\n",
              "    <tr>\n",
              "      <th>5070</th>\n",
              "      <td>2021-01-04</td>\n",
              "      <td>Gold</td>\n",
              "      <td>1912.199951</td>\n",
              "      <td>1944.699951</td>\n",
              "      <td>1909.599976</td>\n",
              "      <td>1887.988851</td>\n",
              "      <td>1952.699951</td>\n",
              "    </tr>\n",
              "    <tr>\n",
              "      <th>5071</th>\n",
              "      <td>2021-01-05</td>\n",
              "      <td>Gold</td>\n",
              "      <td>1941.699951</td>\n",
              "      <td>1952.699951</td>\n",
              "      <td>1930.166626</td>\n",
              "      <td>1895.433295</td>\n",
              "      <td>1906.900024</td>\n",
              "    </tr>\n",
              "    <tr>\n",
              "      <th>5072</th>\n",
              "      <td>2021-01-06</td>\n",
              "      <td>Gold</td>\n",
              "      <td>1952.000000</td>\n",
              "      <td>1906.900024</td>\n",
              "      <td>1934.766642</td>\n",
              "      <td>1898.511081</td>\n",
              "      <td>1912.300049</td>\n",
              "    </tr>\n",
              "    <tr>\n",
              "      <th>5073</th>\n",
              "      <td>2021-01-07</td>\n",
              "      <td>Gold</td>\n",
              "      <td>1922.599976</td>\n",
              "      <td>1912.300049</td>\n",
              "      <td>1923.966675</td>\n",
              "      <td>1903.588867</td>\n",
              "      <td>1834.099976</td>\n",
              "    </tr>\n",
              "  </tbody>\n",
              "</table>\n",
              "<p>5066 rows × 7 columns</p>\n",
              "</div>"
            ],
            "text/plain": [
              "           Date Futures         Open  ...          S_3          S_9  next_day_price\n",
              "8    2000-09-12    Gold   272.899994  ...   273.099996   274.722219      272.799988\n",
              "9    2000-09-13    Gold   272.799988  ...   272.933329   274.599996      272.399994\n",
              "10   2000-09-14    Gold   272.399994  ...   272.699992   273.944441      272.299988\n",
              "11   2000-09-15    Gold   272.299988  ...   272.499990   273.422217      271.399994\n",
              "12   2000-09-18    Gold   271.399994  ...   272.033325   272.933329      271.899994\n",
              "...         ...     ...          ...  ...          ...          ...             ...\n",
              "5069 2020-12-31    Gold  1897.000000  ...  1887.933309  1881.599962     1944.699951\n",
              "5070 2021-01-04    Gold  1912.199951  ...  1909.599976  1887.988851     1952.699951\n",
              "5071 2021-01-05    Gold  1941.699951  ...  1930.166626  1895.433295     1906.900024\n",
              "5072 2021-01-06    Gold  1952.000000  ...  1934.766642  1898.511081     1912.300049\n",
              "5073 2021-01-07    Gold  1922.599976  ...  1923.966675  1903.588867     1834.099976\n",
              "\n",
              "[5066 rows x 7 columns]"
            ]
          },
          "metadata": {
            "tags": []
          },
          "execution_count": 66
        }
      ]
    },
    {
      "cell_type": "code",
      "metadata": {
        "id": "bTuYOt3e2IAr"
      },
      "source": [
        "# Define dependent variable\n",
        "y = Gold_df['next_day_price']\n",
        "X = Gold_df[['S_3', 'S_9']]"
      ],
      "execution_count": 67,
      "outputs": []
    },
    {
      "cell_type": "code",
      "metadata": {
        "id": "BSQC8yhL2a0s"
      },
      "source": [
        "# Split the data into train and test dataset\n",
        "t = .8\n",
        "t = int(t*len(Gold_df))"
      ],
      "execution_count": 68,
      "outputs": []
    },
    {
      "cell_type": "code",
      "metadata": {
        "id": "3QsC-3bc2j6g"
      },
      "source": [
        "# Rozdeleni datasetu - 80% pro \"natrenovani\" a 20% pro predikci\n",
        "# Train dataset\n",
        "X_train = X[:t]\n",
        "y_train = y[:t]\n",
        "\n",
        "# Test dataset\n",
        "X_test = X[t:]\n",
        "y_test = y[t:]"
      ],
      "execution_count": 69,
      "outputs": []
    },
    {
      "cell_type": "code",
      "metadata": {
        "colab": {
          "base_uri": "https://localhost:8080/"
        },
        "id": "kN-NgWqU78Qg",
        "outputId": "6e5bd664-b79e-44a5-cc12-a018e3287590"
      },
      "source": [
        "# Create a linear regression model\n",
        "linear = LinearRegression().fit(X_train, y_train)\n",
        "print(\"Linear Regression model\")\n",
        "print(\"Gold ETF Price (y) = %.2f * 3 Days Moving Average (x1) \\\n",
        "+ %.2f * 9 Days Moving Average (x2) \\\n",
        "+ %.2f (constant)\" % (linear.coef_[0], linear.coef_[1], linear.intercept_))"
      ],
      "execution_count": 70,
      "outputs": [
        {
          "output_type": "stream",
          "text": [
            "Linear Regression model\n",
            "Gold ETF Price (y) = 1.20 * 3 Days Moving Average (x1) + -0.20 * 9 Days Moving Average (x2) + 0.99 (constant)\n"
          ],
          "name": "stdout"
        }
      ]
    },
    {
      "cell_type": "code",
      "metadata": {
        "colab": {
          "base_uri": "https://localhost:8080/"
        },
        "id": "AGsUW8UO8e9w",
        "outputId": "ed263438-3cd1-43bd-c7bb-0f47a942fd66"
      },
      "source": [
        "linear"
      ],
      "execution_count": 71,
      "outputs": [
        {
          "output_type": "execute_result",
          "data": {
            "text/plain": [
              "LinearRegression(copy_X=True, fit_intercept=True, n_jobs=None, normalize=False)"
            ]
          },
          "metadata": {
            "tags": []
          },
          "execution_count": 71
        }
      ]
    },
    {
      "cell_type": "code",
      "metadata": {
        "colab": {
          "base_uri": "https://localhost:8080/",
          "height": 427
        },
        "id": "BLtJT2iz9HJT",
        "outputId": "a33f9120-72c2-47a2-a6ae-ea1e83954fad"
      },
      "source": [
        "# Predicting the Gold ETF prices\n",
        "predicted_price = linear.predict(X_test)\n",
        "predicted_price = pd.DataFrame(\n",
        "    predicted_price, index=y_test.index, columns=['price'])\n",
        "predicted_price.plot(figsize=(10, 7))\n",
        "y_test.plot()\n",
        "plt.legend(['predicted_price', 'actual_price'])\n",
        "plt.ylabel(\"Gold Price\")\n",
        "plt.show()"
      ],
      "execution_count": 72,
      "outputs": [
        {
          "output_type": "display_data",
          "data": {
            "image/png": "[encoded data removed]",
            "text/plain": [
              "<Figure size 720x504 with 1 Axes>"
            ]
          },
          "metadata": {
            "tags": [],
            "needs_background": "light"
          }
        }
      ]
    },
    {
      "cell_type": "code",
      "metadata": {
        "colab": {
          "base_uri": "https://localhost:8080/"
        },
        "id": "6yL_ae8e9cud",
        "outputId": "2ec62b07-a774-4466-ba6b-0a34da3839eb"
      },
      "source": [
        "# R square\n",
        "r2_score = linear.score(X[t:], y[t:])*100\n",
        "float(\"{0:.2f}\".format(r2_score))"
      ],
      "execution_count": 73,
      "outputs": [
        {
          "output_type": "execute_result",
          "data": {
            "text/plain": [
              "99.39"
            ]
          },
          "metadata": {
            "tags": []
          },
          "execution_count": 73
        }
      ]
    },
    {
      "cell_type": "code",
      "metadata": {
        "id": "7wD5r1xr95cA"
      },
      "source": [
        "gold = pd.DataFrame()\n",
        "\n",
        "gold['Date'] = Gold_df['Date']\n",
        "gold['price'] = Gold_df[t:]['Adj Close']\n",
        "gold['predicted_price_next_day'] = predicted_price\n",
        "gold['actual_price_next_day'] = y_test\n",
        "gold['gold_returns'] = gold['price'].pct_change().shift(0) # procentualni zmena\n"
      ],
      "execution_count": 103,
      "outputs": []
    },
    {
      "cell_type": "code",
      "metadata": {
        "colab": {
          "base_uri": "https://localhost:8080/",
          "height": 411
        },
        "id": "hpqAFq7p_Dkj",
        "outputId": "2beb5b26-f1c5-43bb-c948-3ae2329d3833"
      },
      "source": [
        "gold.dropna()"
      ],
      "execution_count": 106,
      "outputs": [
        {
          "output_type": "execute_result",
          "data": {
            "text/html": [
              "<div>\n",
              "<style scoped>\n",
              "    .dataframe tbody tr th:only-of-type {\n",
              "        vertical-align: middle;\n",
              "    }\n",
              "\n",
              "    .dataframe tbody tr th {\n",
              "        vertical-align: top;\n",
              "    }\n",
              "\n",
              "    .dataframe thead th {\n",
              "        text-align: right;\n",
              "    }\n",
              "</style>\n",
              "<table border=\"1\" class=\"dataframe\">\n",
              "  <thead>\n",
              "    <tr style=\"text-align: right;\">\n",
              "      <th></th>\n",
              "      <th>Date</th>\n",
              "      <th>price</th>\n",
              "      <th>predicted_price_next_day</th>\n",
              "      <th>actual_price_next_day</th>\n",
              "      <th>gold_returns</th>\n",
              "    </tr>\n",
              "  </thead>\n",
              "  <tbody>\n",
              "    <tr>\n",
              "      <th>4061</th>\n",
              "      <td>2016-12-13</td>\n",
              "      <td>1156.699951</td>\n",
              "      <td>1158.436018</td>\n",
              "      <td>1161.300049</td>\n",
              "      <td>-0.005844</td>\n",
              "    </tr>\n",
              "    <tr>\n",
              "      <th>4062</th>\n",
              "      <td>2016-12-14</td>\n",
              "      <td>1161.300049</td>\n",
              "      <td>1159.319366</td>\n",
              "      <td>1127.800049</td>\n",
              "      <td>0.003977</td>\n",
              "    </tr>\n",
              "    <tr>\n",
              "      <th>4063</th>\n",
              "      <td>2016-12-15</td>\n",
              "      <td>1127.800049</td>\n",
              "      <td>1146.102888</td>\n",
              "      <td>1135.300049</td>\n",
              "      <td>-0.028847</td>\n",
              "    </tr>\n",
              "    <tr>\n",
              "      <th>4064</th>\n",
              "      <td>2016-12-16</td>\n",
              "      <td>1135.300049</td>\n",
              "      <td>1138.409786</td>\n",
              "      <td>1140.500000</td>\n",
              "      <td>0.006650</td>\n",
              "    </tr>\n",
              "    <tr>\n",
              "      <th>4065</th>\n",
              "      <td>2016-12-19</td>\n",
              "      <td>1140.500000</td>\n",
              "      <td>1130.699234</td>\n",
              "      <td>1131.500000</td>\n",
              "      <td>0.004580</td>\n",
              "    </tr>\n",
              "    <tr>\n",
              "      <th>...</th>\n",
              "      <td>...</td>\n",
              "      <td>...</td>\n",
              "      <td>...</td>\n",
              "      <td>...</td>\n",
              "      <td>...</td>\n",
              "    </tr>\n",
              "    <tr>\n",
              "      <th>5069</th>\n",
              "      <td>2020-12-31</td>\n",
              "      <td>1893.099976</td>\n",
              "      <td>1888.743146</td>\n",
              "      <td>1944.699951</td>\n",
              "      <td>0.001111</td>\n",
              "    </tr>\n",
              "    <tr>\n",
              "      <th>5070</th>\n",
              "      <td>2021-01-04</td>\n",
              "      <td>1944.699951</td>\n",
              "      <td>1913.441230</td>\n",
              "      <td>1952.699951</td>\n",
              "      <td>0.027257</td>\n",
              "    </tr>\n",
              "    <tr>\n",
              "      <th>5071</th>\n",
              "      <td>2021-01-05</td>\n",
              "      <td>1952.699951</td>\n",
              "      <td>1936.610093</td>\n",
              "      <td>1906.900024</td>\n",
              "      <td>0.004114</td>\n",
              "    </tr>\n",
              "    <tr>\n",
              "      <th>5072</th>\n",
              "      <td>2021-01-06</td>\n",
              "      <td>1906.900024</td>\n",
              "      <td>1941.510282</td>\n",
              "      <td>1912.300049</td>\n",
              "      <td>-0.023455</td>\n",
              "    </tr>\n",
              "    <tr>\n",
              "      <th>5073</th>\n",
              "      <td>2021-01-07</td>\n",
              "      <td>1912.300049</td>\n",
              "      <td>1927.550885</td>\n",
              "      <td>1834.099976</td>\n",
              "      <td>0.002832</td>\n",
              "    </tr>\n",
              "  </tbody>\n",
              "</table>\n",
              "<p>1013 rows × 5 columns</p>\n",
              "</div>"
            ],
            "text/plain": [
              "           Date        price  ...  actual_price_next_day  gold_returns\n",
              "4061 2016-12-13  1156.699951  ...            1161.300049     -0.005844\n",
              "4062 2016-12-14  1161.300049  ...            1127.800049      0.003977\n",
              "4063 2016-12-15  1127.800049  ...            1135.300049     -0.028847\n",
              "4064 2016-12-16  1135.300049  ...            1140.500000      0.006650\n",
              "4065 2016-12-19  1140.500000  ...            1131.500000      0.004580\n",
              "...         ...          ...  ...                    ...           ...\n",
              "5069 2020-12-31  1893.099976  ...            1944.699951      0.001111\n",
              "5070 2021-01-04  1944.699951  ...            1952.699951      0.027257\n",
              "5071 2021-01-05  1952.699951  ...            1906.900024      0.004114\n",
              "5072 2021-01-06  1906.900024  ...            1912.300049     -0.023455\n",
              "5073 2021-01-07  1912.300049  ...            1834.099976      0.002832\n",
              "\n",
              "[1013 rows x 5 columns]"
            ]
          },
          "metadata": {
            "tags": []
          },
          "execution_count": 106
        }
      ]
    },
    {
      "cell_type": "code",
      "metadata": {
        "colab": {
          "base_uri": "https://localhost:8080/",
          "height": 430
        },
        "id": "ldfuCcm3EfkF",
        "outputId": "202ee85e-6b4e-4248-9229-873088f3f457"
      },
      "source": [
        "gold['signal'] = np.where(gold.predicted_price_next_day.shift(1) < gold.predicted_price_next_day,1,0)\n",
        "\n",
        "gold['strategy_returns'] = gold.signal * gold['gold_returns']\n",
        "((gold['strategy_returns']+1).cumprod()).plot(figsize=(10,7),color='g')\n",
        "plt.ylabel('Cumulative Returns')\n",
        "plt.show()"
      ],
      "execution_count": 107,
      "outputs": [
        {
          "output_type": "display_data",
          "data": {
            "image/png": "[encoded data removed]",
            "text/plain": [
              "<Figure size 720x504 with 1 Axes>"
            ]
          },
          "metadata": {
            "tags": [],
            "needs_background": "light"
          }
        }
      ]
    },
    {
      "cell_type": "code",
      "metadata": {
        "colab": {
          "base_uri": "https://localhost:8080/",
          "height": 34
        },
        "id": "igE4z-aJEuyW",
        "outputId": "bfe98bc5-cba7-4514-896c-301186641ad1"
      },
      "source": [
        "'Sharpe Ratio %.2f' % (gold['strategy_returns'].mean()/gold['strategy_returns'].std()*(252**0.5))"
      ],
      "execution_count": 82,
      "outputs": [
        {
          "output_type": "execute_result",
          "data": {
            "application/vnd.google.colaboratory.intrinsic+json": {
              "type": "string"
            },
            "text/plain": [
              "'Sharpe Ratio 1.28'"
            ]
          },
          "metadata": {
            "tags": []
          },
          "execution_count": 82
        }
      ]
    },
    {
      "cell_type": "code",
      "metadata": {
        "colab": {
          "base_uri": "https://localhost:8080/",
          "height": 505
        },
        "id": "Ch3UwUy5Fw5H",
        "outputId": "9038de17-60b1-487e-a4ce-0049dd4e5e05"
      },
      "source": [
        "data = yf.download('GC=F', '2000-06-01', '2021-1-30', auto_adjust=True)\n",
        "data['S_3'] = data['Close'].rolling(window=3).mean()\n",
        "data['S_9'] = data['Close'].rolling(window=9).mean()\n",
        "data = data.dropna()\n",
        "data['predicted_gold_price'] = linear.predict(data[['S_3', 'S_9']])\n",
        "data['signal'] = np.where(data.predicted_gold_price.shift(1) < data.predicted_gold_price,\"Buy\",\"No Position\")\n",
        "data.tail(7)"
      ],
      "execution_count": 124,
      "outputs": [
        {
          "output_type": "stream",
          "text": [
            "\r[*********************100%***********************]  1 of 1 completed\n"
          ],
          "name": "stdout"
        },
        {
          "output_type": "stream",
          "text": [
            "/usr/local/lib/python3.6/dist-packages/ipykernel_launcher.py:5: SettingWithCopyWarning: \n",
            "A value is trying to be set on a copy of a slice from a DataFrame.\n",
            "Try using .loc[row_indexer,col_indexer] = value instead\n",
            "\n",
            "See the caveats in the documentation: https://pandas.pydata.org/pandas-docs/stable/user_guide/indexing.html#returning-a-view-versus-a-copy\n",
            "  \"\"\"\n",
            "/usr/local/lib/python3.6/dist-packages/ipykernel_launcher.py:6: SettingWithCopyWarning: \n",
            "A value is trying to be set on a copy of a slice from a DataFrame.\n",
            "Try using .loc[row_indexer,col_indexer] = value instead\n",
            "\n",
            "See the caveats in the documentation: https://pandas.pydata.org/pandas-docs/stable/user_guide/indexing.html#returning-a-view-versus-a-copy\n",
            "  \n"
          ],
          "name": "stderr"
        },
        {
          "output_type": "execute_result",
          "data": {
            "text/html": [
              "<div>\n",
              "<style scoped>\n",
              "    .dataframe tbody tr th:only-of-type {\n",
              "        vertical-align: middle;\n",
              "    }\n",
              "\n",
              "    .dataframe tbody tr th {\n",
              "        vertical-align: top;\n",
              "    }\n",
              "\n",
              "    .dataframe thead th {\n",
              "        text-align: right;\n",
              "    }\n",
              "</style>\n",
              "<table border=\"1\" class=\"dataframe\">\n",
              "  <thead>\n",
              "    <tr style=\"text-align: right;\">\n",
              "      <th></th>\n",
              "      <th>Open</th>\n",
              "      <th>High</th>\n",
              "      <th>Low</th>\n",
              "      <th>Close</th>\n",
              "      <th>Volume</th>\n",
              "      <th>S_3</th>\n",
              "      <th>S_9</th>\n",
              "      <th>predicted_gold_price</th>\n",
              "      <th>signal</th>\n",
              "    </tr>\n",
              "    <tr>\n",
              "      <th>Date</th>\n",
              "      <th></th>\n",
              "      <th></th>\n",
              "      <th></th>\n",
              "      <th></th>\n",
              "      <th></th>\n",
              "      <th></th>\n",
              "      <th></th>\n",
              "      <th></th>\n",
              "      <th></th>\n",
              "    </tr>\n",
              "  </thead>\n",
              "  <tbody>\n",
              "    <tr>\n",
              "      <th>2020-12-30</th>\n",
              "      <td>1879.900024</td>\n",
              "      <td>1895.800049</td>\n",
              "      <td>1877.300049</td>\n",
              "      <td>1891.000000</td>\n",
              "      <td>444</td>\n",
              "      <td>1882.633301</td>\n",
              "      <td>1877.488851</td>\n",
              "      <td>1883.210002</td>\n",
              "      <td>Buy</td>\n",
              "    </tr>\n",
              "    <tr>\n",
              "      <th>2020-12-31</th>\n",
              "      <td>1897.000000</td>\n",
              "      <td>1901.300049</td>\n",
              "      <td>1892.699951</td>\n",
              "      <td>1893.099976</td>\n",
              "      <td>127</td>\n",
              "      <td>1887.933309</td>\n",
              "      <td>1881.599962</td>\n",
              "      <td>1888.743146</td>\n",
              "      <td>Buy</td>\n",
              "    </tr>\n",
              "    <tr>\n",
              "      <th>2021-01-04</th>\n",
              "      <td>1912.199951</td>\n",
              "      <td>1945.099976</td>\n",
              "      <td>1912.199951</td>\n",
              "      <td>1944.699951</td>\n",
              "      <td>154</td>\n",
              "      <td>1909.599976</td>\n",
              "      <td>1887.988851</td>\n",
              "      <td>1913.441230</td>\n",
              "      <td>Buy</td>\n",
              "    </tr>\n",
              "    <tr>\n",
              "      <th>2021-01-05</th>\n",
              "      <td>1941.699951</td>\n",
              "      <td>1952.699951</td>\n",
              "      <td>1941.300049</td>\n",
              "      <td>1952.699951</td>\n",
              "      <td>113</td>\n",
              "      <td>1930.166626</td>\n",
              "      <td>1895.433295</td>\n",
              "      <td>1936.610093</td>\n",
              "      <td>Buy</td>\n",
              "    </tr>\n",
              "    <tr>\n",
              "      <th>2021-01-06</th>\n",
              "      <td>1952.000000</td>\n",
              "      <td>1959.900024</td>\n",
              "      <td>1901.500000</td>\n",
              "      <td>1906.900024</td>\n",
              "      <td>331</td>\n",
              "      <td>1934.766642</td>\n",
              "      <td>1898.511081</td>\n",
              "      <td>1941.510282</td>\n",
              "      <td>Buy</td>\n",
              "    </tr>\n",
              "    <tr>\n",
              "      <th>2021-01-07</th>\n",
              "      <td>1922.599976</td>\n",
              "      <td>1926.699951</td>\n",
              "      <td>1912.000000</td>\n",
              "      <td>1912.300049</td>\n",
              "      <td>122</td>\n",
              "      <td>1923.966675</td>\n",
              "      <td>1903.588867</td>\n",
              "      <td>1927.550885</td>\n",
              "      <td>No Position</td>\n",
              "    </tr>\n",
              "    <tr>\n",
              "      <th>2021-01-08</th>\n",
              "      <td>1908.000000</td>\n",
              "      <td>1908.000000</td>\n",
              "      <td>1834.099976</td>\n",
              "      <td>1834.099976</td>\n",
              "      <td>122</td>\n",
              "      <td>1884.433350</td>\n",
              "      <td>1899.077759</td>\n",
              "      <td>1881.060695</td>\n",
              "      <td>No Position</td>\n",
              "    </tr>\n",
              "  </tbody>\n",
              "</table>\n",
              "</div>"
            ],
            "text/plain": [
              "                   Open         High  ...  predicted_gold_price       signal\n",
              "Date                                  ...                                   \n",
              "2020-12-30  1879.900024  1895.800049  ...           1883.210002          Buy\n",
              "2020-12-31  1897.000000  1901.300049  ...           1888.743146          Buy\n",
              "2021-01-04  1912.199951  1945.099976  ...           1913.441230          Buy\n",
              "2021-01-05  1941.699951  1952.699951  ...           1936.610093          Buy\n",
              "2021-01-06  1952.000000  1959.900024  ...           1941.510282          Buy\n",
              "2021-01-07  1922.599976  1926.699951  ...           1927.550885  No Position\n",
              "2021-01-08  1908.000000  1908.000000  ...           1881.060695  No Position\n",
              "\n",
              "[7 rows x 9 columns]"
            ]
          },
          "metadata": {
            "tags": []
          },
          "execution_count": 124
        }
      ]
    },
    {
      "cell_type": "code",
      "metadata": {
        "colab": {
          "base_uri": "https://localhost:8080/",
          "height": 590
        },
        "id": "QyoYW5qTqE09",
        "outputId": "eb75bcba-55a9-447b-fab5-2e0e93c60dd0"
      },
      "source": [
        "plt.plot(data.predicted_gold_price.tail(10))\n",
        "plt.plot(data.Close.tail(10))\n",
        "plt.legend(['predicted_price', 'close'])\n",
        "plt.grid()\n",
        "plt.show()"
      ],
      "execution_count": 136,
      "outputs": [
        {
          "output_type": "display_data",
          "data": {
            "image/png": "[encoded data removed]",
            "text/plain": [
              "<Figure size 1440x720 with 1 Axes>"
            ]
          },
          "metadata": {
            "tags": [],
            "needs_background": "light"
          }
        }
      ]
    }
  ]
}