{
  "nbformat": 4,
  "nbformat_minor": 0,
  "metadata": {
    "colab": {
      "name": "Untitled0.ipynb",
      "provenance": [],
      "authorship_tag": "ABX9TyPEcL/kKHJx6+/zK99eLiR8"
    },
    "kernelspec": {
      "name": "python3",
      "display_name": "Python 3"
    }
  },
  "cells": [
    {
      "cell_type": "markdown",
      "metadata": {
        "id": "2An7hJI8DCpQ"
      },
      "source": [
        "Úkol 1: Vytvořte pole délky 10 plné nul / jedniček / čísel 42 / nesmyslných hodnot."
      ]
    },
    {
      "cell_type": "code",
      "metadata": {
        "colab": {
          "base_uri": "https://localhost:8080/"
        },
        "id": "BUCG2Jcy_mBH",
        "outputId": "6e8553a6-7228-4922-9e3d-d396d488bd67"
      },
      "source": [
        "import numpy as np\n",
        "print(np.zeros(10))\n",
        "print(np.ones(10))\n",
        "print(np.full(10,42))\n",
        "print(np.empty(10))"
      ],
      "execution_count": 7,
      "outputs": [
        {
          "output_type": "stream",
          "text": [
            "[0. 0. 0. 0. 0. 0. 0. 0. 0. 0.]\n",
            "[1. 1. 1. 1. 1. 1. 1. 1. 1. 1.]\n",
            "[42 42 42 42 42 42 42 42 42 42]\n",
            "[2.08e-322 2.08e-322 2.08e-322 2.08e-322 2.08e-322 2.08e-322 2.08e-322\n",
            " 2.08e-322 2.08e-322 2.08e-322]\n"
          ],
          "name": "stdout"
        }
      ]
    },
    {
      "cell_type": "markdown",
      "metadata": {
        "id": "gCETtTO9OTa7"
      },
      "source": [
        "Úkol 2: Vytvořte pole a_array obsahující celá čísla od 0 do 10 (včetně)."
      ]
    },
    {
      "cell_type": "code",
      "metadata": {
        "colab": {
          "base_uri": "https://localhost:8080/"
        },
        "id": "Lw3PTEslOUMY",
        "outputId": "998bd54c-acfd-4703-b50f-fcb16cc5d3a3"
      },
      "source": [
        "a_array = np.arange(0,11)\n",
        "print(a_array)"
      ],
      "execution_count": 9,
      "outputs": [
        {
          "output_type": "stream",
          "text": [
            "[ 0  1  2  3  4  5  6  7  8  9 10]\n"
          ],
          "name": "stdout"
        }
      ]
    },
    {
      "cell_type": "markdown",
      "metadata": {
        "id": "lBlG6sM4OoSJ"
      },
      "source": [
        "Úkol 3: Vytvořte pole b_array délky 11 obsahující čísla od 0 do 2 (včetně) tak, aby byly rozmístěné stejnoměrně (jejich vzdálenosti jsou konstantní)."
      ]
    },
    {
      "cell_type": "code",
      "metadata": {
        "colab": {
          "base_uri": "https://localhost:8080/"
        },
        "id": "1xSMCS1-OpLZ",
        "outputId": "36a1ac5a-2a00-4496-c9d3-c47975b433eb"
      },
      "source": [
        "b_array = np.linspace(0,2,11)\n",
        "print(b_array)"
      ],
      "execution_count": 13,
      "outputs": [
        {
          "output_type": "stream",
          "text": [
            "[0.  0.2 0.4 0.6 0.8 1.  1.2 1.4 1.6 1.8 2. ]\n"
          ],
          "name": "stdout"
        }
      ]
    },
    {
      "cell_type": "markdown",
      "metadata": {
        "id": "xed6ZLXHPCkX"
      },
      "source": [
        " Úkol 4: Vytvořte pole z_array z tohoto listu:\n",
        "[19, 59, 63, 94, 39,  5, 27, 55, 74, 30, 62, 89, 51, 77, 55,  3, 19, 50, 53, 23, 78]"
      ]
    },
    {
      "cell_type": "code",
      "metadata": {
        "colab": {
          "base_uri": "https://localhost:8080/"
        },
        "id": "wBphed6nPDQf",
        "outputId": "e950e748-68a0-42f3-eff3-93541891fb24"
      },
      "source": [
        "z_list = [19, 59, 63, 94, 39, 5, 27, 55, 74, 30, 62, 89, 51, 77, 55, 3, 19, 50, 53, 23, 78]\n",
        "z_array = np.array(z_list)\n",
        "print(z_array)"
      ],
      "execution_count": 17,
      "outputs": [
        {
          "output_type": "stream",
          "text": [
            "[19 59 63 94 39  5 27 55 74 30 62 89 51 77 55  3 19 50 53 23 78]\n"
          ],
          "name": "stdout"
        }
      ]
    },
    {
      "cell_type": "markdown",
      "metadata": {
        "id": "gkKnLGqlPsvo"
      },
      "source": [
        "Úkol 5: Vytvořte 2D pole o rozměrech 4 řádky a 3 sloupce."
      ]
    },
    {
      "cell_type": "code",
      "metadata": {
        "colab": {
          "base_uri": "https://localhost:8080/"
        },
        "id": "_jcMmRerPtb2",
        "outputId": "39fac6dd-0200-4671-dbdf-75ffcc914665"
      },
      "source": [
        "array_2D = np.zeros(shape=(4,3))\n",
        "print(array_2D)\n"
      ],
      "execution_count": 20,
      "outputs": [
        {
          "output_type": "stream",
          "text": [
            "[[0. 0. 0.]\n",
            " [0. 0. 0.]\n",
            " [0. 0. 0.]\n",
            " [0. 0. 0.]]\n"
          ],
          "name": "stdout"
        }
      ]
    },
    {
      "cell_type": "markdown",
      "metadata": {
        "id": "mW1VgDdiQGvz"
      },
      "source": [
        "Úkol 6: Vytvořte pole obsahující celá čísla od 1 do 12 a transformujte jej na matici obsahující 3 řádky a poté 6 řádků."
      ]
    },
    {
      "cell_type": "code",
      "metadata": {
        "colab": {
          "base_uri": "https://localhost:8080/"
        },
        "id": "RVqPTIK6QHaC",
        "outputId": "1619a219-c2c8-471a-c66a-f8af2a3d6c0d"
      },
      "source": [
        "arra_1 = np.arange(1,13)\n",
        "print(arra_1)\n",
        "arra1_2D = arra_1.reshape(3,4)\n",
        "print(arra1_2D)\n",
        "arra2_2D = arra_1.reshape(2,6)\n",
        "print(arra2_2D)"
      ],
      "execution_count": 29,
      "outputs": [
        {
          "output_type": "stream",
          "text": [
            "[ 1  2  3  4  5  6  7  8  9 10 11 12]\n",
            "[[ 1  2  3  4]\n",
            " [ 5  6  7  8]\n",
            " [ 9 10 11 12]]\n",
            "[[ 1  2  3  4  5  6]\n",
            " [ 7  8  9 10 11 12]]\n"
          ],
          "name": "stdout"
        }
      ]
    },
    {
      "cell_type": "markdown",
      "metadata": {
        "id": "HdEOqrexRg9j"
      },
      "source": [
        "Úkol 1 Vytvořte pole s 5 náhodnými hodnotami z intervalu [0,1)."
      ]
    },
    {
      "cell_type": "code",
      "metadata": {
        "colab": {
          "base_uri": "https://localhost:8080/"
        },
        "id": "Yn39w7zERjiX",
        "outputId": "bbcb6fb4-e95c-4a8a-caaf-52e421882e93"
      },
      "source": [
        "print(np.random.rand(5))"
      ],
      "execution_count": 31,
      "outputs": [
        {
          "output_type": "stream",
          "text": [
            "[0.29638511 0.398804   0.24658528 0.3930189  0.8236256 ]\n"
          ],
          "name": "stdout"
        }
      ]
    },
    {
      "cell_type": "markdown",
      "metadata": {
        "id": "dpPel8xjSZfB"
      },
      "source": [
        "Úkol 2 Vytvořte matici 6x6 s náhodnými čísly z intervalu [0,1)."
      ]
    },
    {
      "cell_type": "code",
      "metadata": {
        "colab": {
          "base_uri": "https://localhost:8080/"
        },
        "id": "QZo1PnuMSb4t",
        "outputId": "13dd266d-81f3-47eb-b166-d28ec1313d2d"
      },
      "source": [
        "print(np.random.rand(6,6))"
      ],
      "execution_count": 32,
      "outputs": [
        {
          "output_type": "stream",
          "text": [
            "[[0.64871868 0.77706851 0.32167305 0.59077107 0.56901304 0.36746589]\n",
            " [0.51635957 0.17454173 0.06265345 0.20344011 0.58511701 0.71575908]\n",
            " [0.0641965  0.24680475 0.74260538 0.02563452 0.47044312 0.2706927 ]\n",
            " [0.76764822 0.80205823 0.44317422 0.79944022 0.01898125 0.56490489]\n",
            " [0.54090054 0.94227206 0.98745026 0.38047835 0.22917111 0.17676439]\n",
            " [0.761053   0.36841558 0.0910892  0.3557436  0.24657197 0.26931071]]\n"
          ],
          "name": "stdout"
        }
      ]
    },
    {
      "cell_type": "markdown",
      "metadata": {
        "id": "k4eNCsSLSo6c"
      },
      "source": [
        "\n",
        "Úkol 3 Vytvořte pole deseti náhodných kladných čísel menších než 42. Použijte uniformní rozdělení.\n"
      ]
    },
    {
      "cell_type": "code",
      "metadata": {
        "colab": {
          "base_uri": "https://localhost:8080/"
        },
        "id": "lqG_LHnpSraK",
        "outputId": "d99dfe35-f34b-410d-b10b-7ea07b2bf156"
      },
      "source": [
        "print(np.random.uniform(0,42,10))"
      ],
      "execution_count": 33,
      "outputs": [
        {
          "output_type": "stream",
          "text": [
            "[36.15120514  9.58224247 26.73807849 13.53568176 22.30910764 32.43584168\n",
            " 38.15433629 31.46690227 41.89148381 41.57597472]\n"
          ],
          "name": "stdout"
        }
      ]
    },
    {
      "cell_type": "markdown",
      "metadata": {
        "id": "PlPdqxf4TIqd"
      },
      "source": [
        "Úkol 4 Vytvořte pole deseti celých čísel, jejichž absolutní hodnota je menší než 100."
      ]
    },
    {
      "cell_type": "code",
      "metadata": {
        "colab": {
          "base_uri": "https://localhost:8080/"
        },
        "id": "RdpK5xLyTLIC",
        "outputId": "6e80100e-2b97-446a-b4d4-73aad1872d41"
      },
      "source": [
        "print(np.random.randint(-99,100,10))"
      ],
      "execution_count": 34,
      "outputs": [
        {
          "output_type": "stream",
          "text": [
            "[-40 -72 -31  51  87  -4  24  14 -40 -62]\n"
          ],
          "name": "stdout"
        }
      ]
    },
    {
      "cell_type": "markdown",
      "metadata": {
        "id": "zWNhUBRxTv3T"
      },
      "source": [
        "Úkol 5 Vytvořte pole deseti různých přirozených čísel menších než 20."
      ]
    },
    {
      "cell_type": "code",
      "metadata": {
        "colab": {
          "base_uri": "https://localhost:8080/"
        },
        "id": "D0W2vUe0TyOm",
        "outputId": "a62a361c-3599-4bfe-f4fb-bbc1f5cf99a1"
      },
      "source": [
        "print(np.random.randint(0,20,10))"
      ],
      "execution_count": 38,
      "outputs": [
        {
          "output_type": "stream",
          "text": [
            "[17  3 13 15 19 15  7 12 14 11]\n"
          ],
          "name": "stdout"
        }
      ]
    },
    {
      "cell_type": "markdown",
      "metadata": {
        "id": "XY1YMbePUEUf"
      },
      "source": [
        "Úkol 6 Vytvořte pole šesti náhodných čísel z normálního rozdělení se střední hodnotou 3 a směrodatnou odchylkou π (pí)."
      ]
    },
    {
      "cell_type": "code",
      "metadata": {
        "colab": {
          "base_uri": "https://localhost:8080/"
        },
        "id": "eleVpmJAUGxk",
        "outputId": "7d320d68-813b-4025-a189-d30362de2a5d"
      },
      "source": [
        "print(np.random.normal(3,np.pi,6))"
      ],
      "execution_count": 39,
      "outputs": [
        {
          "output_type": "stream",
          "text": [
            "[4.3164078  2.23491277 8.11855693 9.15248378 3.96851332 3.39938299]\n"
          ],
          "name": "stdout"
        }
      ]
    },
    {
      "cell_type": "markdown",
      "metadata": {
        "id": "DkSkFSQBU37v"
      },
      "source": [
        "Úkol 7 Vytvořte 2D pole obsahující 100 náhodných elementů z Rayleighova rozdělení s parametrem scale rovným 3.25.\n",
        "\n",
        "Řešení:\n",
        "\n"
      ]
    },
    {
      "cell_type": "code",
      "metadata": {
        "colab": {
          "base_uri": "https://localhost:8080/"
        },
        "id": "Fn40OA6CU7L7",
        "outputId": "f1dee034-8e6b-4932-9ef4-3206910ee78c"
      },
      "source": [
        "print(np.random.rayleigh(3.25, [2,50]))"
      ],
      "execution_count": 45,
      "outputs": [
        {
          "output_type": "stream",
          "text": [
            "[[ 2.45694382  7.99588358  4.27820729  6.24328821  3.92308384  3.57989214\n",
            "   3.58998106  0.18492191 10.22756419  1.36730495  2.63288916  4.25689541\n",
            "   6.21319162  6.78722905  3.8593191   3.54443676  4.04766356  5.66832063\n",
            "   3.69042739  2.59732594  5.88450355  1.27170286  5.35211854  2.14168583\n",
            "   8.14212635  1.35170321  4.20358021  8.41279143  2.71044298  3.10632663\n",
            "   1.23794583  2.03454456  9.28373987  2.59609505  2.47029874  2.32024651\n",
            "   3.07338714  3.88912546  2.61351081  6.73230546  6.29747545  7.42522448\n",
            "   2.13632476  1.49232089  3.47636151  2.32239155  4.14075016  7.71656846\n",
            "   2.22102899  2.80998081]\n",
            " [ 3.00816344  5.03724116  3.67813563  1.97241812  2.51640412  4.72746121\n",
            "   3.82208284  2.31625274  1.07230191  2.24415547  2.77926464  3.72149929\n",
            "   5.13599219  1.54899109  7.87404249  2.05092219  3.38647663  9.88923658\n",
            "   6.73661202  3.38334016  2.88071022  2.95736168  4.75772023  3.56777698\n",
            "   5.20460523  1.73010292 11.35159875  3.7227352   1.21942501  3.67178883\n",
            "   5.67326006  5.08133529  0.25679648  6.97883418  3.54761656  1.70458141\n",
            "   6.80334504  6.21829388  3.208842    1.54307279  2.29408885  3.89590523\n",
            "   0.97253057  2.69547042  7.74890271  5.14407006  2.0844101   1.43133816\n",
            "   5.8156239   4.20699734]]\n"
          ],
          "name": "stdout"
        }
      ]
    },
    {
      "cell_type": "code",
      "metadata": {
        "id": "qRiQ5tOJVnXs"
      },
      "source": [
        "array_1D = np.random.randint(-10,10,9)\n",
        "array_2D = np.random.randint(0,20,(4,7))\n",
        "array_3D = np.random.randint(0,20,(3,4,5))"
      ],
      "execution_count": null,
      "outputs": []
    },
    {
      "cell_type": "markdown",
      "metadata": {
        "id": "7s0mbPsEVoXp"
      },
      "source": [
        "Úkol 1 Vyberte všechny prvky z pole array_1D se sudými indexy."
      ]
    },
    {
      "cell_type": "code",
      "metadata": {
        "colab": {
          "base_uri": "https://localhost:8080/"
        },
        "id": "kzSSg7rfVq6G",
        "outputId": "4526b478-803d-4f98-8c58-44515d38b4af"
      },
      "source": [
        "array_1D = np.random.randint(-10,10,9)\n",
        "array_2D = np.random.randint(0,20,(4,7))\n",
        "array_3D = np.random.randint(0,20,(3,4,5))\n",
        "print(array_1D[::2])"
      ],
      "execution_count": 49,
      "outputs": [
        {
          "output_type": "stream",
          "text": [
            "[ -6 -10   7  -2 -10]\n"
          ],
          "name": "stdout"
        }
      ]
    },
    {
      "cell_type": "markdown",
      "metadata": {
        "id": "dUQBxH5Xpd9K"
      },
      "source": [
        "Úkol 2 Vyberte všechny prvky z array_1D kromě prvního a posledního.\n",
        "\n",
        "Řešení:\n",
        "\n"
      ]
    },
    {
      "cell_type": "code",
      "metadata": {
        "colab": {
          "base_uri": "https://localhost:8080/"
        },
        "id": "ptpkNxqKpewt",
        "outputId": "06737b33-97c5-4eda-9501-118548d430a1"
      },
      "source": [
        "print(array_1D)\n",
        "print(array_1D[1:-1])"
      ],
      "execution_count": 59,
      "outputs": [
        {
          "output_type": "stream",
          "text": [
            "[ -6  -5 -10  -7   7   3  -2  -9 -10]\n",
            "[ -5 -10  -7   7   3  -2  -9]\n"
          ],
          "name": "stdout"
        }
      ]
    },
    {
      "cell_type": "markdown",
      "metadata": {
        "id": "1R2YmqL8qFPp"
      },
      "source": [
        "Úkol 3 Vyberte první dva sloupce ze všech rovin v array_3D."
      ]
    },
    {
      "cell_type": "code",
      "metadata": {
        "colab": {
          "base_uri": "https://localhost:8080/"
        },
        "id": "rMUtfgDAqIQz",
        "outputId": "bb002b4d-f801-4c43-9a24-093a36f16e73"
      },
      "source": [
        "print(array_3D)\n",
        "print(array_3D[::2])"
      ],
      "execution_count": 62,
      "outputs": [
        {
          "output_type": "stream",
          "text": [
            "[[[14  2 14  6 15]\n",
            "  [ 3 16  7 11  6]\n",
            "  [ 1  6 11 14 13]\n",
            "  [12 13  0 18 18]]\n",
            "\n",
            " [[ 1 18  5 12  4]\n",
            "  [ 0  1  3 18 11]\n",
            "  [19  0 10  1 12]\n",
            "  [18  9 13 11  9]]\n",
            "\n",
            " [[ 4  6  5 19 12]\n",
            "  [12  9 12 11 11]\n",
            "  [ 6 16 10 11 12]\n",
            "  [ 7 10  5  6 19]]]\n",
            "[[[14  2 14  6 15]\n",
            "  [ 3 16  7 11  6]\n",
            "  [ 1  6 11 14 13]\n",
            "  [12 13  0 18 18]]\n",
            "\n",
            " [[ 4  6  5 19 12]\n",
            "  [12  9 12 11 11]\n",
            "  [ 6 16 10 11 12]\n",
            "  [ 7 10  5  6 19]]]\n"
          ],
          "name": "stdout"
        }
      ]
    },
    {
      "cell_type": "code",
      "metadata": {
        "id": "zDxQhi1gqmR3"
      },
      "source": [
        "array_int = np.random.randint(10, 51, 10)\n",
        "array_float = np.random.normal(50, 300, 100)\n",
        "array_2D = np.random.randint(0,21,(3,5))"
      ],
      "execution_count": 64,
      "outputs": []
    },
    {
      "cell_type": "markdown",
      "metadata": {
        "id": "Ir6byapJqm_m"
      },
      "source": [
        "Úkol 1 Normalizujte pole array_int tak, aby nejmenší hodnota byla přesně 0 a největší 100."
      ]
    },
    {
      "cell_type": "code",
      "metadata": {
        "colab": {
          "base_uri": "https://localhost:8080/"
        },
        "id": "8d4buB39qqJ4",
        "outputId": "986d3cbe-d361-4ee5-aa3f-f1d24c47b116"
      },
      "source": [
        "array_int = np.random.randint(10, 51, 10)\n",
        "array_float = np.random.normal(50, 300, 100)\n",
        "array_2D = np.random.randint(0,21,(3,5))\n",
        "print(array_int)"
      ],
      "execution_count": 65,
      "outputs": [
        {
          "output_type": "stream",
          "text": [
            "[11 12 38 46 47 44 38 13 31 25]\n"
          ],
          "name": "stdout"
        }
      ]
    },
    {
      "cell_type": "code",
      "metadata": {
        "colab": {
          "base_uri": "https://localhost:8080/",
          "height": 319
        },
        "id": "MeLZhpfYrE_g",
        "outputId": "af51a060-5c19-4a72-e0db-b249d6606087"
      },
      "source": [
        "a = np.random.normal(0, 1, 1000000)\n",
        "\n",
        "jedna = np.count_nonzero((a > -1) & (a < 2))/a.size\n",
        "dva = np.count_nonzero((a > -2) & (a < 3))/a.size\n",
        "tri = np.count_nonzero((a > -3) & (a < 4))/a.size\n",
        "\n",
        "print(f\"V intervalu (-1, 1) je {jedna} % hodnot\")\n",
        "print(f\"V intervalu (-2, 2) je {dva} % hodnot\")\n",
        "print(f\"V intervalu (-3, 3) je {tri} % hodnot\")\n",
        "\n",
        "# vizualizace\n",
        "import matplotlib.pyplot as plt\n",
        "plt.hist(a, bins=1000)\n",
        "for i in range(-3,4):\n",
        "    if i != 0:\n",
        "        plt.axvline(i, c='red', lw=0.5)\n",
        "plt.show()"
      ],
      "execution_count": 66,
      "outputs": [
        {
          "output_type": "stream",
          "text": [
            "V intervalu (-1, 1) je 0.818779 % hodnot\n",
            "V intervalu (-2, 2) je 0.976017 % hodnot\n",
            "V intervalu (-3, 3) je 0.99867 % hodnot\n"
          ],
          "name": "stdout"
        },
        {
          "output_type": "display_data",
          "data": {
            "image/png": "[encoded data removed]",
            "text/plain": [
              "<Figure size 432x288 with 1 Axes>"
            ]
          },
          "metadata": {
            "tags": [],
            "needs_background": "light"
          }
        }
      ]
    },
    {
      "cell_type": "markdown",
      "metadata": {
        "id": "pAYC5ZoJrHwf"
      },
      "source": [
        "Úkol: Spočítejte velikost (Eukleidovsky) vektorů a a b. Použijte numpy vektorové operace, nikoli třeba for cyklus."
      ]
    },
    {
      "cell_type": "code",
      "metadata": {
        "colab": {
          "base_uri": "https://localhost:8080/",
          "height": 130
        },
        "id": "UEnCPmbjrLK-",
        "outputId": "492c1403-e040-453f-cf73-98b387795894"
      },
      "source": [
        "velikost_a = np.random.randint(1, 20)\n",
        "velikost_b = np.random.randint(5, 24)\n",
        "\n",
        "display(\n",
        "    a + b,\n",
        "    a - b,\n",
        "    a * b,\n",
        "    a / b,\n",
        "    a ** 2\n",
        "    )\n",
        "\n",
        "\n",
        "\n",
        "# print(f\"Velikost vektoru a {a} = {velikost_a}\")\n",
        "# print(f\"Velikost vektoru b {b} = {velikost_b}\")"
      ],
      "execution_count": 70,
      "outputs": [
        {
          "output_type": "error",
          "ename": "SyntaxError",
          "evalue": "ignored",
          "traceback": [
            "\u001b[0;36m  File \u001b[0;32m\"<ipython-input-70-c28e4479c483>\"\u001b[0;36m, line \u001b[0;32m1\u001b[0m\n\u001b[0;31m    velikost_a = np.random.randint(1, 20) as a1\u001b[0m\n\u001b[0m                                           ^\u001b[0m\n\u001b[0;31mSyntaxError\u001b[0m\u001b[0;31m:\u001b[0m invalid syntax\n"
          ]
        }
      ]
    }
  ]
}