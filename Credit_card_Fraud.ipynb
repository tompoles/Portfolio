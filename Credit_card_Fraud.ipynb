{
  "nbformat": 4,
  "nbformat_minor": 0,
  "metadata": {
    "colab": {
      "name": "Credit_card_Fraud.ipynb",
      "provenance": [],
      "collapsed_sections": [],
      "authorship_tag": "ABX9TyOSPhcL2jyEkPCN/fa2mQjw",
      "include_colab_link": true
    },
    "kernelspec": {
      "name": "python3",
      "display_name": "Python 3"
    }
  },
  "cells": [
    {
      "cell_type": "markdown",
      "metadata": {
        "id": "view-in-github",
        "colab_type": "text"
      },
      "source": [
        "<a href=\"https://colab.research.google.com/github/tompoles/Portfolio/blob/project_3/Credit_card_Fraud.ipynb\" target=\"_parent\"><img src=\"https://colab.research.google.com/assets/colab-badge.svg\" alt=\"Open In Colab\"/></a>"
      ]
    },
    {
      "cell_type": "code",
      "metadata": {
        "colab": {
          "base_uri": "https://localhost:8080/"
        },
        "id": "8sLaK2exYZXd",
        "outputId": "87e5e2ca-faba-40d7-93e0-dc2c6cb37422"
      },
      "source": [
        "import numpy as np\n",
        "import pandas as pd\n",
        "import matplotlib.pyplot as plt\n",
        "import seaborn as sns\n",
        "from termcolor import colored as cl\n",
        "from google.colab import drive\n",
        "drive.mount('/gdrive')\n",
        "%cd /gdrive/MyDrive/Colab_Notebooks"
      ],
      "execution_count": 1,
      "outputs": [
        {
          "output_type": "stream",
          "text": [
            "Mounted at /gdrive\n",
            "/gdrive/MyDrive/Colab_Notebooks\n"
          ],
          "name": "stdout"
        }
      ]
    },
    {
      "cell_type": "code",
      "metadata": {
        "id": "8diypaM2ZPl0"
      },
      "source": [
        "df = pd.read_csv('/gdrive/MyDrive/Colab Notebooks/creditcard.csv')\n",
        "df.drop('Time', axis = 1, inplace = True)"
      ],
      "execution_count": 2,
      "outputs": []
    },
    {
      "cell_type": "code",
      "metadata": {
        "id": "9LXPyXA-a3LO"
      },
      "source": [
        "df.head(6)\n",
        "df.info()\n",
        "cases = len(df)"
      ],
      "execution_count": null,
      "outputs": []
    },
    {
      "cell_type": "code",
      "metadata": {
        "id": "y_nQZ8M1a_Tp"
      },
      "source": [
        "df.describe()"
      ],
      "execution_count": null,
      "outputs": []
    },
    {
      "cell_type": "code",
      "metadata": {
        "id": "TVKqwDWgce5p"
      },
      "source": [
        "Not_fraud_count = len(df[df.Class == 0])\n",
        "Fraud_count = len(df[df.Class == 1])\n",
        "Fraund_percentage = round(((Fraud_count/Not_fraud_count)*100),2)"
      ],
      "execution_count": 5,
      "outputs": []
    },
    {
      "cell_type": "code",
      "metadata": {
        "colab": {
          "base_uri": "https://localhost:8080/"
        },
        "id": "lOlWuv8LhAUi",
        "outputId": "1457620d-c526-4866-95f6-1c40038fb388"
      },
      "source": [
        "print(cl('Cases info', attrs = ['bold']))\n",
        "print('--'*20)\n",
        "print(cl(f'Number of cases is {cases}', attrs=['bold']))\n",
        "print(cl(f'Number of NOT fraud cases is {Not_fraud_count}', attrs=['bold']))\n",
        "print(cl(f'Number of fraud cases is {Fraud_count}', attrs=['bold']))\n",
        "print(cl(f'The percentage of fraud cases is {Fraund_percentage}%', attrs=['bold']))\n",
        "print('--'*20)"
      ],
      "execution_count": 6,
      "outputs": [
        {
          "output_type": "stream",
          "text": [
            "\u001b[1mCases info\u001b[0m\n",
            "----------------------------------------\n",
            "\u001b[1mNumber of cases is 284807\u001b[0m\n",
            "\u001b[1mNumber of NOT fraud cases is 284315\u001b[0m\n",
            "\u001b[1mNumber of fraud cases is 492\u001b[0m\n",
            "\u001b[1mThe percentage of fraud cases is 0.17%\u001b[0m\n",
            "----------------------------------------\n"
          ],
          "name": "stdout"
        }
      ]
    },
    {
      "cell_type": "code",
      "metadata": {
        "id": "OkqwV9elu8FD"
      },
      "source": [
        "not_fraud =df[df.Class == 0]\n",
        "fraud = df[df.Class == 1]"
      ],
      "execution_count": 7,
      "outputs": []
    },
    {
      "cell_type": "code",
      "metadata": {
        "colab": {
          "base_uri": "https://localhost:8080/"
        },
        "id": "Zv1C0vDvl3Y_",
        "outputId": "a99f6072-8d69-41fc-a7fb-2c0a5dad3e22"
      },
      "source": [
        "print(cl('Cases statistical info', attrs = ['bold']))\n",
        "print('--'*20)\n",
        "print(cl('NON-FRAUD CASE AMOUNT STATS', attrs = ['bold']))\n",
        "print(fraud.Amount.describe())\n",
        "print('--'*20)\n",
        "print(cl('FRAUD CASE AMOUNT STATS', attrs = ['bold']))\n",
        "print(fraud.Amount.describe())"
      ],
      "execution_count": 16,
      "outputs": [
        {
          "output_type": "stream",
          "text": [
            "\u001b[1mCases statistical info\u001b[0m\n",
            "----------------------------------------\n",
            "\u001b[1mNON-FRAUD CASE AMOUNT STATS\u001b[0m\n",
            "count     492.000000\n",
            "mean      122.211321\n",
            "std       256.683288\n",
            "min         0.000000\n",
            "25%         1.000000\n",
            "50%         9.250000\n",
            "75%       105.890000\n",
            "max      2125.870000\n",
            "Name: Amount, dtype: float64\n",
            "----------------------------------------\n",
            "\u001b[1mFRAUD CASE AMOUNT STATS\u001b[0m\n",
            "count     492.000000\n",
            "mean      122.211321\n",
            "std       256.683288\n",
            "min         0.000000\n",
            "25%         1.000000\n",
            "50%         9.250000\n",
            "75%       105.890000\n",
            "max      2125.870000\n",
            "Name: Amount, dtype: float64\n"
          ],
          "name": "stdout"
        }
      ]
    },
    {
      "cell_type": "code",
      "metadata": {
        "id": "U-v3t-KRwzIB"
      },
      "source": [
        ""
      ],
      "execution_count": null,
      "outputs": []
    }
  ]
}